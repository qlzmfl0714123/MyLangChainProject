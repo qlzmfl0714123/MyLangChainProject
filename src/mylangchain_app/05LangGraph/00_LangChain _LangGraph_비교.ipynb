{
  "cells": [
    {
      "cell_type": "markdown",
      "metadata": {},
      "source": [
        "#### LangChain vs LangGraph (feat. LangGraph 개념 설명)\n",
        "* LangGraph의 개념과 주요 기능을 이해하고, 차이점을 비교합니다."
      ]
    },
    {
      "cell_type": "code",
      "execution_count": 1,
      "metadata": {},
      "outputs": [],
      "source": [
        "# poetry add langgraph"
      ]
    },
    {
      "cell_type": "code",
      "execution_count": 2,
      "metadata": {},
      "outputs": [
        {
          "name": "stdout",
          "output_type": "stream",
          "text": [
            "sk\n",
            "RD\n"
          ]
        }
      ],
      "source": [
        "from dotenv import load_dotenv\n",
        "import os\n",
        "\n",
        "load_dotenv()\n",
        "\n",
        "OPENAI_API_KEY = os.getenv(\"OPENAI_API_KEY\")\n",
        "print(OPENAI_API_KEY[:2])\n",
        "\n",
        "UPSTAGE_API_KEY = os.getenv(\"UPSTAGE_API_KEY\")\n",
        "print(UPSTAGE_API_KEY[30:])"
      ]
    },
    {
      "cell_type": "code",
      "execution_count": 3,
      "metadata": {},
      "outputs": [
        {
          "name": "stderr",
          "output_type": "stream",
          "text": [
            "c:\\Users\\user\\AppData\\Local\\pypoetry\\Cache\\virtualenvs\\mylangchain-app-SBe-Yh6W-py3.12\\Lib\\site-packages\\tqdm\\auto.py:21: TqdmWarning: IProgress not found. Please update jupyter and ipywidgets. See https://ipywidgets.readthedocs.io/en/stable/user_install.html\n",
            "  from .autonotebook import tqdm as notebook_tqdm\n"
          ]
        },
        {
          "name": "stdout",
          "output_type": "stream",
          "text": [
            "client=<openai.resources.chat.completions.completions.Completions object at 0x000001B61A9FA720> async_client=<openai.resources.chat.completions.completions.AsyncCompletions object at 0x000001B61AA8E300> model_name='solar-pro' temperature=0.5 model_kwargs={} upstage_api_key=SecretStr('**********') upstage_api_base='https://api.upstage.ai/v1'\n",
            "**LangGraph**는 **LLM(Large Language Model)을 기반으로 한 복잡한 상태(stateful) 멀티모달 애플리케이션**을 구축하기 위한 오픈소스 프레임워크입니다. LangChain과 통합되어 설계되었으며, **상태 관리, 메모리, 복잡한 워크플로우**를 지원하는 것이 핵심 특징입니다.  \n",
            "\n",
            "### 📌 **주요 개념 및 특징**\n",
            "1. **상태(State) 관리**  \n",
            "   - 대화, 작업 흐름, 사용자 세션 등에서 **지속적인 상태(state)**를 유지하며 LLM과 상호작용할 수 있습니다.  \n",
            "   - 예: 다단계 폼 작성, 대화 히스토리 추적, 게임 상태 저장 등.\n",
            "\n",
            "2. **그래프 기반 워크플로우**  \n",
            "   - **노드(Node)**와 **엣지(Edge)**로 구성된 방향성 그래프로 복잡한 로직을 시각화/구현할 수 있습니다.  \n",
            "     - **노드**: LLM 호출, 도구 사용, 조건 분기 등  \n",
            "     - **엣지**: 상태 전이 규칙 (예: \"사용자 입력이 '예'면 다음 노드로 이동\").\n",
            "\n",
            "3. **LangChain과의 통합**  \n",
            "   - LangChain의 도구(Tools), 체이닝(Chaining), 메모리(Memory) 기능을 활용해 확장성이 뛰어납니다.  \n",
            "   - 예: 외부 API 호출, 데이터베이스 연동, 프롬프트 관리.\n",
            "\n",
            "4. **확장성**  \n",
            "   - 커스텀 노드/엣지를 추가해 비즈니스 로직에 맞춰 유연하게 확장 가능합니다.  \n",
            "   - 비동기 처리 및 병렬 실행 지원.\n",
            "\n",
            "5. **사용 사례**  \n",
            "   - **챗봇**: 다단계 대화 관리 (예: 예약 시스템).  \n",
            "   - **에이전트 시스템**: 상태 기반 작업 자동화.  \n",
            "   - **게임/시뮬레이션**: 동적 시나리오 처리.  \n",
            "\n",
            "### 🛠 **예시 코드 (간단한 그래프)**\n",
            "```python\n",
            "from langgraph import State, BaseGraph\n",
            "\n",
            "class MyState(State):\n",
            "    user_input: str\n",
            "    step: int = 0\n",
            "\n",
            "graph = BaseGraph(MyState)\n",
            "\n",
            "@graph.node()\n",
            "def start(state: MyState):\n",
            "    state.step = 1\n",
            "    return {\"end\": True}  # 다음 노드 지정\n",
            "\n",
            "@graph.node()\n",
            "def process_input(state: MyState):\n",
            "    print(f\"User said: {state.user_input}\")\n",
            "    return {\"end\": True}\n",
            "\n",
            "# 그래프 연결: start -> process_input\n",
            "graph.add_edge(\"start\", \"process_input\")\n",
            "\n",
            "# 실행\n",
            "state = MyState(user_input=\"Hello\")\n",
            "for event in graph.stream(state):\n",
            "    print(event)\n",
            "```\n",
            "\n",
            "### 🔍 **LangChain vs. LangGraph**\n",
            "| **기능**          | **LangChain**               | **LangGraph**                     |\n",
            "|-------------------|----------------------------|-----------------------------------|\n",
            "| **주목적**        | 간단한 LLM 체이닝           | 상태 기반 복잡한 워크플로우        |\n",
            "| **상태 관리**     | 기본 메모리 지원            | 명시적 상태 머신/그래프 관리       |\n",
            "| **워크플로우**    | 선형 또는 간단한 분기       | 그래프 기반 다단계 흐름           |\n",
            "| **확장성**        | 도구/모델 통합 중심         | 상태 전이 로직 + 도구 통합         |\n",
            "\n",
            "### 📚 **공식 문서 및 리소스**\n",
            "- [LangGraph GitHub](https://github.com/langchain-ai/langgraph)  \n",
            "- [LangGraph 문서](https://langchain-ai.github.io/langgraph/)  \n",
            "\n",
            "LangGraph는 **LLM 애플리케이션을 \"상태 머신\"처럼 설계**할 때 특히 유용하며, 복잡한 비즈니스 로직을 구현할 수 있는 강력한 도구입니다.\n"
          ]
        }
      ],
      "source": [
        "# from langchain_openai import ChatOpenAI\n",
        "\n",
        "# llm = ChatOpenAI(model='gpt-4o-mini') # 테스트의 경우에는 작은 모델을 사용합니다\n",
        "\n",
        "from langchain_upstage import ChatUpstage\n",
        "llm = ChatUpstage(\n",
        "        model=\"solar-pro\",\n",
        "        base_url=\"https://api.upstage.ai/v1\",\n",
        "        temperature=0.5\n",
        "    )\n",
        "print(llm)\n",
        "\n",
        "query = 'LangGraph는 무엇인가요?'\n",
        "ai_msg = llm.invoke(query)\n",
        "print(ai_msg.content)"
      ]
    },
    {
      "cell_type": "markdown",
      "metadata": {},
      "source": [
        "#### LangGraph의 기본개념\n",
        "* `state`는 LangGraph 에이전트의 state를 나타내는 데이터 구조입니다.\n",
        "* `state`는 `TypedDict`를 사용하여 정의되며, 이는 Python의 타입 힌팅을 통해 구조를 명확히 합니다.\n",
        "    * 간단하게 `messages`라는 필드만 있습니다.\n",
        "    * 필요에 따라 다양한 값들을 활용할 수 있습니다.\n",
        "* `state`는 에이전트의 동작을 결정하는 데 사용되며, 각 노드에서 state를 업데이트하거나 참조할 수 있습니다.\n",
        "* `state`는 LangGraph의 노드 간에 전달되며, 에이전트의 state 전이를 관리합니다."
      ]
    },
    {
      "cell_type": "code",
      "execution_count": 4,
      "metadata": {},
      "outputs": [],
      "source": [
        "from typing import Annotated # 타입 힌트를 사용하기 위해 \n",
        "from typing_extensions import TypedDict # 구조화된 딕셔너리 타입을 정의하기 위해 \n",
        "\n",
        "from langgraph.graph.message import add_messages \n",
        "from langchain_core.messages import AnyMessage # LangChain에서 사용하는 모든 종류의 메시지(예: HumanMessage, AIMessage, ToolMessage)\n",
        "\n",
        "# AgentState는 에이전트의 현재 상태를 나타내는 딕셔너리 타입을 정의합니다.\n",
        "# TypedDict를 사용하면 딕셔너리가 어떤 키와 값 타입을 가져야 하는지 명확하게 지정할 수 있습니다.\n",
        "class AgentState(TypedDict):\n",
        "    # 'messages' 키는 에이전트의 대화 기록을 저장합니다.\n",
        "    # 이 목록에는 LangChain 메시지 객체(AnyMessage)가 들어갑니다.\n",
        "    # LangGraph가 이 상태를 처리할 때, 새로운 메시지가 추가되면\n",
        "    # 기존 메시지 목록의 끝에 자동으로 추가되도록(append) 설정합니다.\n",
        "    messages: list[Annotated[AnyMessage, add_messages]]"
      ]
    },
    {
      "cell_type": "markdown",
      "metadata": {},
      "source": [
        "- 위에 선언한 `AgentState`를 활용하여 `StateGraph`를 생성합니다."
      ]
    },
    {
      "cell_type": "code",
      "execution_count": 5,
      "metadata": {},
      "outputs": [
        {
          "name": "stdout",
          "output_type": "stream",
          "text": [
            "<class 'langgraph.graph.state.StateGraph'>\n"
          ]
        }
      ],
      "source": [
        "from langgraph.graph import StateGraph\n",
        "\n",
        "graph_builder = StateGraph(AgentState)\n",
        "print(type(graph_builder))"
      ]
    },
    {
      "cell_type": "markdown",
      "metadata": {},
      "source": [
        "- `graph`에 추가할 `node`를 생성합니다\n",
        "-  `node`는 LangGraph에서 실행되는 개별적인 작업 단위를 의미합니다. \n",
        "    - 각 노드는 특정 기능을 수행하는 독립적인 컴포넌트로, 예를 들어 텍스트 생성, 데이터 처리, 또는 의사 결정과 같은 작업을 담당할 수 있습니다.\n",
        "    - `node`는 기본적으로 함수(function)로 정의되고, 뒤에서 다루지만 다른 에이전트(agent)를 활용할 수도 있습니다"
      ]
    },
    {
      "cell_type": "code",
      "execution_count": 6,
      "metadata": {},
      "outputs": [],
      "source": [
        "# Node 역할을 하는 함수의 인자로 state 객체를 사용함  LLM을 호출하는 노드\n",
        "def generate(state: AgentState) -> AgentState:\n",
        "    \"\"\"\n",
        "    `generate` 노드는 사용자의 질문을 받아서 응답을 생성하는 노드입니다.\n",
        "    \"\"\"\n",
        "    messages = state['messages']\n",
        "    ai_message = llm.invoke(messages)\n",
        "    return {'messages': [ai_message]}"
      ]
    },
    {
      "cell_type": "markdown",
      "metadata": {},
      "source": [
        "- `node`를 생성한 후에 `edge`로 연결합니다\n",
        "- `edge`는 노드들 사이의 연결을 나타내며, 데이터와 제어 흐름의 경로를 정의합니다. \n",
        "    - 엣지를 통해 한 노드의 출력이 다음 노드의 입력으로 전달되어, 전체적인 워크플로우가 형성됩니다.\n",
        "    - `node`와 `edge`의 조합은 방향성 그래프(Directed Graph)를 형성하며, 이를 통해 복잡한 AI 에이전트의 행동 흐름을 구조화할 수 있습니다"
      ]
    },
    {
      "cell_type": "code",
      "execution_count": 7,
      "metadata": {},
      "outputs": [
        {
          "data": {
            "text/plain": [
              "<langgraph.graph.state.StateGraph at 0x1b61cb3bfe0>"
            ]
          },
          "execution_count": 7,
          "metadata": {},
          "output_type": "execute_result"
        }
      ],
      "source": [
        "# LLM을 호출하는 generate 함수를 Node로 추가함\n",
        "graph_builder.add_node('generate', generate)"
      ]
    },
    {
      "cell_type": "markdown",
      "metadata": {},
      "source": [
        "- 모든 그래프는 `START(시작)`와 `END(종료)`가 있습니다\n",
        "    - `END`를 explicit하게 선언하지 않는 경우도 종종 있지만, 가독성을 위해 작성해주는 것을 권장합니다"
      ]
    },
    {
      "cell_type": "code",
      "execution_count": 8,
      "metadata": {},
      "outputs": [
        {
          "data": {
            "text/plain": [
              "<langgraph.graph.state.StateGraph at 0x1b61cb3bfe0>"
            ]
          },
          "execution_count": 8,
          "metadata": {},
          "output_type": "execute_result"
        }
      ],
      "source": [
        "from langgraph.graph import START, END\n",
        "\n",
        "graph_builder.add_edge(START, 'generate')\n",
        "graph_builder.add_edge('generate', END)"
      ]
    },
    {
      "cell_type": "markdown",
      "metadata": {},
      "source": [
        "- `node`를 생성하고 `edge`로 연결한 후에 `compile` 메서드를 호출하여 `Graph`를 생성합니다"
      ]
    },
    {
      "cell_type": "code",
      "execution_count": 9,
      "metadata": {},
      "outputs": [
        {
          "name": "stdout",
          "output_type": "stream",
          "text": [
            "<class 'langgraph.graph.state.CompiledStateGraph'>\n"
          ]
        }
      ],
      "source": [
        "graph = graph_builder.compile()\n",
        "print(type(graph))"
      ]
    },
    {
      "cell_type": "markdown",
      "metadata": {},
      "source": [
        "- `compile` 후에는 그래프를 시각화하여 확인할 수 있습니다\n",
        "- 의도한대로 그래프가 생성됐는지 확인하는 습관을 기르는 것이 좋습니다\n",
        "    - `git`에서 코드 작업물을 commit하기 전에 `git diff`를 통해 변경사항을 확인하는 것과 같습니다"
      ]
    },
    {
      "cell_type": "code",
      "execution_count": 10,
      "metadata": {},
      "outputs": [],
      "source": [
        "#from IPython.display import display, Image\n",
        "\n",
        "#display(Image(graph.get_graph().draw_mermaid_png(max_retries=5, retry_delay=2.0)))"
      ]
    },
    {
      "cell_type": "code",
      "execution_count": 11,
      "metadata": {},
      "outputs": [
        {
          "name": "stdout",
          "output_type": "stream",
          "text": [
            "Mermaid Code:\n",
            "---\n",
            "config:\n",
            "  flowchart:\n",
            "    curve: linear\n",
            "---\n",
            "graph TD;\n",
            "\t__start__([<p>__start__</p>]):::first\n",
            "\tgenerate(generate)\n",
            "\t__end__([<p>__end__</p>]):::last\n",
            "\t__start__ --> generate;\n",
            "\tgenerate --> __end__;\n",
            "\tclassDef default fill:#f2f0ff,line-height:1.2\n",
            "\tclassDef first fill-opacity:0\n",
            "\tclassDef last fill:#bfb6fc\n",
            "\n"
          ]
        }
      ],
      "source": [
        "# 대체 방법\n",
        "mermaid_code = graph.get_graph().draw_mermaid()\n",
        "print(\"Mermaid Code:\")\n",
        "print(mermaid_code)"
      ]
    },
    {
      "cell_type": "markdown",
      "metadata": {},
      "source": [
        "* https://mermaid.live/ 에서  mermain_code 로 직접 확인한다.\n",
        "\n",
        "* [Graph 이미지](https://mermaidchart.com/play?utm_source=mermaid_live_editor&utm_medium=share#pako:eNpVkN1ugjAUx1-lObvRBLCAVq3Gm_kIu9q6mAqn0AwKKSWZM777KirR3vR8_f7n4wxZkyNwKKxsS_Kx3wgj3OHQOWn9N_natrvR287a3feUc6607dy1sECDVjqcPIzpDUeTj_Bgj2glb-QoSsJwRx745ll0yNz5IZF5uNujIjkq2VeOKF1V_E0liioVVNpgWKIuSsfjKHkBhoGH8rBpZabdidOXgutYd7mjOjKVQeBPonPgzvYYQI22llcXzsIQIsCVWKMA7s1c2h8Bwlw800rz2TT1A7NNX5TAlaw67_Vt7tfaa-mPXY9R6xdE-970xgFP4kED-Bl-gaeURYyyNEmXbJGuaDIP4OTDLIqT-XoVp2tK54ytLwH8DV1ptFou6NOLL_-94J8W) "
      ]
    },
    {
      "cell_type": "code",
      "execution_count": 12,
      "metadata": {},
      "outputs": [
        {
          "name": "stdout",
          "output_type": "stream",
          "text": [
            "<class 'dict'>\n",
            "<class 'langchain_core.messages.ai.AIMessage'>\n",
            "[AIMessage(content='**LangGraph**와 **LangChain**은 모두 LLM(Large Language Model)을 활용한 애플리케이션 개발을 위한 프레임워크이지만, 목적과 기능에서 차이가 있습니다. 아래에 각각의 개념과 차이점을 정리했습니다.\\n\\n---\\n\\n### **1. LangGraph란?**\\n- **정의**: LangGraph는 **상태(State)가 있는 대화형 LLM 애플리케이션**을 구축하기 위한 프레임워크입니다.  \\n- **주요 특징**:\\n  - **그래프 기반 워크플로우**: 대화 흐름을 노드와 엣지로 표현해 복잡한 상태 관리를 지원합니다.\\n  - **메모리 및 상태 관리**: 대화 기록을 유지하며, 사용자 입력에 따라 동적으로 다음 단계를 결정할 수 있습니다.\\n  - **LangChain과의 통합**: LangChain의 컴포넌트(예: 체인, 메모리)를 활용해 확장 가능합니다.\\n- **사용 사례**:\\n  - 다단계 폼 채우기, 챗봇 대화 상태 추적, 게임/튜토리얼 같은 상태 의존적 애플리케이션.\\n\\n> 📌 **예시**: 사용자가 \"예약하기\" → \"날짜 선택\" → \"확인\"과 같은 단계를 거칠 때, LangGraph는 각 상태를 추적하며 LLM의 응답을 조정합니다.\\n\\n---\\n\\n### **2. LangChain이란?**\\n- **정의**: LangChain은 LLM을 활용한 **모듈식 애플리케이션 개발**을 위한 범용 프레임워크입니다.  \\n- **주요 특징**:\\n  - **체인(Chain)**: 여러 컴포넌트(프로메테우스, 툴사용, 메모리 등)를 조합해 파이프라인을 구성합니다.\\n  - **모듈성**: 데이터 로딩, 청킹, 임베딩, 프롬프트 관리 등 다양한 기능을 제공합니다.\\n  - **유연성**: 단일 질의 응답부터 복잡한 워크플로우까지 지원.\\n- **사용 사례**:\\n  - 문서 QA 시스템, 간단한 챗봇, 데이터 분석 도구, RAG(Retrieval-Augmented Generation) 등.\\n\\n> 📌 **예시**: \"문서를 검색해 답변 생성\" → LangChain은 검색, 요약, 응답 생성 단계를 체인으로 연결합니다.\\n\\n---\\n\\n### **3. LangGraph vs. LangChain: 주요 차이점**\\n| **기준**          | **LangGraph**                          | **LangChain**                          |\\n|-------------------|----------------------------------------|----------------------------------------|\\n| **주목적**        | 상태 기반 대화 흐름 관리               | 모듈식 LLM 애플리케이션 구축           |\\n| **아키텍처**      | 그래프(노드/엣지)로 상태 전이 표현     | 체인(선형/분기)으로 컴포넌트 연결       |\\n| **상태 관리**     | 내장 상태 추적 및 조건부 라우팅        | 외부 메모리 모듈(예: ConversationBufferMemory) 필요 |\\n| **복잡성**        | 다단계 대화 또는 게임 같은 동적 흐름   | 단일/다중 단계 작업 (RAG, 요약 등)     |\\n| **통합**          | LangChain 컴포넌트 사용 가능           | LangGraph와 결합해 확장 가능           |\\n\\n---\\n\\n### **4. 함께 사용하는 경우**\\n- **LangChain**으로 기본적인 LLM 체인을 구성한 후, **LangGraph**로 복잡한 대화 상태를 관리할 수 있습니다.  \\n  예:  \\n  - LangChain: 문서 검색 → LLM 응답 생성  \\n  - LangGraph: 사용자 입력에 따라 \"검색 모드\" ↔ \"대화 모드\" 전환.\\n\\n---\\n\\n### **5. 요약**\\n- **LangChain**은 LLM을 활용한 **범용 애플리케이션** 개발에 적합하고,  \\n- **LangGraph**는 **상태 의존적 대화 흐름**을 설계할 때 유용합니다.  \\n- 두 도구는 서로 보완적이며, 함께 사용해 강력한 애플리케이션을 구축할 수 있습니다.  \\n\\n궁금한 점이 있다면 추가 질문해 주세요! 😊', additional_kwargs={'refusal': None}, response_metadata={'token_usage': {'completion_tokens': 701, 'prompt_tokens': 25, 'total_tokens': 726, 'completion_tokens_details': {'accepted_prediction_tokens': 0, 'audio_tokens': 0, 'reasoning_tokens': 0, 'rejected_prediction_tokens': 0}, 'prompt_tokens_details': {'audio_tokens': 0, 'cached_tokens': 0}}, 'model_name': 'solar-pro2-250909', 'system_fingerprint': None, 'id': '852f2483-7948-4206-9bd8-2836f5d5580b', 'service_tier': None, 'finish_reason': 'stop', 'logprobs': None}, id='run--7ba99b00-ed6f-47ea-944e-26760d67d23e-0', usage_metadata={'input_tokens': 25, 'output_tokens': 701, 'total_tokens': 726, 'input_token_details': {'audio': 0, 'cache_read': 0}, 'output_token_details': {'audio': 0, 'reasoning': 0}})]\n"
          ]
        }
      ],
      "source": [
        "from langchain_core.messages import HumanMessage\n",
        "\n",
        "query = 'LangGraph는 무엇인가요? LangChain과의 차이점은 무엇인가요?'\n",
        "initial_state = {'messages': [HumanMessage(query)]}\n",
        "result = graph.invoke(initial_state)\n",
        "\n",
        "print(type(result))\n",
        "print(type(result['messages'][0]))\n",
        "print(result['messages'])"
      ]
    },
    {
      "cell_type": "markdown",
      "metadata": {},
      "source": [
        "#### 2개의 AI 에이전트 협력하기\n",
        "* 첫번째 AI 에이전트\n",
        "    * 사용자의 질문을 분석하고 핵심 키워드와 배경 정보를 추가하는 역할\n",
        "* 두번째 AI 에이전트\n",
        "    * 첫번째 에이전트가 제공한 정보를 기반으로 좀 더 자세한 답변을 생성하는 역할    "
      ]
    },
    {
      "cell_type": "code",
      "execution_count": 13,
      "metadata": {},
      "outputs": [
        {
          "name": "stdout",
          "output_type": "stream",
          "text": [
            "solar-pro\n"
          ]
        }
      ],
      "source": [
        "print(llm.model_name)"
      ]
    },
    {
      "cell_type": "code",
      "execution_count": 14,
      "metadata": {},
      "outputs": [],
      "source": [
        "from langgraph.graph import StateGraph\n",
        "from pprint import pprint\n",
        "\n",
        "#첫번째 AI 에이전트\n",
        "def agent_1(state):\n",
        "    \"\"\"사용자의 질문을 분석하고 핵심 키워드아 배경 정보를 추가하는 역할\"\"\"\n",
        "    query = state['query']\n",
        "    \n",
        "    keywords = llm.invoke(f'질문: {query}\\n 이 질문에서 핵심 키워드를 3~5개 추출해 주세요.')\n",
        "\n",
        "     # 질문과 관련된 배경 정보 제공\n",
        "    background_info = llm.invoke(f\"질문: {query}\\n 이 질문을 이해하는 데 도움이 될 만한 추가 정보를 제공해 주세요.\")\n",
        "\n",
        "    print(f\"\\n[Agent 1] 원본 질문: {query}\")\n",
        "    print(f\"[Agent 1] 핵심 키워드: {keywords}\")\n",
        "    print(f\"[Agent 1] 배경 정보: {background_info}\\n\")\n",
        "\n",
        "    return {\"refined_query\": query, \"keywords\": keywords, \"background_info\": background_info}"
      ]
    },
    {
      "cell_type": "code",
      "execution_count": 15,
      "metadata": {},
      "outputs": [],
      "source": [
        "# 두번째 AI 에이전트\n",
        "def agent_2(state):\n",
        "    \"\"\"첫번째 에이전트가 제공한 정보를 기반으로 좀 더 자세한 답변을 생성하는 역할\"\"\"\n",
        "    refined_query = state['refined_query']\n",
        "    keywords = state['keywords']\n",
        "    background_info = state['background_info']\n",
        "\n",
        "    # Agent 1이 제공한 정보를 활용하여 최종 답변 생성\n",
        "    final_response = llm.invoke(\n",
        "        f\"질문: {refined_query}\\n\"\n",
        "        f\"핵심 키워드: {keywords}\\n\"\n",
        "        f\"배경 정보: {background_info}\\n\"\n",
        "        f\"위 정보를 바탕으로 질문에 대한 깊이 있는 답변을 작성해 주세요.\"\n",
        "    )\n",
        "\n",
        "    print(f\"[Agent 2] 최종 답변 생성 완료\\n\")\n",
        "    \n",
        "    return {\"final_answer\": final_response}"
      ]
    },
    {
      "cell_type": "code",
      "execution_count": 16,
      "metadata": {},
      "outputs": [
        {
          "name": "stdout",
          "output_type": "stream",
          "text": [
            "<class 'langgraph.graph.state.StateGraph'>\n",
            "{<class 'dict'>: {'__root__': <langgraph.channels.last_value.LastValue object at 0x000001B61CC49C40>}}\n"
          ]
        }
      ],
      "source": [
        "# WorkFlow 역할을 하는 StateGraph 객체를 생성하기\n",
        "workflow = StateGraph(dict)\n",
        "\n",
        "print(type(workflow))\n",
        "print(workflow.schemas)"
      ]
    },
    {
      "cell_type": "code",
      "execution_count": 17,
      "metadata": {},
      "outputs": [
        {
          "data": {
            "text/plain": [
              "{'agent_1': StateNodeSpec(runnable=agent_1(tags=None, recurse=True, explode_args=False, func_accepts={}), metadata=None, input_schema=<class 'dict'>, retry_policy=None, cache_policy=None, ends=(), defer=False),\n",
              " 'agent_2': StateNodeSpec(runnable=agent_2(tags=None, recurse=True, explode_args=False, func_accepts={}), metadata=None, input_schema=<class 'dict'>, retry_policy=None, cache_policy=None, ends=(), defer=False)}"
            ]
          },
          "execution_count": 17,
          "metadata": {},
          "output_type": "execute_result"
        }
      ],
      "source": [
        "# WorkFlow에 Node 추가하기\n",
        "workflow.add_node(\"agent_1\", agent_1)\n",
        "workflow.add_node(\"agent_2\", agent_2)\n",
        "\n",
        "workflow.nodes"
      ]
    },
    {
      "cell_type": "code",
      "execution_count": 18,
      "metadata": {},
      "outputs": [
        {
          "name": "stdout",
          "output_type": "stream",
          "text": [
            "{('agent_1', 'agent_2'), ('__start__', 'agent_1')}\n"
          ]
        }
      ],
      "source": [
        "# WorkFlow에 Edge 추가하기\n",
        "# agent_1이 먼저 실행됨\n",
        "workflow.set_entry_point(\"agent_1\")\n",
        "# agent_1 -> agent_2\n",
        "workflow.add_edge(\"agent_1\",\"agent_2\")\n",
        "\n",
        "print(workflow.edges)"
      ]
    },
    {
      "cell_type": "code",
      "execution_count": 19,
      "metadata": {},
      "outputs": [
        {
          "name": "stdout",
          "output_type": "stream",
          "text": [
            "<class 'langgraph.graph.state.CompiledStateGraph'>\n"
          ]
        },
        {
          "data": {
            "image/png": "[encoded data removed]",
            "text/plain": [
              "<langgraph.graph.state.CompiledStateGraph object at 0x000001B61AA63830>"
            ]
          },
          "execution_count": 19,
          "metadata": {},
          "output_type": "execute_result"
        }
      ],
      "source": [
        "graph = workflow.compile()\n",
        "\n",
        "print(type(graph))\n",
        "graph"
      ]
    },
    {
      "cell_type": "code",
      "execution_count": 20,
      "metadata": {},
      "outputs": [
        {
          "name": "stdout",
          "output_type": "stream",
          "text": [
            "---\n",
            "config:\n",
            "  flowchart:\n",
            "    curve: linear\n",
            "---\n",
            "graph TD;\n",
            "\t__start__([<p>__start__</p>]):::first\n",
            "\tagent_1(agent_1)\n",
            "\tagent_2(agent_2)\n",
            "\t__end__([<p>__end__</p>]):::last\n",
            "\t__start__ --> agent_1;\n",
            "\tagent_1 --> agent_2;\n",
            "\tagent_2 --> __end__;\n",
            "\tclassDef default fill:#f2f0ff,line-height:1.2\n",
            "\tclassDef first fill-opacity:0\n",
            "\tclassDef last fill:#bfb6fc\n",
            "\n"
          ]
        }
      ],
      "source": [
        "mermaid_code = graph.get_graph().draw_mermaid()\n",
        "print(mermaid_code)"
      ]
    },
    {
      "cell_type": "code",
      "execution_count": 21,
      "metadata": {},
      "outputs": [
        {
          "name": "stdout",
          "output_type": "stream",
          "text": [
            "\n",
            "[Agent 1] 원본 질문: LangGraph는 무엇이며, LangChain과 어떤 차이점이 있나요? 그리고 LangGraph를 사용해야 하는 이유는 무엇인가요?\n",
            "[Agent 1] 핵심 키워드: content='핵심 키워드:  \\n1. **LangGraph**  \\n2. **LangChain**  \\n3. **차이점** (또는 **비교**)  \\n4. **사용 이유** (또는 **장점**)  \\n\\n(선택) 5. **워크플로우 관리** (LangGraph의 주요 기능 강조 시 추가 가능)  \\n\\n---  \\n### 설명:  \\n- **LangGraph**와 **LangChain**은 질문의 핵심 대상이므로 반드시 포함됩니다.  \\n- 두 기술의 **차이점**을 묻는 부분은 비교 분석의 핵심 요소입니다.  \\n- **사용 이유**는 LangGraph의 실용성을 강조하는 키워드로, \"장점\"이나 \"적용 사례\"로 대체 가능합니다.  \\n- (선택) LangGraph의 주요 기능인 **워크플로우 관리**를 추가하면 기술적 차이를 더 명확히 표현할 수 있습니다.' additional_kwargs={'refusal': None} response_metadata={'token_usage': {'completion_tokens': 161, 'prompt_tokens': 49, 'total_tokens': 210, 'completion_tokens_details': {'accepted_prediction_tokens': 0, 'audio_tokens': 0, 'reasoning_tokens': 0, 'rejected_prediction_tokens': 0}, 'prompt_tokens_details': {'audio_tokens': 0, 'cached_tokens': 0}}, 'model_name': 'solar-pro2-250909', 'system_fingerprint': None, 'id': '3bc15a47-c819-41d7-8f3d-76433057ce79', 'service_tier': None, 'finish_reason': 'stop', 'logprobs': None} id='run--e4d18c82-6265-46a1-86cc-368860d9dc60-0' usage_metadata={'input_tokens': 49, 'output_tokens': 161, 'total_tokens': 210, 'input_token_details': {'audio': 0, 'cache_read': 0}, 'output_token_details': {'audio': 0, 'reasoning': 0}}\n",
            "[Agent 1] 배경 정보: content='### **LangGraph란 무엇인가요?**  \\nLangGraph는 **LangChain의 확장 프레임워크**로, 복잡한 **상태 기반 멀티턴(Stateful Multi-turn) 애플리케이션**을 구축하기 위한 도구입니다.  \\n- **그래프 기반 워크플로우**를 지원하며, 각 노드(단계)와 에지(전이 조건)를 명시적으로 정의할 수 있습니다.  \\n- **메모리 관리**와 **상태 추적**이 내장되어 있어, 대화나 작업 흐름이 긴 애플리케이션(예: 챗봇, 에이전틱 시스템)에 적합합니다.  \\n- LangChain의 컴포넌트(LLM, 체인, 도구 등)와 호환되며, 이를 그래프 형태로 조합할 수 있습니다.  \\n\\n---\\n\\n### **LangChain vs. LangGraph 차이점**  \\n| **기준**          | **LangChain**                          | **LangGraph**                          |\\n|-------------------|----------------------------------------|----------------------------------------|\\n| **주요 목적**     | 단순/선형 체인 또는 모듈 조합          | 복잡한 상태 기반 워크플로우 관리       |\\n| **흐름 제어**     | 순차적 실행 (체인, 라우터 등)          | 그래프 구조 (분기, 루프, 조건 전이)    |\\n| **상태 관리**     | 제한적 (간단한 메모리 지원)            | 내장된 상태 머신 (State Machine)      |\\n| **사용 사례**     | 단일 질문 응답, 간단한 파이프라인      | 대화형 에이전트, 장기적 작업 흐름      |\\n| **예시**          | \"문서 요약 체인\"                       | \"의료 진단 챗봇\" (여러 단계 질문/응답) |\\n\\n---\\n\\n### **LangGraph를 사용해야 하는 이유**  \\n1. **복잡한 워크플로우 단순화**  \\n   - 조건 분기, 루프, 병렬 처리 등을 그래프로 시각화하고 관리할 수 있습니다.  \\n   - 예: 사용자 입력에 따라 다른 LLM 체인을 호출하거나, 외부 API 결과를 기반으로 흐름을 변경.  \\n\\n2. **상태 지속성**  \\n   - 각 단계에서의 상태(예: 이전 대화 기록, 변수 값)를 자동으로 유지하며, 장기적인 상호작용을 지원할 수 있습니다.  \\n\\n3. **확장성**  \\n   - LangChain의 모든 컴포넌트(LLM, 도구, 메모리)를 재사용하면서도 더 유연한 설계가 가능합니다.  \\n\\n4. **에이전틱 시스템 구축**  \\n   - 자율적 에이전트(예: RAG + 도구 사용 + 결정 트리)를 구현할 때 적합합니다.  \\n\\n5. **디버깅 및 모니터링**  \\n   - 그래프 구조를 통해 워크플로우의 각 단계를 추적하기 쉽습니다.  \\n\\n---\\n\\n### **추가 정보: LangGraph의 핵심 개념**  \\n- **노드(Node)**: LLM 호출, 도구 사용, 사용자 입력 등 개별 단계.  \\n- **에지(Edge)**: 노드 간 전이 조건 (예: \"사용자 답변 = \\'예\\'일 때 다음 노드로 이동\").  \\n- **상태(State)**: 각 단계에서 유지되는 데이터 (예: `{\"current_step\": 2, \"user_profile\": {...}}`).  \\n- **메모리 통합**: LangChain의 `ConversationBufferMemory` 등을 활용해 장기 기억을 구현할 수 있습니다.  \\n\\n---\\n\\n### **사용 사례 예시**  \\n1. **고객 지원 챗봇**  \\n   - 사용자 문제를 단계별로 진단하고, 필요한 정보만 수집하여 티켓을 생성합니다.  \\n2. **교육용 튜터링 시스템**  \\n   - 학습자의 수준에 따라 다른 질문을 던지거나, 이전 답변을 기반으로 피드백을 제공합니다.  \\n3. **데이터 분석 에이전트**  \\n   - 사용자 요청에 따라 SQL 쿼리 생성 → DB 조회 → 결과 시각화 체인을 동적으로 실행합니다.  \\n\\nLangGraph는 **\"흐름 제어가 필요한 LLM 애플리케이션\"**에서 빛을 발합니다. 단순한 체인으로 해결할 수 없는 복잡한 로직이 필요할 때 선택하세요!  \\n\\n> 🔍 **참고 문서**: [LangGraph GitHub](https://github.com/langchain-ai/langgraph) | [공식 문서](https://langchain-ai.github.io/langgraph/)' additional_kwargs={'refusal': None} response_metadata={'token_usage': {'completion_tokens': 754, 'prompt_tokens': 49, 'total_tokens': 803, 'completion_tokens_details': {'accepted_prediction_tokens': 0, 'audio_tokens': 0, 'reasoning_tokens': 0, 'rejected_prediction_tokens': 0}, 'prompt_tokens_details': {'audio_tokens': 0, 'cached_tokens': 0}}, 'model_name': 'solar-pro2-250909', 'system_fingerprint': None, 'id': '97a7dd3c-fa2b-42de-8e11-3161caf1ceeb', 'service_tier': None, 'finish_reason': 'stop', 'logprobs': None} id='run--87b1337a-8dbe-42b3-90f5-542795aea241-0' usage_metadata={'input_tokens': 49, 'output_tokens': 754, 'total_tokens': 803, 'input_token_details': {'audio': 0, 'cache_read': 0}, 'output_token_details': {'audio': 0, 'reasoning': 0}}\n",
            "\n",
            "[Agent 2] 최종 답변 생성 완료\n",
            "\n",
            "{'final_answer': AIMessage(content='### **LangGraph vs. LangChain: 핵심 차이점과 사용 이유**  \\n\\n#### **1. LangGraph란?**  \\nLangGraph는 **LangChain의 확장 프레임워크**로, 복잡한 **상태 기반(stateful) 멀티턴 워크플로우**를 구축하기 위해 설계되었습니다. 그래프 구조를 통해 노드(단계)와 에지(전이 조건)를 명시적으로 정의하며, 장기적인 대화나 조건부 흐름이 필요한 애플리케이션(예: 의료 진단 챗봇, 에이전틱 시스템)에 최적화되어 있습니다.  \\n\\n#### **2. LangChain vs. LangGraph: 주요 차이점**  \\n\\n| **기준**          | **LangChain**                          | **LangGraph**                          |\\n|-------------------|----------------------------------------|----------------------------------------|\\n| **주요 목적**     | 단순한 체인/모듈 조합 (선형 흐름)       | 복잡한 상태 기반 워크플로우 관리        |\\n| **흐름 제어**     | 순차적 실행 (체인, 라우터 등)           | 그래프 구조 (분기, 루프, 조건 전이)    |\\n| **상태 관리**     | 제한적 (간단한 메모리 지원)             | 내장된 상태 머신 (State Machine)      |\\n| **사용 사례**     | 단일 작업 (문서 요약, 번역)             | 대화형 에이전트, 장기적 작업 흐름      |\\n| **예시**          | \"PDF 요약 체인\"                        | \"고객 지원 챗봇\" (단계별 문제 진단)    |\\n\\n- **LangChain**: LLM, 체인, 도구 등을 조합해 **단순한 파이프라인**을 구축하는 데 적합합니다.  \\n- **LangGraph**: **상태 추적**과 **조건 기반 흐름 제어**가 필요한 복잡한 애플리케이션에 특화되어 있습니다.  \\n\\n#### **3. LangGraph를 사용해야 하는 이유 (장점)**  \\n\\n##### **(1) 복잡한 워크플로우 단순화**  \\n- **그래프 시각화**를 통해 분기, 루프, 병렬 처리를 명확히 정의할 수 있습니다.  \\n  - 예: 사용자 입력에 따라 다른 LLM 체인을 호출하거나, 외부 API 결과를 기반으로 흐름을 변경.  \\n- **에지(Edge)**에 전이 조건을 설정해 동적으로 흐름을 제어할 수 있습니다.  \\n  - 예: `if user_response == \"예\" → 다음 노드로 이동`.  \\n\\n##### **(2) 상태 지속성 (Stateful 관리)**  \\n- 각 단계에서 **상태(State)**를 자동으로 유지하며, 장기적인 상호작용을 지원합니다.  \\n  - 예: `{\"current_step\": 3, \"user_profile\": {\"age\": 30}}`.  \\n- LangChain의 메모리 모듈(예: `ConversationBufferMemory`)과 통합해 장기 기억을 구현할 수 있습니다.  \\n\\n##### **(3) 확장성**  \\n- LangChain의 모든 컴포넌트(LLM, 체인, 도구)를 재사용하면서도 **유연한 설계**가 가능합니다.  \\n  - 예: 기존 LangChain 체인을 LangGraph 노드로 쉽게 통합.  \\n\\n##### **(4) 에이전틱 시스템 구축**  \\n- **자율적 에이전트**를 구현할 때 적합합니다.  \\n  - 예: RAG(검색 증강 생성) + 도구 호출 + 결정 트리 결합.  \\n- 사용자 요청에 따라 동적으로 체인을 구성하는 **동적 워크플로우**를 지원합니다.  \\n\\n##### **(5) 디버깅 및 모니터링 용이성**  \\n- 그래프 구조를 통해 각 단계의 상태를 추적하기 쉽습니다.  \\n  - 예: 특정 노드에서의 실패 원인 분석 또는 사용자 흐름 로깅.  \\n\\n#### **4. LangGraph의 핵심 개념**  \\n- **노드(Node)**: LLM 호출, 도구 사용, 사용자 입력 등 개별 단계.  \\n- **에지(Edge)**: 노드 간 전이 조건 (예: \"답변이 \\'예\\'일 때 다음 단계로 이동\").  \\n- **상태(State)**: 각 단계에서 유지되는 데이터 (예: 대화 기록, 변수 값).  \\n- **메모리 통합**: LangChain의 메모리 모듈을 활용해 장기 기억을 구현.  \\n\\n#### **5. 사용 사례 예시**  \\n1. **고객 지원 챗봇**  \\n   - 사용자 문제를 단계별로 진단하고, 필요한 정보만 수집해 티켓 생성.  \\n2. **교육용 튜터링 시스템**  \\n   - 학습자 수준에 따라 다른 질문을 던지거나, 이전 답변을 기반으로 피드백 제공.  \\n3. **데이터 분석 에이전트**  \\n   - 사용자 요청에 따라 SQL 쿼리 생성 → DB 조회 → 결과 시각화 체인을 동적으로 실행.  \\n\\n### **결론: 언제 LangGraph를 선택해야 할까?**  \\n- **\"흐름 제어가 필요한 LLM 애플리케이션\"**에서 LangGraph가 필수적입니다.  \\n  - 예: 조건부 분기, 루프, 상태 추적이 필요한 대화형 시스템.  \\n- 단순한 체인으로 해결할 수 없는 **복잡한 로직**이 필요할 때 LangGraph를 고려하세요!  \\n\\n> 🔍 **참고**: [LangGraph 공식 문서](https://langchain-ai.github.io/langgraph/)에서 더 자세한 예제 확인 가능.', additional_kwargs={'refusal': None}, response_metadata={'token_usage': {'completion_tokens': 944, 'prompt_tokens': 1659, 'total_tokens': 2603, 'completion_tokens_details': {'accepted_prediction_tokens': 0, 'audio_tokens': 0, 'reasoning_tokens': 0, 'rejected_prediction_tokens': 0}, 'prompt_tokens_details': {'audio_tokens': 0, 'cached_tokens': 0}}, 'model_name': 'solar-pro2-250909', 'system_fingerprint': None, 'id': '2e5ca3aa-446c-4775-97e5-e909d058de3a', 'service_tier': None, 'finish_reason': 'stop', 'logprobs': None}, id='run--7ed92039-2955-4b3c-9390-409d818ef009-0', usage_metadata={'input_tokens': 1659, 'output_tokens': 944, 'total_tokens': 2603, 'input_token_details': {'audio': 0, 'cache_read': 0}, 'output_token_details': {'audio': 0, 'reasoning': 0}})}\n"
          ]
        }
      ],
      "source": [
        "# Graph 호출하기\n",
        "query = \"LangGraph는 무엇이며, LangChain과 어떤 차이점이 있나요? 그리고 LangGraph를 사용해야 하는 이유는 무엇인가요?\"\n",
        "\n",
        "state = {\"query\": query}\n",
        "result = graph.invoke(state)\n",
        "print(result)"
      ]
    },
    {
      "cell_type": "code",
      "execution_count": 22,
      "metadata": {},
      "outputs": [
        {
          "name": "stdout",
          "output_type": "stream",
          "text": [
            "{'final_answer': AIMessage(content='### **LangGraph vs. LangChain: 핵심 차이점과 사용 이유**  \\n\\n#### **1. LangGraph란?**  \\nLangGraph는 **LangChain의 확장 프레임워크**로, 복잡한 **상태 기반(stateful) 멀티턴 워크플로우**를 구축하기 위해 설계되었습니다. 그래프 구조를 통해 노드(단계)와 에지(전이 조건)를 명시적으로 정의하며, 장기적인 대화나 조건부 흐름이 필요한 애플리케이션(예: 의료 진단 챗봇, 에이전틱 시스템)에 최적화되어 있습니다.  \\n\\n#### **2. LangChain vs. LangGraph: 주요 차이점**  \\n\\n| **기준**          | **LangChain**                          | **LangGraph**                          |\\n|-------------------|----------------------------------------|----------------------------------------|\\n| **주요 목적**     | 단순한 체인/모듈 조합 (선형 흐름)       | 복잡한 상태 기반 워크플로우 관리        |\\n| **흐름 제어**     | 순차적 실행 (체인, 라우터 등)           | 그래프 구조 (분기, 루프, 조건 전이)    |\\n| **상태 관리**     | 제한적 (간단한 메모리 지원)             | 내장된 상태 머신 (State Machine)      |\\n| **사용 사례**     | 단일 작업 (문서 요약, 번역)             | 대화형 에이전트, 장기적 작업 흐름      |\\n| **예시**          | \"PDF 요약 체인\"                        | \"고객 지원 챗봇\" (단계별 문제 진단)    |\\n\\n- **LangChain**: LLM, 체인, 도구 등을 조합해 **단순한 파이프라인**을 구축하는 데 적합합니다.  \\n- **LangGraph**: **상태 추적**과 **조건 기반 흐름 제어**가 필요한 복잡한 애플리케이션에 특화되어 있습니다.  \\n\\n#### **3. LangGraph를 사용해야 하는 이유 (장점)**  \\n\\n##### **(1) 복잡한 워크플로우 단순화**  \\n- **그래프 시각화**를 통해 분기, 루프, 병렬 처리를 명확히 정의할 수 있습니다.  \\n  - 예: 사용자 입력에 따라 다른 LLM 체인을 호출하거나, 외부 API 결과를 기반으로 흐름을 변경.  \\n- **에지(Edge)**에 전이 조건을 설정해 동적으로 흐름을 제어할 수 있습니다.  \\n  - 예: `if user_response == \"예\" → 다음 노드로 이동`.  \\n\\n##### **(2) 상태 지속성 (Stateful 관리)**  \\n- 각 단계에서 **상태(State)**를 자동으로 유지하며, 장기적인 상호작용을 지원합니다.  \\n  - 예: `{\"current_step\": 3, \"user_profile\": {\"age\": 30}}`.  \\n- LangChain의 메모리 모듈(예: `ConversationBufferMemory`)과 통합해 장기 기억을 구현할 수 있습니다.  \\n\\n##### **(3) 확장성**  \\n- LangChain의 모든 컴포넌트(LLM, 체인, 도구)를 재사용하면서도 **유연한 설계**가 가능합니다.  \\n  - 예: 기존 LangChain 체인을 LangGraph 노드로 쉽게 통합.  \\n\\n##### **(4) 에이전틱 시스템 구축**  \\n- **자율적 에이전트**를 구현할 때 적합합니다.  \\n  - 예: RAG(검색 증강 생성) + 도구 호출 + 결정 트리 결합.  \\n- 사용자 요청에 따라 동적으로 체인을 구성하는 **동적 워크플로우**를 지원합니다.  \\n\\n##### **(5) 디버깅 및 모니터링 용이성**  \\n- 그래프 구조를 통해 각 단계의 상태를 추적하기 쉽습니다.  \\n  - 예: 특정 노드에서의 실패 원인 분석 또는 사용자 흐름 로깅.  \\n\\n#### **4. LangGraph의 핵심 개념**  \\n- **노드(Node)**: LLM 호출, 도구 사용, 사용자 입력 등 개별 단계.  \\n- **에지(Edge)**: 노드 간 전이 조건 (예: \"답변이 \\'예\\'일 때 다음 단계로 이동\").  \\n- **상태(State)**: 각 단계에서 유지되는 데이터 (예: 대화 기록, 변수 값).  \\n- **메모리 통합**: LangChain의 메모리 모듈을 활용해 장기 기억을 구현.  \\n\\n#### **5. 사용 사례 예시**  \\n1. **고객 지원 챗봇**  \\n   - 사용자 문제를 단계별로 진단하고, 필요한 정보만 수집해 티켓 생성.  \\n2. **교육용 튜터링 시스템**  \\n   - 학습자 수준에 따라 다른 질문을 던지거나, 이전 답변을 기반으로 피드백 제공.  \\n3. **데이터 분석 에이전트**  \\n   - 사용자 요청에 따라 SQL 쿼리 생성 → DB 조회 → 결과 시각화 체인을 동적으로 실행.  \\n\\n### **결론: 언제 LangGraph를 선택해야 할까?**  \\n- **\"흐름 제어가 필요한 LLM 애플리케이션\"**에서 LangGraph가 필수적입니다.  \\n  - 예: 조건부 분기, 루프, 상태 추적이 필요한 대화형 시스템.  \\n- 단순한 체인으로 해결할 수 없는 **복잡한 로직**이 필요할 때 LangGraph를 고려하세요!  \\n\\n> 🔍 **참고**: [LangGraph 공식 문서](https://langchain-ai.github.io/langgraph/)에서 더 자세한 예제 확인 가능.', additional_kwargs={'refusal': None}, response_metadata={'token_usage': {'completion_tokens': 944, 'prompt_tokens': 1659, 'total_tokens': 2603, 'completion_tokens_details': {'accepted_prediction_tokens': 0, 'audio_tokens': 0, 'reasoning_tokens': 0, 'rejected_prediction_tokens': 0}, 'prompt_tokens_details': {'audio_tokens': 0, 'cached_tokens': 0}}, 'model_name': 'solar-pro2-250909', 'system_fingerprint': None, 'id': '2e5ca3aa-446c-4775-97e5-e909d058de3a', 'service_tier': None, 'finish_reason': 'stop', 'logprobs': None}, id='run--7ed92039-2955-4b3c-9390-409d818ef009-0', usage_metadata={'input_tokens': 1659, 'output_tokens': 944, 'total_tokens': 2603, 'input_token_details': {'audio': 0, 'cache_read': 0}, 'output_token_details': {'audio': 0, 'reasoning': 0}})}\n"
          ]
        }
      ],
      "source": [
        "print(result)"
      ]
    },
    {
      "cell_type": "code",
      "execution_count": 23,
      "metadata": {},
      "outputs": [
        {
          "name": "stdout",
          "output_type": "stream",
          "text": [
            "('### **LangGraph vs. LangChain: 핵심 차이점과 사용 이유**  \\n'\n",
            " '\\n'\n",
            " '#### **1. LangGraph란?**  \\n'\n",
            " 'LangGraph는 **LangChain의 확장 프레임워크**로, 복잡한 **상태 기반(stateful) 멀티턴 워크플로우**를 구축하기 '\n",
            " '위해 설계되었습니다. 그래프 구조를 통해 노드(단계)와 에지(전이 조건)를 명시적으로 정의하며, 장기적인 대화나 조건부 흐름이 필요한 '\n",
            " '애플리케이션(예: 의료 진단 챗봇, 에이전틱 시스템)에 최적화되어 있습니다.  \\n'\n",
            " '\\n'\n",
            " '#### **2. LangChain vs. LangGraph: 주요 차이점**  \\n'\n",
            " '\\n'\n",
            " '| **기준**          | **LangChain**                          | '\n",
            " '**LangGraph**                          |\\n'\n",
            " '|-------------------|----------------------------------------|----------------------------------------|\\n'\n",
            " '| **주요 목적**     | 단순한 체인/모듈 조합 (선형 흐름)       | 복잡한 상태 기반 워크플로우 관리        |\\n'\n",
            " '| **흐름 제어**     | 순차적 실행 (체인, 라우터 등)           | 그래프 구조 (분기, 루프, 조건 전이)    '\n",
            " '|\\n'\n",
            " '| **상태 관리**     | 제한적 (간단한 메모리 지원)             | 내장된 상태 머신 (State '\n",
            " 'Machine)      |\\n'\n",
            " '| **사용 사례**     | 단일 작업 (문서 요약, 번역)             | 대화형 에이전트, 장기적 작업 흐름      '\n",
            " '|\\n'\n",
            " '| **예시**          | \"PDF 요약 체인\"                        | \"고객 지원 챗봇\" (단계별 문제 '\n",
            " '진단)    |\\n'\n",
            " '\\n'\n",
            " '- **LangChain**: LLM, 체인, 도구 등을 조합해 **단순한 파이프라인**을 구축하는 데 적합합니다.  \\n'\n",
            " '- **LangGraph**: **상태 추적**과 **조건 기반 흐름 제어**가 필요한 복잡한 애플리케이션에 특화되어 있습니다.  \\n'\n",
            " '\\n'\n",
            " '#### **3. LangGraph를 사용해야 하는 이유 (장점)**  \\n'\n",
            " '\\n'\n",
            " '##### **(1) 복잡한 워크플로우 단순화**  \\n'\n",
            " '- **그래프 시각화**를 통해 분기, 루프, 병렬 처리를 명확히 정의할 수 있습니다.  \\n'\n",
            " '  - 예: 사용자 입력에 따라 다른 LLM 체인을 호출하거나, 외부 API 결과를 기반으로 흐름을 변경.  \\n'\n",
            " '- **에지(Edge)**에 전이 조건을 설정해 동적으로 흐름을 제어할 수 있습니다.  \\n'\n",
            " '  - 예: `if user_response == \"예\" → 다음 노드로 이동`.  \\n'\n",
            " '\\n'\n",
            " '##### **(2) 상태 지속성 (Stateful 관리)**  \\n'\n",
            " '- 각 단계에서 **상태(State)**를 자동으로 유지하며, 장기적인 상호작용을 지원합니다.  \\n'\n",
            " '  - 예: `{\"current_step\": 3, \"user_profile\": {\"age\": 30}}`.  \\n'\n",
            " '- LangChain의 메모리 모듈(예: `ConversationBufferMemory`)과 통합해 장기 기억을 구현할 수 '\n",
            " '있습니다.  \\n'\n",
            " '\\n'\n",
            " '##### **(3) 확장성**  \\n'\n",
            " '- LangChain의 모든 컴포넌트(LLM, 체인, 도구)를 재사용하면서도 **유연한 설계**가 가능합니다.  \\n'\n",
            " '  - 예: 기존 LangChain 체인을 LangGraph 노드로 쉽게 통합.  \\n'\n",
            " '\\n'\n",
            " '##### **(4) 에이전틱 시스템 구축**  \\n'\n",
            " '- **자율적 에이전트**를 구현할 때 적합합니다.  \\n'\n",
            " '  - 예: RAG(검색 증강 생성) + 도구 호출 + 결정 트리 결합.  \\n'\n",
            " '- 사용자 요청에 따라 동적으로 체인을 구성하는 **동적 워크플로우**를 지원합니다.  \\n'\n",
            " '\\n'\n",
            " '##### **(5) 디버깅 및 모니터링 용이성**  \\n'\n",
            " '- 그래프 구조를 통해 각 단계의 상태를 추적하기 쉽습니다.  \\n'\n",
            " '  - 예: 특정 노드에서의 실패 원인 분석 또는 사용자 흐름 로깅.  \\n'\n",
            " '\\n'\n",
            " '#### **4. LangGraph의 핵심 개념**  \\n'\n",
            " '- **노드(Node)**: LLM 호출, 도구 사용, 사용자 입력 등 개별 단계.  \\n'\n",
            " '- **에지(Edge)**: 노드 간 전이 조건 (예: \"답변이 \\'예\\'일 때 다음 단계로 이동\").  \\n'\n",
            " '- **상태(State)**: 각 단계에서 유지되는 데이터 (예: 대화 기록, 변수 값).  \\n'\n",
            " '- **메모리 통합**: LangChain의 메모리 모듈을 활용해 장기 기억을 구현.  \\n'\n",
            " '\\n'\n",
            " '#### **5. 사용 사례 예시**  \\n'\n",
            " '1. **고객 지원 챗봇**  \\n'\n",
            " '   - 사용자 문제를 단계별로 진단하고, 필요한 정보만 수집해 티켓 생성.  \\n'\n",
            " '2. **교육용 튜터링 시스템**  \\n'\n",
            " '   - 학습자 수준에 따라 다른 질문을 던지거나, 이전 답변을 기반으로 피드백 제공.  \\n'\n",
            " '3. **데이터 분석 에이전트**  \\n'\n",
            " '   - 사용자 요청에 따라 SQL 쿼리 생성 → DB 조회 → 결과 시각화 체인을 동적으로 실행.  \\n'\n",
            " '\\n'\n",
            " '### **결론: 언제 LangGraph를 선택해야 할까?**  \\n'\n",
            " '- **\"흐름 제어가 필요한 LLM 애플리케이션\"**에서 LangGraph가 필수적입니다.  \\n'\n",
            " '  - 예: 조건부 분기, 루프, 상태 추적이 필요한 대화형 시스템.  \\n'\n",
            " '- 단순한 체인으로 해결할 수 없는 **복잡한 로직**이 필요할 때 LangGraph를 고려하세요!  \\n'\n",
            " '\\n'\n",
            " '> 🔍 **참고**: [LangGraph 공식 문서](https://langchain-ai.github.io/langgraph/)에서 더 '\n",
            " '자세한 예제 확인 가능.')\n"
          ]
        }
      ],
      "source": [
        "\n",
        "pprint(result['final_answer'].content)"
      ]
    }
  ],
  "metadata": {
    "kernelspec": {
      "display_name": "mylangchain-app-SBe-Yh6W-py3.12",
      "language": "python",
      "name": "python3"
    },
    "language_info": {
      "codemirror_mode": {
        "name": "ipython",
        "version": 3
      },
      "file_extension": ".py",
      "mimetype": "text/x-python",
      "name": "python",
      "nbconvert_exporter": "python",
      "pygments_lexer": "ipython3",
      "version": "3.12.7"
    }
  },
  "nbformat": 4,
  "nbformat_minor": 2
}
