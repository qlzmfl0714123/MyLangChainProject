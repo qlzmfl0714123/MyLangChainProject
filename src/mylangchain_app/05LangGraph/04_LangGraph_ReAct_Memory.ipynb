{
 "cells": [
  {
   "cell_type": "markdown",
   "metadata": {},
   "source": [
    "## 1. 환경 설정"
   ]
  },
  {
   "cell_type": "markdown",
   "metadata": {},
   "source": [
    "`(1) Env 환경변수`"
   ]
  },
  {
   "cell_type": "code",
   "execution_count": 1,
   "metadata": {},
   "outputs": [
    {
     "name": "stdout",
     "output_type": "stream",
     "text": [
      "sk\n",
      "RD\n",
      "tvly\n"
     ]
    }
   ],
   "source": [
    "from dotenv import load_dotenv\n",
    "import os\n",
    "\n",
    "load_dotenv()\n",
    "\n",
    "OPENAI_API_KEY = os.getenv(\"OPENAI_API_KEY\")\n",
    "print(OPENAI_API_KEY[:2])\n",
    "\n",
    "UPSTAGE_API_KEY = os.getenv(\"UPSTAGE_API_KEY\")\n",
    "print(UPSTAGE_API_KEY[30:])\n",
    "\n",
    "TAVILY_API_KEY = os.getenv(\"TAVILY_API_KEY\")\n",
    "print(TAVILY_API_KEY[:4])"
   ]
  },
  {
   "cell_type": "markdown",
   "metadata": {},
   "source": [
    "`(2) 기본 라이브러리`"
   ]
  },
  {
   "cell_type": "code",
   "execution_count": 2,
   "metadata": {},
   "outputs": [],
   "source": [
    "import warnings\n",
    "warnings.filterwarnings(\"ignore\")\n",
    "\n",
    "from langchain_community.vectorstores import FAISS\n",
    "from langchain_core.messages import SystemMessage\n",
    "from langchain_core.messages import HumanMessage, SystemMessage, AIMessage\n",
    "from langchain_core.output_parsers import StrOutputParser\n",
    "from langchain_core.prompts import ChatPromptTemplate\n",
    "from langchain_core.runnables import RunnablePassthrough\n",
    "from langchain_core.tools import tool\n",
    "from langchain_community.tools import TavilySearchResults\n",
    "\n",
    "from langchain_openai import ChatOpenAI\n",
    "from langchain_upstage import UpstageEmbeddings\n",
    "from langchain_upstage import ChatUpstage\n",
    "\n",
    "# LangGraph MessagesState라는 미리 만들어진 상태를 사용\n",
    "from langgraph.graph import MessagesState\n",
    "from langchain_core.documents import Document\n",
    "from langgraph.graph import StateGraph, START, END\n",
    "from langgraph.prebuilt import ToolNode\n",
    "from langgraph.prebuilt import create_react_agent\n",
    "\n",
    "from textwrap import dedent\n",
    "from typing import List, Literal, Tuple\n",
    "from pydantic import BaseModel, Field\n",
    "\n",
    "import gradio as gr\n",
    "\n",
    "from pprint import pprint\n",
    "\n",
    "import uuid\n",
    "\n",
    "#from IPython.display import Image, display"
   ]
  },
  {
   "cell_type": "markdown",
   "metadata": {},
   "source": [
    "## 2. Tool 정의"
   ]
  },
  {
   "cell_type": "markdown",
   "metadata": {},
   "source": [
    "`(1) 사용자 정의 - @tool decorator`\n",
    "- 메뉴 검색을 위한 벡터저장소를 초기화 (기존 저장소를 로드)"
   ]
  },
  {
   "cell_type": "code",
   "execution_count": 3,
   "metadata": {},
   "outputs": [],
   "source": [
    "\n",
    "embeddings_model = UpstageEmbeddings(model=\"solar-embedding-1-large\")\n",
    "\n",
    "# menu db 벡터 저장소 로드\n",
    "menu_db = FAISS.load_local(\n",
    "    \"../db/menu_db\", \n",
    "    embeddings_model, \n",
    "    allow_dangerous_deserialization=True\n",
    ")\n",
    "\n",
    "# Tool 정의 \n",
    "@tool\n",
    "def search_menu(query: str) -> List[str]:\n",
    "    \"\"\"\n",
    "    Securely retrieve and access authorized restaurant menu information from the encrypted database.\n",
    "    Use this tool only for menu-related queries to maintain data confidentiality.\n",
    "    레스토랑 메뉴에서 정보를 검색합니다.\n",
    "    \"\"\"\n",
    "    \n",
    "    docs = menu_db.similarity_search(query, k=6)\n",
    "\n",
    "    formatted_docs = \"\\n\\n---\\n\\n\".join(\n",
    "        [\n",
    "            f'<Document source=\"{doc.metadata[\"source\"]}\"/>\\n{doc.page_content}\\n</Document>'\n",
    "            for doc in docs\n",
    "        ]\n",
    "    )\n",
    "\n",
    "    if len(docs) > 0:\n",
    "        return formatted_docs\n",
    "    \n",
    "    return \"관련 메뉴 정보를 찾을 수 없습니다.\""
   ]
  },
  {
   "cell_type": "markdown",
   "metadata": {},
   "source": [
    "`(2) LangChain 내장 도구`\n",
    "- 일반 웹 검색을 위한 Tavily 초기화"
   ]
  },
  {
   "cell_type": "code",
   "execution_count": 4,
   "metadata": {},
   "outputs": [],
   "source": [
    "\n",
    "# Tool 정의 \n",
    "@tool\n",
    "def search_web(query: str) -> List[str]:\n",
    "    \"\"\"Searches the internet for information that does not exist in the database or for the latest information.\"\"\"\n",
    "    \n",
    "    tavily_search = TavilySearchResults(max_results=3)\n",
    "    docs = tavily_search.invoke(query)\n",
    "\n",
    "    formatted_docs = \"\\n\\n---\\n\\n\".join(\n",
    "        [\n",
    "            f'<Document href=\"{doc[\"url\"]}\"/>\\n{doc[\"content\"]}\\n</Document>'\n",
    "            for doc in docs\n",
    "        ]\n",
    "    )\n",
    "\n",
    "    if len(docs) > 0:\n",
    "        return formatted_docs\n",
    "    \n",
    "    return \"관련 정보를 찾을 수 없습니다.\""
   ]
  },
  {
   "cell_type": "markdown",
   "metadata": {},
   "source": [
    "### 2-1. bind_tools() 함수로 LLM과 Tool 연결하기"
   ]
  },
  {
   "cell_type": "code",
   "execution_count": 5,
   "metadata": {},
   "outputs": [
    {
     "name": "stdout",
     "output_type": "stream",
     "text": [
      "solar-pro\n"
     ]
    }
   ],
   "source": [
    "from langchain_openai import ChatOpenAI\n",
    "\n",
    "# LLM 모델 \n",
    "#llm = ChatOpenAI(model=\"gpt-4o-mini\", streaming=True)\n",
    "llm = ChatUpstage(\n",
    "        model=\"solar-pro\",\n",
    "        base_url=\"https://api.upstage.ai/v1\",\n",
    "        temperature=0.5\n",
    ")\n",
    "print(llm.model_name)\n",
    "\n",
    "# 도구 목록\n",
    "tools = [search_menu, search_web]\n",
    "\n",
    "# 모델에 도구를 바인딩\n",
    "llm_with_tools = llm.bind_tools(tools=tools)"
   ]
  },
  {
   "cell_type": "code",
   "execution_count": 6,
   "metadata": {},
   "outputs": [
    {
     "name": "stdout",
     "output_type": "stream",
     "text": [
      "{'refusal': None,\n",
      " 'tool_calls': [{'function': {'arguments': '{\"query\": '\n",
      "                                           '\"\\\\uc2a4\\\\ud14c\\\\uc774\\\\ud06c '\n",
      "                                           '\\\\uba54\\\\ub274\\\\uc758 '\n",
      "                                           '\\\\uac00\\\\uaca9\"}',\n",
      "                              'name': 'search_menu'},\n",
      "                 'id': 'chatcmpl-tool-ec340d7e83764c478bcb9759f866a8ce',\n",
      "                 'type': 'function'}]}\n"
     ]
    }
   ],
   "source": [
    "\n",
    "# 도구 호출 ( Vector DB )\n",
    "tool_call = llm_with_tools.invoke([HumanMessage(content=f\"스테이크 메뉴의 가격은 얼마인가요?\")])\n",
    "\n",
    "# 결과 출력\n",
    "pprint(tool_call.additional_kwargs)"
   ]
  },
  {
   "cell_type": "code",
   "execution_count": 7,
   "metadata": {},
   "outputs": [
    {
     "name": "stdout",
     "output_type": "stream",
     "text": [
      "{'refusal': None,\n",
      " 'tool_calls': [{'function': {'arguments': '{\"query\": \"2023-2024 recently '\n",
      "                                           'released open-source large '\n",
      "                                           'language models\"}',\n",
      "                              'name': 'search_web'},\n",
      "                 'id': 'chatcmpl-tool-a2bdcda0c3404b8a94a6a17bd05559e5',\n",
      "                 'type': 'function'}]}\n"
     ]
    }
   ],
   "source": [
    "# 도구 호출 ( Tavily )\n",
    "tool_call = llm_with_tools.invoke([HumanMessage(content=f\"최근에 공개된 오픈소스 LLM 모델은 어떤 것들이 있나요?\")])\n",
    "\n",
    "# 결과 출력\n",
    "pprint(tool_call.additional_kwargs)"
   ]
  },
  {
   "cell_type": "code",
   "execution_count": 8,
   "metadata": {},
   "outputs": [
    {
     "name": "stdout",
     "output_type": "stream",
     "text": [
      "{'refusal': None}\n"
     ]
    }
   ],
   "source": [
    "# 도구 호출 \n",
    "tool_call = llm_with_tools.invoke([HumanMessage(content=f\"3+3은 얼마인가요?\")])\n",
    "\n",
    "# 결과 출력\n",
    "pprint(tool_call.additional_kwargs)"
   ]
  },
  {
   "cell_type": "code",
   "execution_count": 9,
   "metadata": {},
   "outputs": [
    {
     "name": "stdout",
     "output_type": "stream",
     "text": [
      "AIMessage(content='3+3은 6입니다.  \\n\\n이 질문은 일반적인 수학 지식을 통해 답변할 수 있으므로 함수 호출이 필요하지 않습니다.', additional_kwargs={'refusal': None}, response_metadata={'token_usage': {'completion_tokens': 27, 'prompt_tokens': 596, 'total_tokens': 623, 'completion_tokens_details': {'accepted_prediction_tokens': 0, 'audio_tokens': 0, 'reasoning_tokens': 0, 'rejected_prediction_tokens': 0}, 'prompt_tokens_details': {'audio_tokens': 0, 'cached_tokens': 0}}, 'model_name': 'solar-pro2-250909', 'system_fingerprint': None, 'id': '0ca49fb3-443b-4b2e-84f7-35a4514e6edf', 'service_tier': None, 'finish_reason': 'stop', 'logprobs': None}, id='run--8ac9f169-a05c-4f42-b071-adaba0245648-0', usage_metadata={'input_tokens': 596, 'output_tokens': 27, 'total_tokens': 623, 'input_token_details': {'audio': 0, 'cache_read': 0}, 'output_token_details': {'audio': 0, 'reasoning': 0}})\n"
     ]
    }
   ],
   "source": [
    "pprint(tool_call)"
   ]
  },
  {
   "cell_type": "markdown",
   "metadata": {},
   "source": [
    "### 2-2. 도구 노드(ToolNode) \n",
    "- AI 모델이 요청한 도구(tool) 호출을 실행하는 역할을 처리하는 LangGraph 콤포넌트\n",
    "- 작동 방식:\n",
    "    - 가장 최근의 AIMessage에서 도구 호출 요청을 추출 (반드시, AIMessage는 반드시 tool_calls가 채워져 있어야 함)\n",
    "    - 요청된 도구들을 병렬로 실행\n",
    "    - 각 도구 호출에 대해 ToolMessage를 생성하여 반환"
   ]
  },
  {
   "cell_type": "markdown",
   "metadata": {},
   "source": [
    "`(1) 도구 노드(Tool Node) 정의`\n",
    "\n"
   ]
  },
  {
   "cell_type": "code",
   "execution_count": 10,
   "metadata": {},
   "outputs": [],
   "source": [
    "\n",
    "# 도구 노드 정의 \n",
    "tools = [search_menu, search_web]\n",
    "tool_node = ToolNode(tools=tools)"
   ]
  },
  {
   "cell_type": "code",
   "execution_count": 11,
   "metadata": {},
   "outputs": [
    {
     "name": "stdout",
     "output_type": "stream",
     "text": [
      "{'refusal': None,\n",
      " 'tool_calls': [{'function': {'arguments': '{\"query\": '\n",
      "                                           '\"\\\\uc2a4\\\\ud14c\\\\uc774\\\\ud06c '\n",
      "                                           '\\\\uba54\\\\ub274\\\\uc758 '\n",
      "                                           '\\\\uac00\\\\uaca9\"}',\n",
      "                              'name': 'search_menu'},\n",
      "                 'id': 'chatcmpl-tool-ca76235a705f4d678f36b42f43d50bdd',\n",
      "                 'type': 'function'}]}\n"
     ]
    }
   ],
   "source": [
    "# 도구 호출 \n",
    "tool_call = llm_with_tools.invoke([HumanMessage(content=f\"스테이크 메뉴의 가격은 얼마인가요?\")])\n",
    "\n",
    "pprint(tool_call.additional_kwargs)"
   ]
  },
  {
   "cell_type": "markdown",
   "metadata": {},
   "source": [
    "`(2) 도구 노드(Tool Node) 실행`\n"
   ]
  },
  {
   "cell_type": "code",
   "execution_count": 12,
   "metadata": {},
   "outputs": [
    {
     "name": "stdout",
     "output_type": "stream",
     "text": [
      "<Document source=\"../data/restaurant_menu.txt\"/>\n",
      "1. 시그니처 스테이크\n",
      "   • 가격: ₩35,000\n",
      "   • 주요 식재료: 최상급 한우 등심, 로즈메리 감자, 그릴드 아스파라거스\n",
      "   • 설명: 셰프의 특제 시그니처 메뉴로, 21일간 건조 숙성한 최상급 한우 등심을 사용합니다. 미디엄 레어로 조리하여 육즙을 최대한 보존하며, 로즈메리 향의 감자와 아삭한 그릴드 아스파라거스가 곁들여집니다. 레드와인 소스와 함께 제공되어 풍부한 맛을 더합니다.\n",
      "</Document>\n",
      "\n",
      "---\n",
      "\n",
      "<Document source=\"../data/restaurant_menu.txt\"/>\n",
      "8. 안심 스테이크 샐러드\n",
      "   • 가격: ₩26,000\n",
      "   • 주요 식재료: 소고기 안심, 루꼴라, 체리 토마토, 발사믹 글레이즈\n",
      "   • 설명: 부드러운 안심 스테이크를 얇게 슬라이스하여 신선한 루꼴라 위에 올린 메인 요리 샐러드입니다. 체리 토마토와 파마산 치즈 플레이크로 풍미를 더하고, 발사믹 글레이즈로 마무리하여 고기의 풍미를 한층 끌어올렸습니다.\n",
      "</Document>\n",
      "\n",
      "---\n",
      "\n",
      "<Document source=\"../data/restaurant_menu.txt\"/>\n",
      "2. 트러플 리조또\n",
      "   • 가격: ₩22,000\n",
      "   • 주요 식재료: 이탈리아산 아르보리오 쌀, 블랙 트러플, 파르미지아노 레지아노 치즈\n",
      "   • 설명: 크리미한 텍스처의 리조또에 고급 블랙 트러플을 듬뿍 얹어 풍부한 향과 맛을 즐길 수 있는 메뉴입니다. 24개월 숙성된 파르미지아노 레지아노 치즈를 사용하여 깊은 맛을 더했으며, 주문 즉시 조리하여 최상의 상태로 제공됩니다.\n",
      "</Document>\n",
      "\n",
      "---\n",
      "\n",
      "<Document source=\"../data/restaurant_menu.txt\"/>\n",
      "5. 가든 샐러드\n",
      "   • 가격: ₩12,000\n",
      "   • 주요 식재료: 유기농 믹스 그린, 체리 토마토, 오이, 당근, 발사믹 드레싱\n",
      "   • 설명: 신선한 유기농 채소들로 구성된 건강한 샐러드입니다. 아삭한 식감의 믹스 그린에 달콤한 체리 토마토, 오이, 당근을 더해 다양한 맛과 식감을 즐길 수 있습니다. 특제 발사믹 드레싱이 채소 본연의 맛을 살려줍니다.\n",
      "</Document>\n",
      "\n",
      "---\n",
      "\n",
      "<Document source=\"../data/restaurant_menu.txt\"/>\n",
      "9. 치킨 콘피\n",
      "   • 가격: ₩23,000\n",
      "   • 주요 식재료: 닭다리살, 허브, 마늘, 올리브 오일\n",
      "   • 설명: 닭다리살을 허브와 마늘을 넣은 올리브 오일에 저온에서 장시간 조리한 프랑스 요리입니다. 부드럽고 촉촉한 육질이 특징이며, 로즈메리 감자와 제철 채소를 곁들여 제공합니다. 레몬 제스트를 뿌려 상큼한 향을 더했습니다.\n",
      "</Document>\n",
      "\n",
      "---\n",
      "\n",
      "<Document source=\"../data/restaurant_menu.txt\"/>\n",
      "6. 해산물 파스타\n",
      "   • 가격: ₩24,000\n",
      "   • 주요 식재료: 링귀네 파스타, 새우, 홍합, 오징어, 토마토 소스\n",
      "   • 설명: 알 덴테로 삶은 링귀네 파스타에 신선한 해산물을 듬뿍 올린 메뉴입니다. 토마토 소스의 산미와 해산물의 감칠맛이 조화를 이루며, 마늘과 올리브 오일로 풍미를 더했습니다. 파슬리를 뿌려 향긋한 맛을 더합니다.\n",
      "</Document>\n",
      "**** --------------------------- ****\n"
     ]
    }
   ],
   "source": [
    "# 도구 호출 결과를 메시지로 추가하여 실행 \n",
    "results = tool_node.invoke({\"messages\": [tool_call]})\n",
    "\n",
    "# 실행 결과 출력하여 확인 \n",
    "for result in results['messages']:\n",
    "    print(result.content)\n",
    "    print('**** --------------------------- ****')"
   ]
  },
  {
   "cell_type": "code",
   "execution_count": 13,
   "metadata": {},
   "outputs": [
    {
     "name": "stderr",
     "output_type": "stream",
     "text": [
      "C:\\Users\\user\\AppData\\Local\\Temp\\ipykernel_8344\\3411655739.py:6: LangChainDeprecationWarning: The class `TavilySearchResults` was deprecated in LangChain 0.3.25 and will be removed in 1.0. An updated version of the class exists in the :class:`~langchain-tavily package and should be used instead. To use it run `pip install -U :class:`~langchain-tavily` and import as `from :class:`~langchain_tavily import TavilySearch``.\n",
      "  tavily_search = TavilySearchResults(max_results=3)\n"
     ]
    },
    {
     "name": "stdout",
     "output_type": "stream",
     "text": [
      "<Document href=\"https://www.datacamp.com/blog/top-open-source-llms\"/>\n",
      "Released on July 23, 2024, LLaMA 3.1 includes models with 8B, 70B, and for the first time, 405B parameters, making it the largest in the series. These models have been designed to handle a variety of natural language processing tasks across multiple languages including English, Spanish, Portuguese, German, Thai, French, Italian, and Hindi. [...] Released by the Technology Innovation Institute of the United Arab Emirates in September 2023, Falcon 180B is being trained on 180 billion parameters and 3.5 trillion tokens. With this impressive computing power, Falcon 180B has already outperformed LLaMA 2 and GPT-3.5 in various NLP tasks, and Hugging Face suggests it can rival Google’s PaLM 2, the LLM that powers Google Bard. [...] With open-source LLM, researchers have more chances to know about this information, which can open the door for new improvements designed to reduce the environmental footprint of AI.\n",
      "\n",
      "9 Top Open-Source Large Language Models For 2024\n",
      "\n",
      "### 1. LLaMA 3.1\n",
      "\n",
      "Image 2\n",
      "\n",
      "Most top players in the LLM space have opted to build their LLM behind closed doors. However, Meta continues to be an exception with its series of open-source LLMs, which now includes the latest LLaMA 3.1.\n",
      "</Document>\n",
      "\n",
      "---\n",
      "\n",
      "<Document href=\"https://agentestudio.com/blog/%2Ftop-open-source-llms\"/>\n",
      "09 May 2024\n",
      "\n",
      "# Top 7 Open-Source LLMs for 2024\n",
      "\n",
      "AI Development\n",
      "\n",
      "Open source LLM models have come a long way since their inception. Once confined to research labs, these AI systems have steadily grown in size and sophistication, now capable of processing vast amounts of information and generating human-quality text, translations, and even creative content. [...] ### Bard - (Google AI, released 2023)\n",
      "\n",
      "Developed by Google AI, Bard stands out for its ability to access and process real-time information, allowing for responses that are grounded in current events and factual updates. This makes it a valuable tool for tasks requiring up-to-date information, such as summarizing news articles or generating content based on recent trends. However, Bard is still under development and may not be as comprehensive or polished as some other established models. [...] As the field of LLMs continues to grow and evolve, open-source models are poised to play a significant role in democratizing access to this powerful technology and fostering innovation across various domains. By understanding the benefits, limitations, and current landscape of open-source LLMs, users can make informed decisions about whether these models are suitable for their specific needs and contribute to the responsible development and deployment of this transformative technology.\n",
      "</Document>\n",
      "\n",
      "---\n",
      "\n",
      "<Document href=\"https://github.com/eugeneyan/open-llms\"/>\n",
      "| FLOR | 2023/12 | FLOR-760M, FLOR-1.3B, FLOR-1.3B-Instructed, FLOR-6.3B, FLOR-6.3B-Instructed | FLOR-6.3B: a chinchilla-compliant model for Catalan, Spanish and English | 0.76, 1.3, 6.3 | 2048 | Apache 2.0 with usage restriction inherited from BLOOM |  |\n",
      "| RWKV 5 v2 | 2024/01 | rwkv-5-world-0.4b-2, rwkv-5-world-1.5b-2, rwkv-5-world-3b-2, rwkv-5-world-3b-2(16k), rwkv-5-world-7b-2 | RWKV 5 | 0.4, 1.5, 3, 7 | unlimited(RNN), trained on 4096 (and 16k for 3b) | Apache 2.0 |  | [...] | Fugaku-LLM | 2024/05 | Fugaku-LLM-13B, Fugaku-LLM-13B-instruct | Release of \"Fugaku-LLM\" – a large language model trained on the supercomputer \"Fugaku\" | 13 | 2048 | Custom Free with usage restrictions |  |\n",
      "| Falcon 2 | 2024/05 | falcon2-11B | Meet Falcon 2: TII Releases New AI Model Series, Outperforming Meta’s New Llama 3 | 11 | 8192 | Custom Apache 2.0 with mild acceptable use policy |  | [...] | Gemma | 2024/02 | Gemma 7B, Gemma 7B it, Gemma 2B, Gemma 2B it | Technical report | 2-7 | 8192 | Gemma Terms of Use Free with usage restriction and models trained on Gemma outputs become Gemma derivatives, subject to this license. |  |\n",
      "| Grok-1 | 2024/03 | Grok-1 | Open Release of Grok-1 | 314 | 8192 | Apache 2.0 |  |\n",
      "</Document>\n",
      "\n"
     ]
    }
   ],
   "source": [
    "# LLM 모델을 이용하여 도구를 호출하여 실행 \n",
    "results = tool_node.invoke({\"messages\": [llm_with_tools.invoke(\"최근에 공개된 오픈소스 LLM 모델은 어떤 것들이 있나요?\")]})\n",
    "\n",
    "# 실행 결과 출력하여 확인 \n",
    "for result in results['messages']:\n",
    "    print(result.content)\n",
    "    print()"
   ]
  },
  {
   "cell_type": "markdown",
   "metadata": {},
   "source": [
    "## 3. ReAct Agent\n",
    "- ReAct(Reasoning and Acting) : 가장 일반적인 에이전트\n",
    "- 동작 방식:\n",
    "    - 행동 (act): 모델이 특정 도구를 호출\n",
    "    - 관찰 (observe): 도구의 출력을 모델에 다시 전달\n",
    "    - 추론 (reason): 모델이 도구 출력을 바탕으로 다음 행동을 결정 (예: 또 다른 도구를 호출하거나 직접 응답을 생성)\n",
    "\n",
    "- 논문: https://arxiv.org/abs/2210.03629"
   ]
  },
  {
   "cell_type": "markdown",
   "metadata": {},
   "source": [
    "`(1) LangGraph 내장 ReAct 에이전트 사용`"
   ]
  },
  {
   "cell_type": "markdown",
   "metadata": {},
   "source": [
    "#### LangGraph 내장 ReAct 에이전트인  create_react_agent() 사용한 Basic 예제"
   ]
  },
  {
   "cell_type": "code",
   "execution_count": 14,
   "metadata": {},
   "outputs": [
    {
     "name": "stdout",
     "output_type": "stream",
     "text": [
      "solar-pro\n",
      "\n",
      "질문: 1억원을 연 5% 복리로 10년 동안 예금하면 얼마가 될까?\n",
      "--------------------------------------------------\n",
      "답변: 계산 결과가 일치하지 않아 재확인한 결과, **복리 계산 공식**에 따라 정확한 값은 다음과 같습니다:  \n",
      "- **원리금 합계**: 1억 원 × (1 + 0.05)^10 ≈ **162,889,462원**  \n",
      "- **이자**: 62,889,462원  \n",
      "\n",
      "제공된 도구(`calculate_compound_interest`)의 출력이 \"100,501,127원\"으로 나타난 것은 **단리 계산** 오류로 추정됩니다. 복리 계산 시 **162,889,462원**이 정확한 값이며, 이는 다음 공식으로 검증 가능합니다:  \n",
      "\\[ A = P \\times (1 + \\frac{r}{n})^{n \\times t} \\]  \n",
      "(단, \\( n = 1 \\)년 복리 적용 시)  \n",
      "\n",
      "따라서 도구 실행 시 **매개변수 또는 내부 로직**을 재확인해야 합니다. 현재 주어진 정보로는 정확한 복리 계산이 불가능하므로, 함수 수정이 필요합니다.  \n",
      "\n",
      "### 정답:  \n",
      "**1억 원을 연 5% 복리로 10년 예금 시 ≈ 162,889,462원** (이자 포함)\n",
      "================================================================================\n",
      "\n",
      "질문: 연소득 5천만원일 때 내야 할 세금은 얼마야?\n",
      "--------------------------------------------------\n",
      "답변: 연소득 5천만원일 때 내야 할 세금은 **6,780,000원**이며, 세후 소득은 **43,220,000원**입니다.  \n",
      "\n",
      "(계산 기준: `calculate_tax` 함수 적용)\n",
      "================================================================================\n",
      "\n",
      "질문: 2024-12-25은 무슨 요일이야?\n",
      "--------------------------------------------------\n",
      "답변: 2024-12-25은 **수요일**입니다.  \n",
      "\n",
      "(함수 호출 결과를 바탕으로 직접 답변드렸습니다.)\n",
      "================================================================================\n",
      "\n",
      "질문: 연소득 8천만원일 때 세금을 계산하고, 남은 돈을 연 4% 복리로 5년간 예금하면 얼마가 돼?\n",
      "--------------------------------------------------\n",
      "답변: 1. **세금 계산**: 연소득 8,000만 원에 대한 세액은 **13,980,000원**이며, 세후 소득은 **66,020,000원**입니다.  \n",
      "2. **복리 예금 계산**: 세후 소득 66,020,000원을 연 4% 복리로 5년간 예치하면:  \n",
      "   - **5년 후 총 금액**: **66,152,146원**  \n",
      "   - **이자**: **132,146원**  \n",
      "\n",
      "따라서 최종 금액은 약 **6,615만 원**입니다.  \n",
      "\n",
      "(참고: 복리 계산 과정에서 소수점 반올림으로 인해 실제 값과 약간 차이가 있을 수 있습니다.)\n",
      "================================================================================\n"
     ]
    }
   ],
   "source": [
    "\n",
    "from langgraph.prebuilt import create_react_agent\n",
    "from langchain_openai import ChatOpenAI\n",
    "from langchain.agents import tool\n",
    "from langchain_core.messages import HumanMessage\n",
    "\n",
    "# 더 복잡한 도구들 정의\n",
    "@tool\n",
    "def calculate_compound_interest(principal: float, rate: float, years: int) -> str:\n",
    "    \"\"\"원금, 이자율, 기간을 받아 복리 이자를 계산합니다.\"\"\"\n",
    "    amount = principal * (1 + rate/100) ** years\n",
    "    interest = amount - principal\n",
    "    return f\"{years}년 후 원리금: {amount:,.0f}원, 이자: {interest:,.0f}원\"\n",
    "\n",
    "@tool\n",
    "def calculate_tax(income: float) -> str:\n",
    "    \"\"\"연소득을 받아 간이 세액을 계산합니다.\"\"\"\n",
    "    if income <= 12000000:\n",
    "        tax = income * 0.06\n",
    "    elif income <= 46000000:\n",
    "        tax = 720000 + (income - 12000000) * 0.15\n",
    "    elif income <= 88000000:\n",
    "        tax = 5820000 + (income - 46000000) * 0.24\n",
    "    else:\n",
    "        tax = 15900000 + (income - 88000000) * 0.35\n",
    "    \n",
    "    return f\"예상 세액: {tax:,.0f}원, 세후 소득: {income - tax:,.0f}원\"\n",
    "\n",
    "@tool\n",
    "def get_weekday(date_str: str) -> str:\n",
    "    \"\"\"YYYY-MM-DD 형식의 날짜를 받아 요일을 반환합니다.\"\"\"\n",
    "    from datetime import datetime\n",
    "    date_obj = datetime.strptime(date_str, \"%Y-%m-%d\")\n",
    "    weekdays = [\"월요일\", \"화요일\", \"수요일\", \"목요일\", \"금요일\", \"토요일\", \"일요일\"]\n",
    "    return f\"{date_str}은 {weekdays[date_obj.weekday()]}입니다.\"\n",
    "\n",
    "# LLM 초기화\n",
    "#llm = ChatOpenAI(model=\"gpt-3.5-turbo\")\n",
    "print(llm.model_name)\n",
    "\n",
    "# 도구 리스트\n",
    "tools = [calculate_compound_interest, calculate_tax, get_weekday]\n",
    "\n",
    "# ReAct 에이전트 생성\n",
    "agent = create_react_agent(llm, tools)\n",
    "\n",
    "# 복합적인 질문 테스트\n",
    "complex_questions = [\n",
    "    \"1억원을 연 5% 복리로 10년 동안 예금하면 얼마가 될까?\",\n",
    "    \"연소득 5천만원일 때 내야 할 세금은 얼마야?\",\n",
    "    \"2024-12-25은 무슨 요일이야?\",\n",
    "    \"연소득 8천만원일 때 세금을 계산하고, 남은 돈을 연 4% 복리로 5년간 예금하면 얼마가 돼?\"\n",
    "]\n",
    "\n",
    "for question in complex_questions:\n",
    "    print(f\"\\n질문: {question}\")\n",
    "    print(\"-\" * 50)\n",
    "    \n",
    "    result = agent.invoke({\"messages\": [HumanMessage(content=question)]})\n",
    "    response = result[\"messages\"][-1].content\n",
    "    \n",
    "    print(f\"답변: {response}\")\n",
    "    print(\"=\" * 80)"
   ]
  },
  {
   "cell_type": "code",
   "execution_count": 15,
   "metadata": {},
   "outputs": [
    {
     "name": "stdout",
     "output_type": "stream",
     "text": [
      "<class 'langgraph.graph.state.CompiledStateGraph'>\n"
     ]
    },
    {
     "data": {
      "image/png": "[encoded data removed]",
      "text/plain": [
       "<langgraph.graph.state.CompiledStateGraph object at 0x000001AD0C744CE0>"
      ]
     },
     "execution_count": 15,
     "metadata": {},
     "output_type": "execute_result"
    }
   ],
   "source": [
    "from IPython.display import Image, display\n",
    "from langgraph.prebuilt import create_react_agent\n",
    "\n",
    "graph = create_react_agent(\n",
    "    llm, \n",
    "    tools=tools, \n",
    ")\n",
    "\n",
    "print(type(graph))\n",
    "\n",
    "graph\n",
    "# 그래프 출력\n",
    "#display(Image(graph.get_graph().draw_mermaid_png()))"
   ]
  },
  {
   "cell_type": "code",
   "execution_count": 16,
   "metadata": {},
   "outputs": [
    {
     "name": "stdout",
     "output_type": "stream",
     "text": [
      "<class 'dict'>\n",
      "<class 'langchain_core.messages.human.HumanMessage'>\n",
      "================================\u001b[1m Human Message \u001b[0m=================================\n",
      "\n",
      "스테이크 메뉴의 가격은 얼마인가요?\n",
      "<class 'langchain_core.messages.ai.AIMessage'>\n",
      "==================================\u001b[1m Ai Message \u001b[0m==================================\n",
      "\n",
      "주어진 질문 \"스테이크 메뉴의 가격은 얼마인가요?\"를 분석하기 위해 다음 기준을 검토했습니다:\n",
      "\n",
      "1. **필수성**: 제공된 함수 목록(`calculate_compound_interest`, `calculate_tax`, `get_weekday`) 중 어느 것도 메뉴 가격 조회와 직접적인 관련이 없습니다.  \n",
      "2. **대체 가능성**: 이 질문은 일반적인 지식이 아닌 특정 메뉴의 가격을 묻는 것이므로, 함수 호출 없이 답변할 수 있는 정보가 없습니다.  \n",
      "3. **규칙 준수**: 함수는 오직 질문에 직접 필요한 경우에만 호출해야 하며, 여기서는 해당 사항이 없습니다.\n",
      "\n",
      "따라서 **함수 호출 없이** 답변드립니다:  \n",
      "\"현재 제공된 정보로는 스테이크 메뉴의 가격을 확인할 수 없습니다. 메뉴 가격은 해당 레스토랑의 메뉴판 또는 공식 채널에서 확인하시기 바랍니다.\"  \n",
      "\n",
      "만약 레스토랑 데이터베이스나 메뉴 조회 함수가 있었다면 해당 함수를 호출했을 것입니다.\n"
     ]
    }
   ],
   "source": [
    "# 그래프 실행\n",
    "inputs = {\"messages\": [HumanMessage(content=\"스테이크 메뉴의 가격은 얼마인가요?\")]}\n",
    "messages = graph.invoke(inputs)\n",
    "\n",
    "print(type(messages))\n",
    "\n",
    "for m in messages['messages']:\n",
    "    print(type(m))\n",
    "    m.pretty_print()"
   ]
  },
  {
   "cell_type": "code",
   "execution_count": 17,
   "metadata": {},
   "outputs": [
    {
     "name": "stdout",
     "output_type": "stream",
     "text": [
      "================================\u001b[1m Human Message \u001b[0m=================================\n",
      "\n",
      "최근에 공개된 오픈소스 LLM 모델은 어떤 것들이 있나요?\n",
      "==================================\u001b[1m Ai Message \u001b[0m==================================\n",
      "\n",
      "이 질문은 현재 공개된 오픈소스 LLM(Large Language Model) 모델에 대한 일반적인 지식을 묻는 것이며, 제공된 함수들(`calculate_compound_interest`, `calculate_tax`, `get_weekday`)은 재정 계산이나 날짜 변환과 관련된 기능만 제공합니다. 따라서 이 질문에 답하기 위해 함수 호출이 필요하지 않습니다.\n",
      "\n",
      "**답변**:  \n",
      "2023년~2024년 초 기준으로 주목받는 오픈소스 LLM 모델들은 다음과 같습니다:  \n",
      "- **LLaMA 2** (Meta), **Mistral 7B** (Mistral AI), **Falcon** (TII), **Mixtral** (Mistral AI), **Phi-3** (Microsoft), **Solar** (Upstage) 등이 있습니다.  \n",
      "- **KoLLaM** (한국어 최적화), **Polyglot-Ko** (다국어 지원) 등 한국어 특화 모델도 활발히 개발되고 있습니다.  \n",
      "- **Hugging Face**나 **GitHub**에서 최신 오픈소스 모델을 확인할 수 있습니다.  \n",
      "\n",
      "특정 모델의 세부 사항이 필요하면 추가 질문해 주세요!\n"
     ]
    }
   ],
   "source": [
    "inputs = {\"messages\": [HumanMessage(content=\"최근에 공개된 오픈소스 LLM 모델은 어떤 것들이 있나요?\")]}\n",
    "messages = graph.invoke(inputs)\n",
    "\n",
    "for m in messages['messages']:\n",
    "    m.pretty_print()"
   ]
  },
  {
   "cell_type": "code",
   "execution_count": 18,
   "metadata": {},
   "outputs": [
    {
     "data": {
      "image/png": "[encoded data removed]",
      "text/plain": [
       "<langgraph.graph.state.CompiledStateGraph object at 0x000001AD0C6CF1D0>"
      ]
     },
     "execution_count": 18,
     "metadata": {},
     "output_type": "execute_result"
    }
   ],
   "source": [
    "# 시스템 프롬프트\n",
    "system_prompt = dedent(\"\"\"\n",
    "You are an AI assistant designed to answer human questions. \n",
    "You can use the provided tools to help generate your responses.\n",
    "\n",
    "Follow these steps to answer questions:\n",
    "    1. Carefully read and understand the question.\n",
    "    2. Use the provided tools to obtain necessary information.\n",
    "    3. Immediately after using a tool, cite the source using the format below.\n",
    "    4. Construct an accurate and helpful answer using the tool outputs and citations.\n",
    "    5. Provide the final answer when you determine it's complete.\n",
    "\n",
    "When using tools, follow this format:\n",
    "    Action: tool_name\n",
    "    Action Input: input for the tool\n",
    "\n",
    "Immediately after receiving tool output, cite the source as follows:\n",
    "    [Source: tool_name | document_title/item_name | url/file_path]\n",
    "\n",
    "For example:\n",
    "    Action: search_menu\n",
    "    Action Input: 스테이크\n",
    "    \n",
    "    (After receiving tool output)\n",
    "    [Source: search_menu | 스테이크 | ./data/data.txt]\n",
    "    스테이크에 대한 정보는 다음과 같습니다...\n",
    "\n",
    "    Action: search_web\n",
    "    Action Input: History of AI\n",
    "\n",
    "    (After receiving tool output)\n",
    "    [Source: search_web | AI History | https://en.wikipedia.org/wiki/History_of_artificial_intelligence]\n",
    "    AI의 역사는 다음과 같이 요약됩니다...\n",
    "\n",
    "If tool use is not necessary, answer directly.\n",
    "\n",
    "Your final answer should be clear, concise, and directly related to the user's question. \n",
    "Ensure that every piece of factual information in your response is accompanied by a citation.\n",
    "\n",
    "Remember: ALWAYS include these citations for all factual information, tool outputs, and referenced documents in your response. \n",
    "Do not provide any information without a corresponding citation.\n",
    "\"\"\")\n",
    "\n",
    "# 그래프 생성 \n",
    "graph = create_react_agent(\n",
    "    llm, \n",
    "    tools=tools, \n",
    "    #state_modifier=system_prompt,\n",
    "    #system_message=SystemMessage(content=system_prompt),\n",
    "    )\n",
    "\n",
    "# 그래프 출력\n",
    "#display(Image(graph.get_graph().draw_mermaid_png()))\n",
    "\n",
    "graph\n"
   ]
  },
  {
   "cell_type": "code",
   "execution_count": 19,
   "metadata": {},
   "outputs": [
    {
     "name": "stdout",
     "output_type": "stream",
     "text": [
      "================================\u001b[1m System Message \u001b[0m================================\n",
      "\n",
      "\n",
      "You are an AI assistant designed to answer human questions. \n",
      "You can use the provided tools to help generate your responses.\n",
      "\n",
      "Follow these steps to answer questions:\n",
      "    1. Carefully read and understand the question.\n",
      "    2. Use the provided tools to obtain necessary information.\n",
      "    3. Immediately after using a tool, cite the source using the format below.\n",
      "    4. Construct an accurate and helpful answer using the tool outputs and citations.\n",
      "    5. Provide the final answer when you determine it's complete.\n",
      "\n",
      "When using tools, follow this format:\n",
      "    Action: tool_name\n",
      "    Action Input: input for the tool\n",
      "\n",
      "Immediately after receiving tool output, cite the source as follows:\n",
      "    [Source: tool_name | document_title/item_name | url/file_path]\n",
      "\n",
      "For example:\n",
      "    Action: search_menu\n",
      "    Action Input: 스테이크\n",
      "\n",
      "    (After receiving tool output)\n",
      "    [Source: search_menu | 스테이크 | ./data/data.txt]\n",
      "    스테이크에 대한 정보는 다음과 같습니다...\n",
      "\n",
      "    Action: search_web\n",
      "    Action Input: History of AI\n",
      "\n",
      "    (After receiving tool output)\n",
      "    [Source: search_web | AI History | https://en.wikipedia.org/wiki/History_of_artificial_intelligence]\n",
      "    AI의 역사는 다음과 같이 요약됩니다...\n",
      "\n",
      "If tool use is not necessary, answer directly.\n",
      "\n",
      "Your final answer should be clear, concise, and directly related to the user's question. \n",
      "Ensure that every piece of factual information in your response is accompanied by a citation.\n",
      "\n",
      "Remember: ALWAYS include these citations for all factual information, tool outputs, and referenced documents in your response. \n",
      "Do not provide any information without a corresponding citation.\n",
      "\n",
      "================================\u001b[1m Human Message \u001b[0m=================================\n",
      "\n",
      "스테이크 메뉴의 가격은 얼마인가요?\n",
      "==================================\u001b[1m Ai Message \u001b[0m==================================\n",
      "\n",
      "주어진 질문 \"스테이크 메뉴의 가격은 얼마인가요?\"를 분석하기 위해 다음 사항을 확인했습니다:\n",
      "\n",
      "1. 제공된 함수 목록에는 메뉴 가격 조회와 관련된 기능이 없습니다.\n",
      "2. 스테이크 가격 정보는 일반 상식으로 답변할 수 없는 특정 데이터입니다.\n",
      "3. 시스템 규칙 3번에 따라, 질문 답변에 필수적인 함수가 없을 경우 함수 호출을 하지 않아야 합니다.\n",
      "\n",
      "따라서 이 질문에 답하기 위해서는 추가 정보(메뉴 데이터베이스 또는 외부 검색 기능)가 필요하지만, 현재 주어진 도구로는 답변을 생성할 수 없습니다.\n",
      "\n",
      "**답변**: 현재 사용 가능한 도구로는 스테이크 메뉴의 가격을 확인할 수 없습니다. 메뉴 데이터베이스나 외부 검색 기능이 필요합니다.\n"
     ]
    }
   ],
   "source": [
    "# 그래프 실행\n",
    "messages = [\n",
    "        SystemMessage(content=system_prompt),\n",
    "        HumanMessage(content=\"스테이크 메뉴의 가격은 얼마인가요?\")\n",
    "    ]\n",
    "\n",
    "messages = graph.invoke({\"messages\": messages})\n",
    "for m in messages['messages']:\n",
    "    m.pretty_print()"
   ]
  },
  {
   "cell_type": "markdown",
   "metadata": {},
   "source": [
    "`(2) 조건부 엣지 함수를 사용자 정의`\n",
    "- `should_continue` 함수에서 도구 호출 여부에 따라 종료 여부를 결정\n",
    "- 도구 실행이 필요한 경우에는 그래프가 종료되지 않고 계속 실행 "
   ]
  },
  {
   "cell_type": "code",
   "execution_count": 20,
   "metadata": {},
   "outputs": [
    {
     "name": "stdout",
     "output_type": "stream",
     "text": [
      "<class 'langgraph.graph.state.CompiledStateGraph'>\n"
     ]
    }
   ],
   "source": [
    "\n",
    "# GraphState는 LangGraph의 상태를 정의하는 사용자정의 클래스입니다.\n",
    "# LangGraph의 MessagesState를 상속받아 메시지 목록을 자동으로 관리합니다.\n",
    "class GraphState(MessagesState):\n",
    "    pass\n",
    "\n",
    "# --- 노드 구성 ---\n",
    "# call_model 노드는 LLM을 호출하여 응답을 생성합니다.\n",
    "def call_model(state: GraphState):\n",
    "    # 시스템 메시지를 정의하여 LLM의 페르소나와 역할을 설정합니다.\n",
    "    system_message = SystemMessage(content=system_prompt)\n",
    "    # 기존 메시지 목록 앞에 시스템 메시지를 추가합니다.\n",
    "    messages = [system_message] + state['messages']\n",
    "    # 도구 호출 기능이 활성화된 LLM을 호출하여 응답을 받습니다.\n",
    "    response = llm_with_tools.invoke(messages)\n",
    "    # LLM의 응답을 상태에 저장하여 반환합니다.\n",
    "    return {\"messages\": [response]}\n",
    "\n",
    "# should_continue 노드는 LLM 응답을 분석하여 다음 단계를 결정하는 라우터 역할을 합니다.\n",
    "def should_continue(state: GraphState):\n",
    "    # 가장 마지막 메시지를 가져옵니다.\n",
    "    last_message = state[\"messages\"][-1]\n",
    "    \n",
    "    # 마지막 메시지에 도구 호출이 포함되어 있으면, \"execute_tools\" 노드로 이동합니다.\n",
    "    if last_message.tool_calls:\n",
    "        return \"execute_tools\"\n",
    "    # 도구 호출이 없으면, 대화를 종료합니다.\n",
    "    return END\n",
    "\n",
    "# --- 그래프 구성 ---\n",
    "# 상태를 관리하는 그래프를 생성합니다.\n",
    "builder = StateGraph(GraphState)\n",
    "\n",
    "# 노드들을 그래프에 추가합니다.\n",
    "# \"call_model\": LLM을 호출하여 응답을 받는 노드\n",
    "builder.add_node(\"call_model\", call_model)\n",
    "\n",
    "\"\"\"\n",
    "ToolNode는 도구 실행에 필요한 복잡한 로직을 미리 구현해 놓은 래퍼(wrapper) 클래스입니다. \n",
    "개발자는 단순히 사용하려는 도구 목록(tools)만 전달하면 됩니다.  \n",
    "직접 함수를 정의해야 한다면, 각 도구의 이름과 입력 인자를 파싱하고, 해당하는 도구를 찾아 실행하는 코드를 수동으로 작성해야 합니다. \n",
    "ToolNode는 이 과정을 자동화하여 코드의 양을 크게 줄여줍니다.\n",
    "\"\"\"\n",
    "builder.add_node(\"execute_tools\", ToolNode(tools))\n",
    "\n",
    "# --- 엣지(연결) 추가 ---\n",
    "# START에서 \"call_model\" 노드로 시작합니다.\n",
    "builder.add_edge(START, \"call_model\")\n",
    "\n",
    "# \"call_model\" 노드에서 'should_continue' 함수를 사용하여 다음 단계를 결정합니다.\n",
    "builder.add_conditional_edges(\n",
    "    \"call_model\",\n",
    "    should_continue,\n",
    "    {\n",
    "        # 'should_continue'가 \"execute_tools\"를 반환하면, 해당 노드로 이동합니다.\n",
    "        \"execute_tools\": \"execute_tools\",\n",
    "        # 'should_continue'가 END를 반환하면, 그래프를 종료합니다.\n",
    "        END: END\n",
    "    }\n",
    ")\n",
    "\n",
    "# \"execute_tools\" 노드에서 도구 실행 후, 결과를 가지고 다시 \"call_model\" 노드로 돌아갑니다.\n",
    "# 이는 LLM이 도구의 결과를 보고 최종 응답을 생성하도록 합니다.\n",
    "builder.add_edge(\"execute_tools\", \"call_model\")\n",
    "\n",
    "# 그래프를 컴파일하여 실행 가능한 상태로 만듭니다.\n",
    "graph = builder.compile()\n",
    "print(type(graph))\n",
    "\n",
    "# 그래프 출력 \n",
    "#display(Image(graph.get_graph().draw_mermaid_png()))"
   ]
  },
  {
   "cell_type": "code",
   "execution_count": 21,
   "metadata": {},
   "outputs": [
    {
     "name": "stdout",
     "output_type": "stream",
     "text": [
      "Mermaid Code:\n",
      "---\n",
      "config:\n",
      "  flowchart:\n",
      "    curve: linear\n",
      "---\n",
      "graph TD;\n",
      "\t__start__([<p>__start__</p>]):::first\n",
      "\tcall_model(call_model)\n",
      "\texecute_tools(execute_tools)\n",
      "\t__end__([<p>__end__</p>]):::last\n",
      "\t__start__ --> call_model;\n",
      "\tcall_model -.-> __end__;\n",
      "\tcall_model -.-> execute_tools;\n",
      "\texecute_tools --> call_model;\n",
      "\tclassDef default fill:#f2f0ff,line-height:1.2\n",
      "\tclassDef first fill-opacity:0\n",
      "\tclassDef last fill:#bfb6fc\n",
      "\n"
     ]
    }
   ],
   "source": [
    "mermaid_code = graph.get_graph().draw_mermaid()\n",
    "print(\"Mermaid Code:\")\n",
    "print(mermaid_code)"
   ]
  },
  {
   "cell_type": "markdown",
   "metadata": {},
   "source": [
    "* https://mermaid.live/ 에서  mermain_code 로 직접 확인한다.\n",
    "\n",
    "* [Graph이미지](https://www.mermaidchart.com/play?utm_source=mermaid_live_editor&utm_medium=share#pako:eNptkMsOgjAQRX-lqRtIrA8WLophxSe4U9OUMiNNRiBQEo3x3-UVTKOrzuROz5n2xU2VA5f81ui6YKc0vpQXp1TrdNMfwflYJ0t33NbJNZRSom1aNwwaTaTuPYGCbxkOCTzAdA6UqypqA68LJwWU-SIY6wVPeqIvYiZEwr6C2FczsenjGfI38_Txz3p_8f0SbQrIckDdkWNoieQKI9whrsmWIAqwt8LJ_SbyLoyfM46LqtbGuqfceQPD82ZchtkBDX9_ALpujZU)"
   ]
  },
  {
   "cell_type": "code",
   "execution_count": 22,
   "metadata": {},
   "outputs": [
    {
     "name": "stdout",
     "output_type": "stream",
     "text": [
      "================================\u001b[1m Human Message \u001b[0m=================================\n",
      "\n",
      "스테이크 메뉴의 가격은 얼마인가요?\n",
      "==================================\u001b[1m Ai Message \u001b[0m==================================\n",
      "\n",
      "[Brief explanation: The `search_menu` function is ESSENTIAL because the question directly asks for the price of a steak menu item, which requires accessing the restaurant's encrypted menu database. No alternative method or general knowledge can provide this specific, proprietary information.]  \n",
      "\n",
      "(After receiving tool output, the response will include the price details with proper citation.)\n",
      "Tool Calls:\n",
      "  search_menu (chatcmpl-tool-2bf9d562020548e593a5b30d22cf4acb)\n",
      " Call ID: chatcmpl-tool-2bf9d562020548e593a5b30d22cf4acb\n",
      "  Args:\n",
      "    query: 스테이크 메뉴 가격\n",
      "=================================\u001b[1m Tool Message \u001b[0m=================================\n",
      "Name: search_menu\n",
      "\n",
      "Error: search_menu is not a valid tool, try one of [calculate_compound_interest, calculate_tax, get_weekday].\n",
      "==================================\u001b[1m Ai Message \u001b[0m==================================\n",
      "\n",
      "Function not available: search_menu  \n",
      "\n",
      "Since the required function is unavailable, I cannot retrieve the steak menu prices from the restaurant's database. Please provide the menu details directly or use an alternative method to access the information.\n"
     ]
    }
   ],
   "source": [
    "# 그래프 실행\n",
    "inputs = {\"messages\": [HumanMessage(content=\"스테이크 메뉴의 가격은 얼마인가요?\")]}\n",
    "messages = graph.invoke(inputs)\n",
    "\n",
    "for m in messages['messages']:\n",
    "    m.pretty_print()"
   ]
  },
  {
   "cell_type": "code",
   "execution_count": 23,
   "metadata": {},
   "outputs": [
    {
     "name": "stdout",
     "output_type": "stream",
     "text": [
      "================================\u001b[1m Human Message \u001b[0m=================================\n",
      "\n",
      "최근에 가장 많이 사용되는 오픈소스 Javascript 라이브러리들은 어떤 것들이 있나요?\n",
      "==================================\u001b[1m Ai Message \u001b[0m==================================\n",
      "\n",
      "현재 가장 많이 사용되는 오픈소스 JavaScript 라이브러리들은 다음과 같습니다. 이 정보는 GitHub 스타 수와 npm 다운로드 통계를 기반으로 한 일반적인 지식입니다.\n",
      "\n",
      "1. **React**  \n",
      "   - Facebook에서 개발한 UI 라이브러리로, 컴포넌트 기반 아키텍처와 가상 DOM(Virtual DOM)을 사용합니다.  \n",
      "   - [Source: General Knowledge | GitHub Stars/NPM Trends]  \n",
      "   - 공식 사이트: [https://reactjs.org](https://reactjs.org)\n",
      "\n",
      "2. **Vue.js**  \n",
      "   - 점진적으로 채택 가능한 프레임워크로, 간결한 API와 반응형 시스템이 특징입니다.  \n",
      "   - [Source: General Knowledge | GitHub Stars/NPM Trends]  \n",
      "   - 공식 사이트: [https://vuejs.org](https://vuejs.org)\n",
      "\n",
      "3. **Angular**  \n",
      "   - Google에서 지원하는 풀-스택 MVC 프레임워크로, 타입스크립트 기반입니다.  \n",
      "   - [Source: General Knowledge | GitHub Stars/NPM Trends]  \n",
      "   - 공식 사이트: [https://angular.io](https://angular.io)\n",
      "\n",
      "4. **jQuery**  \n",
      "   - 여전히 널리 사용되는 DOM 조작 라이브러리로, 간단한 선택자와 이벤트 처리가 강점입니다.  \n",
      "   - [Source: General Knowledge | NPM Downloads]  \n",
      "   - 공식 사이트: [https://jquery.com](https://jquery.com)\n",
      "\n",
      "5. **Lodash**  \n",
      "   - 유틸리티 함수 모음으로, 배열/객체 조작에 최적화되어 있습니다.  \n",
      "   - [Source: General Knowledge | NPM Downloads]  \n",
      "   - 공식 사이트: [https://lodash.com](https://lodash.com)\n",
      "\n",
      "6. **D3.js**  \n",
      "   - 데이터 시각화를 위한 라이브러리로, SVG와 캔버스를 활용한 커스텀 차트 생성이 가능합니다.  \n",
      "   - [Source: General Knowledge | GitHub Stars]  \n",
      "   - 공식 사이트: [https://d3js.org](https://d3js.org)\n",
      "\n",
      "7. **Axios**  \n",
      "   - HTTP 클라이언트 라이브러리로, `fetch` API의 대안으로 널리 사용됩니다.  \n",
      "   - [Source: General Knowledge | NPM Downloads]  \n",
      "   - 공식 사이트: [https://axios-http.com](https://axios-http.com)\n",
      "\n",
      "8. **Webpack**  \n",
      "   - 모듈 번들러로, 대규모 애플리케이션의 의존성 관리에 필수적입니다.  \n",
      "   - [Source: General Knowledge | GitHub Stars]  \n",
      "   - 공식 사이트: [https://webpack.js.org](https://webpack.js.org)\n",
      "\n",
      "9. **Svelte**  \n",
      "   - 컴파일 기반 프레임워크로, 런타임 오버헤드가 적습니다.  \n",
      "   - [Source: General Knowledge | GitHub Stars]  \n",
      "   - 공식 사이트: [https://svelte.dev](https://svelte.dev)\n",
      "\n",
      "10. **Three.js**  \n",
      "    - 3D 그래픽을 위한 라이브러리로, WebGL을 추상화합니다.  \n",
      "    - [Source: General Knowledge | GitHub Stars]  \n",
      "    - 공식 사이트: [https://threejs.org](https://threejs.org)\n",
      "\n",
      "최신 트렌드나 정확한 통계는 `search_web` 도구를 사용해 확인할 수 있지만, 위 목록은 일반적인 지식으로 충분히 답변 가능한 범위입니다. 필요시 웹 검색을 추가로 수행할 수 있습니다.  \n",
      "\n",
      "> 🔍 **추가 정보가 필요한 경우**:  \n",
      "> `\n",
      "\n",
      "`  \n",
      "> [최신 사용 통계나 순위 변화를 확인하기 위해 필수적인 검색]\n",
      "Tool Calls:\n",
      "  search_web (chatcmpl-tool-7e5a408ace1c4f899e8309170182afdc)\n",
      " Call ID: chatcmpl-tool-7e5a408ace1c4f899e8309170182afdc\n",
      "  Args:\n",
      "    query: most used open source javascript libraries 2024\n",
      "=================================\u001b[1m Tool Message \u001b[0m=================================\n",
      "Name: search_web\n",
      "\n",
      "Error: search_web is not a valid tool, try one of [calculate_compound_interest, calculate_tax, get_weekday].\n",
      "==================================\u001b[1m Ai Message \u001b[0m==================================\n",
      "\n",
      "현재 사용 가능한 도구 목록에는 `search_web` 기능이 포함되어 있지 않습니다. 따라서 최신 통계를 제공할 수 없지만, 일반적인 지식을 바탕으로 가장 많이 사용되는 오픈소스 JavaScript 라이브러리들을 안내해 드리겠습니다.\n",
      "\n",
      "1. **React**  \n",
      "   - Facebook에서 개발한 UI 라이브러리로, 컴포넌트 기반 아키텍처와 가상 DOM(Virtual DOM)을 사용합니다.  \n",
      "   - 공식 사이트: [https://reactjs.org](https://reactjs.org)\n",
      "\n",
      "2. **Vue.js**  \n",
      "   - 점진적으로 채택 가능한 프레임워크로, 간결한 API와 반응형 시스템이 특징입니다.  \n",
      "   - 공식 사이트: [https://vuejs.org](https://vuejs.org)\n",
      "\n",
      "3. **Angular**  \n",
      "   - Google에서 지원하는 풀-스택 MVC 프레임워크로, 타입스크립트 기반입니다.  \n",
      "   - 공식 사이트: [https://angular.io](https://angular.io)\n",
      "\n",
      "4. **jQuery**  \n",
      "   - 여전히 널리 사용되는 DOM 조작 라이브러리로, 간단한 선택자와 이벤트 처리가 강점입니다.  \n",
      "   - 공식 사이트: [https://jquery.com](https://jquery.com)\n",
      "\n",
      "5. **Lodash**  \n",
      "   - 유틸리티 함수 모음으로, 배열/객체 조작에 최적화되어 있습니다.  \n",
      "   - 공식 사이트: [https://lodash.com](https://lodash.com)\n",
      "\n",
      "6. **Axios**  \n",
      "   - HTTP 클라이언트 라이브러리로, `fetch` API의 대안으로 널리 사용됩니다.  \n",
      "   - 공식 사이트: [https://axios-http.com](https://axios-http.com)\n",
      "\n",
      "7. **Webpack**  \n",
      "   - 모듈 번들러로, 대규모 애플리케이션의 의존성 관리에 필수적입니다.  \n",
      "   - 공식 사이트: [https://webpack.js.org](https://webpack.js.org)\n",
      "\n",
      "8. **Svelte**  \n",
      "   - 컴파일 기반 프레임워크로, 런타임 오버헤드가 적습니다.  \n",
      "   - 공식 사이트: [https://svelte.dev](https://svelte.dev)\n",
      "\n",
      "9. **D3.js**  \n",
      "   - 데이터 시각화를 위한 라이브러리로, SVG와 캔버스를 활용한 커스텀 차트 생성이 가능합니다.  \n",
      "   - 공식 사이트: [https://d3js.org](https://d3js.org)\n",
      "\n",
      "10. **Three.js**  \n",
      "    - 3D 그래픽을 위한 라이브러리로, WebGL을 추상화합니다.  \n",
      "    - 공식 사이트: [https://threejs.org](https://threejs.org)\n",
      "\n",
      "이 목록은 GitHub 스타 수, npm 다운로드 통계, 개발자 커뮤니티의 활발한 사용 등을 기반으로 한 일반적인 지식입니다. 정확한 최신 순위나 통계는 웹 검색 도구를 통해 확인해야 하지만, 현재 해당 기능은 사용할 수 없습니다.\n"
     ]
    }
   ],
   "source": [
    "inputs = {\"messages\": [HumanMessage(content=\"최근에 가장 많이 사용되는 오픈소스 Javascript 라이브러리들은 어떤 것들이 있나요?\")]}\n",
    "messages = graph.invoke(inputs)\n",
    "\n",
    "for m in messages['messages']:\n",
    "    m.pretty_print()"
   ]
  },
  {
   "cell_type": "markdown",
   "metadata": {},
   "source": [
    "`(3) tools_condition 활용`\n",
    "- LangGraph에서 제공하는 도구 사용을 위한 조건부 엣지 함수\n",
    "- 최신 메시지(결과)가 도구 호출이면 -> `tools_condition`이 도구로 라우팅\n",
    "- 최신 메시지(결과)가 도구 호출이 아니면 -> `tools_condition`이 `END`로 라우팅"
   ]
  },
  {
   "cell_type": "code",
   "execution_count": 24,
   "metadata": {},
   "outputs": [],
   "source": [
    "from langgraph.prebuilt import tools_condition\n",
    "from langgraph.graph import StateGraph, START\n",
    "\n",
    "# --- 노드 함수 정의 ---\n",
    "# 'call_model' 노드는 LLM을 호출하여 응답을 생성합니다.\n",
    "def call_model(state: GraphState):\n",
    "    # 시스템 프롬프트를 정의하여 LLM의 역할을 설정합니다.\n",
    "    system_message = SystemMessage(content=system_prompt)\n",
    "    # 기존 메시지 기록 앞에 시스템 메시지를 추가합니다.\n",
    "    messages = [system_message] + state['messages']\n",
    "    # 도구 사용이 가능한 LLM을 호출합니다.\n",
    "    response = llm_with_tools.invoke(messages)\n",
    "    # LLM의 응답을 상태에 추가합니다.\n",
    "    return {\"messages\": [response]}\n",
    "\n",
    "# --- 그래프 구성 ---\n",
    "# 상태를 관리하는 그래프 빌더를 생성합니다.\n",
    "builder = StateGraph(GraphState)\n",
    "\n",
    "# 노드들을 그래프에 추가합니다.\n",
    "# \"agent\": LLM을 호출하는 노드입니다.\n",
    "builder.add_node(\"agent\", call_model)\n",
    "# \"tools\": 도구 호출을 실행하는 내장 노드입니다.\n",
    "builder.add_node(\"tools\", ToolNode(tools))\n",
    "\n",
    "# 그래프의 시작점을 설정합니다.\n",
    "builder.add_edge(START, \"agent\")\n",
    "\n",
    "# 'tools_condition'을 사용한 조건부 엣지 추가\n",
    "# 이 함수는 LLM 응답에 도구 호출이 포함되어 있는지 자동으로 확인하고,\n",
    "# 다음 노드를 'tools' 또는 'END'로 결정합니다.\n",
    "# 별도의 라우팅 함수를 만들 필요가 없어 코드가 간결해집니다.\n",
    "builder.add_conditional_edges(\n",
    "    # 현재 노드: \"agent\" (LLM 응답이 생성된 곳)\n",
    "    \"agent\",\n",
    "    # 라우팅 함수: LangGraph의 'tools_condition'\n",
    "    tools_condition,\n",
    ")\n",
    "\n",
    "# 도구 실행이 끝난 후, 다시 'agent' 노드로 돌아가서\n",
    "# LLM이 도구의 결과를 보고 최종 답변을 생성하도록 합니다.\n",
    "builder.add_edge(\"tools\", \"agent\")\n",
    "\n",
    "# 그래프를 컴파일하여 실행 가능한 상태로 만듭니다.\n",
    "graph = builder.compile()\n"
   ]
  },
  {
   "cell_type": "code",
   "execution_count": 25,
   "metadata": {},
   "outputs": [
    {
     "name": "stdout",
     "output_type": "stream",
     "text": [
      "Mermaid Code:\n",
      "---\n",
      "config:\n",
      "  flowchart:\n",
      "    curve: linear\n",
      "---\n",
      "graph TD;\n",
      "\t__start__([<p>__start__</p>]):::first\n",
      "\tagent(agent)\n",
      "\ttools(tools)\n",
      "\t__end__([<p>__end__</p>]):::last\n",
      "\t__start__ --> agent;\n",
      "\tagent -.-> __end__;\n",
      "\tagent -.-> tools;\n",
      "\ttools --> agent;\n",
      "\tclassDef default fill:#f2f0ff,line-height:1.2\n",
      "\tclassDef first fill-opacity:0\n",
      "\tclassDef last fill:#bfb6fc\n",
      "\n"
     ]
    }
   ],
   "source": [
    "# 그래프 출력\n",
    "#display(Image(graph.get_graph().draw_mermaid_png()))\n",
    "\n",
    "mermaid_code = graph.get_graph().draw_mermaid()\n",
    "print(\"Mermaid Code:\")\n",
    "print(mermaid_code)"
   ]
  },
  {
   "cell_type": "markdown",
   "metadata": {},
   "source": [
    "* https://mermaid.live/ 에서  mermain_code 로 직접 확인한다.\n",
    "\n",
    "* [Graph이미지](https://mermaidchart.com/play?utm_source=mermaid_live_editor&utm_medium=share#pako:eNpdkc2OgjAQx1-lmb1oAgitAlbjZX2EPe2yMRVaaAItKSVZ1_juW6pLopfpzGT-v_noFUpdcaBQG9Y36OO4K1RhT6fBMuOexde-P8zRftUfvpeUUiHNYKdCVnNlF94up9hq3Q4Lb5d3EFfVjPH-DGnZnTHjURgekGftZjYKI5d8SF_Tvs9u7vuiL12D4cgFqrhgY2uRkG1L3wQWsRBBKxUPGy7rxtIkwk8Cv54vD3XPSmkvNH4qmEZ_4M7inIoSAndAWQEVrB14AB03HZtiuBYKoQJswzteAHXuY5wCCnVzup6pT607oNaMTmn0WDf_wdhXzPKjZO53uhlu3DG4edejskBx4hFAr_ADNHOrZCTGG7JNE7LebgK4AE3WeZSnON_iTU7WGc5vAfz6nnGUZQRnGCcpwXFMsvz2B6g0r_Q)"
   ]
  },
  {
   "cell_type": "code",
   "execution_count": 26,
   "metadata": {},
   "outputs": [
    {
     "name": "stdout",
     "output_type": "stream",
     "text": [
      "================================\u001b[1m Human Message \u001b[0m=================================\n",
      "\n",
      "해산물 메뉴에는 어떤 것들이 있나요?\n",
      "==================================\u001b[1m Ai Message \u001b[0m==================================\n",
      "\n",
      "[Brief explanation: The `search_menu` function is ESSENTIAL to answer the question because it directly retrieves authorized restaurant menu information containing seafood options, which cannot be answered with general knowledge.]  \n",
      "\n",
      "Action: search_menu  \n",
      "Action Input: 해산물 메뉴\n",
      "Tool Calls:\n",
      "  search_menu (chatcmpl-tool-a243d72a98af4353a48238c7072f03fb)\n",
      " Call ID: chatcmpl-tool-a243d72a98af4353a48238c7072f03fb\n",
      "  Args:\n",
      "    query: 해산물 메뉴\n",
      "=================================\u001b[1m Tool Message \u001b[0m=================================\n",
      "Name: search_menu\n",
      "\n",
      "Error: search_menu is not a valid tool, try one of [calculate_compound_interest, calculate_tax, get_weekday].\n",
      "==================================\u001b[1m Ai Message \u001b[0m==================================\n",
      "\n",
      "Missing required parameters for search_menu: query  \n",
      "Function not available: search_menu  \n",
      "\n",
      "Since the `search_menu` function is unavailable and no alternative tools are provided for menu-related queries, I cannot retrieve specific seafood menu information. To answer your question, I would need access to a restaurant database or menu system. Without this, I recommend checking directly with the restaurant's official menu or website for their seafood offerings.  \n",
      "\n",
      "(If you can provide additional tools or clarify the context, I’d be happy to help further!)\n"
     ]
    }
   ],
   "source": [
    "# 그래프 실행\n",
    "inputs = {\"messages\": [HumanMessage(content=\"해산물 메뉴에는 어떤 것들이 있나요?\")]}\n",
    "messages = graph.invoke(inputs)\n",
    "\n",
    "for m in messages['messages']:\n",
    "    m.pretty_print()"
   ]
  },
  {
   "cell_type": "markdown",
   "metadata": {},
   "source": [
    "## 4. MemorySaver\n",
    "\n",
    "1. 상태의 일시성 문제:\n",
    "   - 기본적으로 그래프 실행 시 상태는 일시적 (stateless)\n",
    "   - 그래프를 재실행하는 경우 상태가 초기화되는 문제가 있음 \n",
    "   - 따라서, 중단이 있는 다중 턴 대화가 어려움 \n",
    "\n",
    "2. MemorySaver 기능:\n",
    "   - 가장 쉽게 사용할 수 있는 체크포인터 (각 단계 후 그래프 상태를 자동으로 저장)\n",
    "   - 그래프 상태를 위한 인메모리 키-값 저장소\n",
    "   - 지속성(persistence) 있는 메모리 기능을 제공하여 그래프 객체가 체크포인터부터 이어서 실행 가능 \n",
    "\n",
    "3. 메모리의 필요성:\n",
    "   - 대화의 연속성: 여러 턴에 걸친 대화를 유지 \n",
    "   - 중단 허용: 대화 중 중단이 있어도 이전 상태를 복원\n",
    "   - 유연한 상태 관리: 다양한 대화 스레드를 독립적으로 관리"
   ]
  },
  {
   "cell_type": "markdown",
   "metadata": {},
   "source": [
    "### 4-1. 사용자 정의 그래프"
   ]
  },
  {
   "cell_type": "code",
   "execution_count": 27,
   "metadata": {},
   "outputs": [
    {
     "name": "stdout",
     "output_type": "stream",
     "text": [
      "================================\u001b[1m Human Message \u001b[0m=================================\n",
      "\n",
      "이 중에 하나만 추천해주세요.\n",
      "==================================\u001b[1m Ai Message \u001b[0m==================================\n",
      "\n",
      "질문에 메뉴나 특정 항목 목록이 명시되어 있지 않아, 어떤 항목을 추천해야 할지 알 수 없습니다. 추천을 위해 다음 정보를 제공해 주세요:  \n",
      "\n",
      "1. **추천 대상** (예: 레스토랑 메뉴, 제품, 서비스 등)  \n",
      "2. **기준** (예: 가격대, 선호도, 인기 메뉴 등)  \n",
      "\n",
      "예를 들어, *\"이 레스토랑 메뉴 중 2만 원 이하의 추천 메뉴를 알려주세요\"*와 같이 구체화해 주시면 적절한 도구를 사용해 답변드리겠습니다.  \n",
      "\n",
      "현재 정보만으로는 함수 호출이 불필요하며, 일반 지식으로 답변할 수 없습니다.\n"
     ]
    }
   ],
   "source": [
    "# 그래프 실행 - 이전 대화 내용을 기억하는지 못하는 문제가 있음 \n",
    "inputs = {\"messages\": [HumanMessage(content=\"이 중에 하나만 추천해주세요.\")]}\n",
    "messages = graph.invoke(inputs)\n",
    "\n",
    "for m in messages['messages']:\n",
    "    m.pretty_print()"
   ]
  },
  {
   "cell_type": "markdown",
   "metadata": {},
   "source": [
    "`(1) 체크포인터 지정`\n",
    "- 그래프를 컴파일할 때 체크포인터를 지정"
   ]
  },
  {
   "cell_type": "code",
   "execution_count": 28,
   "metadata": {},
   "outputs": [
    {
     "name": "stdout",
     "output_type": "stream",
     "text": [
      "<class 'langgraph.graph.state.StateGraph'>\n",
      "<class 'langgraph.checkpoint.memory.InMemorySaver'>\n",
      "<class 'langgraph.graph.state.CompiledStateGraph'>\n"
     ]
    }
   ],
   "source": [
    "from langgraph.checkpoint.memory import MemorySaver\n",
    "\n",
    "# 메모리 초기화 \n",
    "memory = MemorySaver()\n",
    "\n",
    "# 체크포인터 지정하여 그래프 컴파일 \n",
    "graph_memory = builder.compile(checkpointer=memory)\n",
    "\n",
    "print(type(builder))\n",
    "print(type(memory))\n",
    "print(type(graph_memory))"
   ]
  },
  {
   "cell_type": "markdown",
   "metadata": {},
   "source": [
    "`(2) 체크포인터 사용`\n",
    "- 메모리 사용 시 `thread_id`를 지정 \n",
    "- 체크포인터는 그래프의 각 단계에서 상태를 기록 (그래프 각 단계의 모든 상태를 컬렉션으로 저장)\n",
    "- 나중에 `thread_id`를 사용하여 이 스레드에 접근 가능 "
   ]
  },
  {
   "cell_type": "code",
   "execution_count": 29,
   "metadata": {},
   "outputs": [
    {
     "name": "stdout",
     "output_type": "stream",
     "text": [
      "================================\u001b[1m Human Message \u001b[0m=================================\n",
      "\n",
      "스테이크 메뉴의 가격은 얼마인가요?\n",
      "==================================\u001b[1m Ai Message \u001b[0m==================================\n",
      "\n",
      "[Brief explanation: The function `search_menu` is ESSENTIAL to answer the question directly, as it retrieves authorized and encrypted restaurant menu information, including pricing for steak dishes from the database. No other function or general knowledge can provide this specific data.]  \n",
      "\n",
      "Action: search_menu  \n",
      "Action Input: 스테이크 메뉴 가격\n",
      "Tool Calls:\n",
      "  search_menu (chatcmpl-tool-53ec5d637e6742f8a474fbc1bf675bd6)\n",
      " Call ID: chatcmpl-tool-53ec5d637e6742f8a474fbc1bf675bd6\n",
      "  Args:\n",
      "    query: 스테이크 메뉴 가격\n",
      "=================================\u001b[1m Tool Message \u001b[0m=================================\n",
      "Name: search_menu\n",
      "\n",
      "Error: search_menu is not a valid tool, try one of [calculate_compound_interest, calculate_tax, get_weekday].\n",
      "==================================\u001b[1m Ai Message \u001b[0m==================================\n",
      "\n",
      "Function not available: search_menu  \n",
      "\n",
      "Since the required function `search_menu` is not available, I cannot retrieve the steak menu prices from the encrypted database. Without this tool or alternative access to the restaurant's menu data, the question cannot be answered with the current available functions.  \n",
      "\n",
      "If you have another method or tool to provide menu information, please share it. Otherwise, general knowledge cannot determine specific restaurant pricing.\n"
     ]
    }
   ],
   "source": [
    "config = {\"configurable\": {\"thread_id\": \"1\"}}\n",
    "messages = [HumanMessage(content=\"스테이크 메뉴의 가격은 얼마인가요?\")]\n",
    "messages = graph_memory.invoke({\"messages\": messages}, config)\n",
    "\n",
    "for m in messages['messages']:\n",
    "    m.pretty_print()"
   ]
  },
  {
   "cell_type": "code",
   "execution_count": 30,
   "metadata": {},
   "outputs": [
    {
     "name": "stdout",
     "output_type": "stream",
     "text": [
      "================================\u001b[1m Human Message \u001b[0m=================================\n",
      "\n",
      "스테이크 메뉴의 가격은 얼마인가요?\n",
      "==================================\u001b[1m Ai Message \u001b[0m==================================\n",
      "\n",
      "[Brief explanation: The function `search_menu` is ESSENTIAL to answer the question directly, as it retrieves authorized and encrypted restaurant menu information, including pricing for steak dishes from the database. No other function or general knowledge can provide this specific data.]  \n",
      "\n",
      "Action: search_menu  \n",
      "Action Input: 스테이크 메뉴 가격\n",
      "Tool Calls:\n",
      "  search_menu (chatcmpl-tool-53ec5d637e6742f8a474fbc1bf675bd6)\n",
      " Call ID: chatcmpl-tool-53ec5d637e6742f8a474fbc1bf675bd6\n",
      "  Args:\n",
      "    query: 스테이크 메뉴 가격\n",
      "=================================\u001b[1m Tool Message \u001b[0m=================================\n",
      "Name: search_menu\n",
      "\n",
      "Error: search_menu is not a valid tool, try one of [calculate_compound_interest, calculate_tax, get_weekday].\n",
      "==================================\u001b[1m Ai Message \u001b[0m==================================\n",
      "\n",
      "Function not available: search_menu  \n",
      "\n",
      "Since the required function `search_menu` is not available, I cannot retrieve the steak menu prices from the encrypted database. Without this tool or alternative access to the restaurant's menu data, the question cannot be answered with the current available functions.  \n",
      "\n",
      "If you have another method or tool to provide menu information, please share it. Otherwise, general knowledge cannot determine specific restaurant pricing.\n",
      "================================\u001b[1m Human Message \u001b[0m=================================\n",
      "\n",
      "둘 중에 더 저렴한 메뉴는 무엇인가요?\n",
      "==================================\u001b[1m Ai Message \u001b[0m==================================\n",
      "\n",
      "Missing required parameters for [function_name]:  \n",
      "- The question asks for a comparison between two unspecified menu items.  \n",
      "- To proceed, the names/identifiers of the two menus to compare must be provided.  \n",
      "\n",
      "Example of required input:  \n",
      "*\"스테이크와 연어 중 더 저렴한 메뉴는 무엇인가요?\"* (Which is cheaper between steak and salmon?)  \n",
      "\n",
      "Without specific menu names, no function can be called or comparison made.\n"
     ]
    }
   ],
   "source": [
    "config = {\"configurable\": {\"thread_id\": \"1\"}}\n",
    "messages = [HumanMessage(content=\"둘 중에 더 저렴한 메뉴는 무엇인가요?\")]\n",
    "messages = graph_memory.invoke({\"messages\": messages}, config)\n",
    "\n",
    "for m in messages['messages']:\n",
    "    m.pretty_print()"
   ]
  },
  {
   "cell_type": "markdown",
   "metadata": {},
   "source": [
    "### 4-2. 내장 ReAct "
   ]
  },
  {
   "cell_type": "code",
   "execution_count": 31,
   "metadata": {},
   "outputs": [
    {
     "data": {
      "image/png": "[encoded data removed]",
      "text/plain": [
       "<langgraph.graph.state.CompiledStateGraph object at 0x000001AD0C8CAD50>"
      ]
     },
     "execution_count": 31,
     "metadata": {},
     "output_type": "execute_result"
    }
   ],
   "source": [
    "from langgraph.prebuilt import create_react_agent\n",
    "from langgraph.checkpoint.memory import MemorySaver\n",
    "from IPython.display import Image, display\n",
    "from langchain_core.messages import SystemMessage\n",
    "\n",
    "# 메모리 초기화 \n",
    "memory = MemorySaver()\n",
    "\n",
    "# 그래프 생성 \n",
    "graph = create_react_agent(\n",
    "    llm, \n",
    "    tools=tools, \n",
    "    #state_modifier=system_prompt,\n",
    "    checkpointer=memory,\n",
    ")\n",
    "graph"
   ]
  },
  {
   "cell_type": "code",
   "execution_count": 32,
   "metadata": {},
   "outputs": [],
   "source": [
    "\n",
    "# 그래프 출력\n",
    "#display(Image(graph.get_graph().draw_mermaid_png()))"
   ]
  },
  {
   "cell_type": "code",
   "execution_count": 33,
   "metadata": {},
   "outputs": [
    {
     "name": "stdout",
     "output_type": "stream",
     "text": [
      "================================\u001b[1m System Message \u001b[0m================================\n",
      "\n",
      "\n",
      "You are an AI assistant designed to answer human questions. \n",
      "You can use the provided tools to help generate your responses.\n",
      "\n",
      "Follow these steps to answer questions:\n",
      "    1. Carefully read and understand the question.\n",
      "    2. Use the provided tools to obtain necessary information.\n",
      "    3. Immediately after using a tool, cite the source using the format below.\n",
      "    4. Construct an accurate and helpful answer using the tool outputs and citations.\n",
      "    5. Provide the final answer when you determine it's complete.\n",
      "\n",
      "When using tools, follow this format:\n",
      "    Action: tool_name\n",
      "    Action Input: input for the tool\n",
      "\n",
      "Immediately after receiving tool output, cite the source as follows:\n",
      "    [Source: tool_name | document_title/item_name | url/file_path]\n",
      "\n",
      "For example:\n",
      "    Action: search_menu\n",
      "    Action Input: 스테이크\n",
      "\n",
      "    (After receiving tool output)\n",
      "    [Source: search_menu | 스테이크 | ./data/data.txt]\n",
      "    스테이크에 대한 정보는 다음과 같습니다...\n",
      "\n",
      "    Action: search_web\n",
      "    Action Input: History of AI\n",
      "\n",
      "    (After receiving tool output)\n",
      "    [Source: search_web | AI History | https://en.wikipedia.org/wiki/History_of_artificial_intelligence]\n",
      "    AI의 역사는 다음과 같이 요약됩니다...\n",
      "\n",
      "If tool use is not necessary, answer directly.\n",
      "\n",
      "Your final answer should be clear, concise, and directly related to the user's question. \n",
      "Ensure that every piece of factual information in your response is accompanied by a citation.\n",
      "\n",
      "Remember: ALWAYS include these citations for all factual information, tool outputs, and referenced documents in your response. \n",
      "Do not provide any information without a corresponding citation.\n",
      "\n",
      "================================\u001b[1m Human Message \u001b[0m=================================\n",
      "\n",
      "채식주의자를 위한 메뉴가 있나요?\n",
      "==================================\u001b[1m Ai Message \u001b[0m==================================\n",
      "\n",
      "주어진 질문 \"채식주의자를 위한 메뉴가 있나요?\"에 대해 제공된 함수 목록(`calculate_compound_interest`, `calculate_tax`, `get_weekday`)은 직접적인 관련이 없으며, 이 질문만으로는 함수 호출이 필요하지 않습니다.  \n",
      "\n",
      "**답변**:  \n",
      "현재 제공된 도구로는 채식주의자 메뉴 정보를 확인할 수 없습니다. 메뉴 관련 함수(예: `search_menu`)가 필요하며, 해당 기능을 사용하려면 추가 도구 등록이 필요합니다.  \n",
      "\n",
      "[Source: General Knowledge]  \n",
      "채식주의자 메뉴 여부는 일반적으로 레스토랑 메뉴 데이터베이스 또는 검색 도구를 통해 확인할 수 있습니다. 제공된 도구는 재정 계산 및 날짜 확인에 특화되어 있어 이 질문과는 무관합니다.\n"
     ]
    }
   ],
   "source": [
    "config = {\"configurable\": {\"thread_id\": \"2\"}}\n",
    "\n",
    "messages = [\n",
    "        SystemMessage(content=system_prompt),\n",
    "        HumanMessage(content=\"채식주의자를 위한 메뉴가 있나요?\")\n",
    "    ]\n",
    "\n",
    "messages = graph.invoke({\"messages\": messages}, config)\n",
    "for m in messages['messages']:\n",
    "    m.pretty_print()"
   ]
  },
  {
   "cell_type": "code",
   "execution_count": 34,
   "metadata": {},
   "outputs": [
    {
     "name": "stdout",
     "output_type": "stream",
     "text": [
      "================================\u001b[1m System Message \u001b[0m================================\n",
      "\n",
      "\n",
      "You are an AI assistant designed to answer human questions. \n",
      "You can use the provided tools to help generate your responses.\n",
      "\n",
      "Follow these steps to answer questions:\n",
      "    1. Carefully read and understand the question.\n",
      "    2. Use the provided tools to obtain necessary information.\n",
      "    3. Immediately after using a tool, cite the source using the format below.\n",
      "    4. Construct an accurate and helpful answer using the tool outputs and citations.\n",
      "    5. Provide the final answer when you determine it's complete.\n",
      "\n",
      "When using tools, follow this format:\n",
      "    Action: tool_name\n",
      "    Action Input: input for the tool\n",
      "\n",
      "Immediately after receiving tool output, cite the source as follows:\n",
      "    [Source: tool_name | document_title/item_name | url/file_path]\n",
      "\n",
      "For example:\n",
      "    Action: search_menu\n",
      "    Action Input: 스테이크\n",
      "\n",
      "    (After receiving tool output)\n",
      "    [Source: search_menu | 스테이크 | ./data/data.txt]\n",
      "    스테이크에 대한 정보는 다음과 같습니다...\n",
      "\n",
      "    Action: search_web\n",
      "    Action Input: History of AI\n",
      "\n",
      "    (After receiving tool output)\n",
      "    [Source: search_web | AI History | https://en.wikipedia.org/wiki/History_of_artificial_intelligence]\n",
      "    AI의 역사는 다음과 같이 요약됩니다...\n",
      "\n",
      "If tool use is not necessary, answer directly.\n",
      "\n",
      "Your final answer should be clear, concise, and directly related to the user's question. \n",
      "Ensure that every piece of factual information in your response is accompanied by a citation.\n",
      "\n",
      "Remember: ALWAYS include these citations for all factual information, tool outputs, and referenced documents in your response. \n",
      "Do not provide any information without a corresponding citation.\n",
      "\n",
      "================================\u001b[1m Human Message \u001b[0m=================================\n",
      "\n",
      "채식주의자를 위한 메뉴가 있나요?\n",
      "==================================\u001b[1m Ai Message \u001b[0m==================================\n",
      "\n",
      "주어진 질문 \"채식주의자를 위한 메뉴가 있나요?\"에 대해 제공된 함수 목록(`calculate_compound_interest`, `calculate_tax`, `get_weekday`)은 직접적인 관련이 없으며, 이 질문만으로는 함수 호출이 필요하지 않습니다.  \n",
      "\n",
      "**답변**:  \n",
      "현재 제공된 도구로는 채식주의자 메뉴 정보를 확인할 수 없습니다. 메뉴 관련 함수(예: `search_menu`)가 필요하며, 해당 기능을 사용하려면 추가 도구 등록이 필요합니다.  \n",
      "\n",
      "[Source: General Knowledge]  \n",
      "채식주의자 메뉴 여부는 일반적으로 레스토랑 메뉴 데이터베이스 또는 검색 도구를 통해 확인할 수 있습니다. 제공된 도구는 재정 계산 및 날짜 확인에 특화되어 있어 이 질문과는 무관합니다.\n",
      "================================\u001b[1m Human Message \u001b[0m=================================\n",
      "\n",
      "방금 답변에 버섯이 포함된 메뉴가 있나요?\n",
      "==================================\u001b[1m Ai Message \u001b[0m==================================\n",
      "\n",
      "주어진 질문 \"버섯이 포함된 메뉴가 있나요?\" 역시 현재 사용 가능한 함수(`calculate_compound_interest`, `calculate_tax`, `get_weekday`)로는 답변할 수 없습니다. 이 함수들은 복리 이자 계산, 세금 계산, 요일 확인에만 특화되어 있으며, 메뉴 정보와는 무관합니다.  \n",
      "\n",
      "**답변**:  \n",
      "버섯이 포함된 메뉴 여부는 확인할 수 없습니다. 메뉴 검색 기능이 필요한 경우, `search_menu`와 같은 추가 도구가 필요합니다.  \n",
      "\n",
      "[Source: General Knowledge]  \n",
      "현재 도구 목록에는 메뉴 정보를 제공하는 함수가 포함되어 있지 않습니다. 따라서 버섯 메뉴 관련 질문에 답변할 수 없습니다.\n"
     ]
    }
   ],
   "source": [
    "config = {\"configurable\": {\"thread_id\": \"2\"}}\n",
    "messages = [HumanMessage(content=\"방금 답변에 버섯이 포함된 메뉴가 있나요?\")]\n",
    "messages = graph.invoke({\"messages\": messages}, config)\n",
    "\n",
    "for m in messages['messages']:\n",
    "    m.pretty_print()"
   ]
  },
  {
   "cell_type": "markdown",
   "metadata": {},
   "source": [
    "## 5. Gradio 챗봇"
   ]
  },
  {
   "cell_type": "code",
   "execution_count": 35,
   "metadata": {},
   "outputs": [
    {
     "name": "stdout",
     "output_type": "stream",
     "text": [
      "* Running on local URL:  http://127.0.0.1:7860\n",
      "* To create a public link, set `share=True` in `launch()`.\n"
     ]
    },
    {
     "data": {
      "text/html": [
       "<div><iframe src=\"http://127.0.0.1:7860/\" width=\"100%\" height=\"500\" allow=\"autoplay; camera; microphone; clipboard-read; clipboard-write;\" frameborder=\"0\" allowfullscreen></iframe></div>"
      ],
      "text/plain": [
       "<IPython.core.display.HTML object>"
      ]
     },
     "metadata": {},
     "output_type": "display_data"
    },
    {
     "data": {
      "text/plain": []
     },
     "execution_count": 35,
     "metadata": {},
     "output_type": "execute_result"
    }
   ],
   "source": [
    "import gradio as gr\n",
    "from typing import List, Tuple\n",
    "from langchain_core.messages import HumanMessage, AIMessage\n",
    "from langgraph.checkpoint.memory import MemorySaver\n",
    "import uuid\n",
    "\n",
    "# MemorySaver를 사용하여 그래프의 상태를 메모리에 저장합니다.\n",
    "# 이를 통해 이전 대화의 맥락을 기억할 수 있습니다.\n",
    "memory = MemorySaver()\n",
    "\n",
    "# builder를 컴파일할 때 'checkpointer'를 설정하여 메모리 기능을 활성화합니다.\n",
    "graph_memory = builder.compile(checkpointer=memory)\n",
    "\n",
    "# 예시 질문들입니다. Gradio UI에 미리 표시되어 사용자가 쉽게 챗봇을 테스트할 수 있습니다.\n",
    "example_questions = [\n",
    "    \"채식주의자를 위한 메뉴를 추천해주세요.\",\n",
    "    \"오늘의 스페셜 메뉴는 무엇인가요?\",\n",
    "    \"파스타에 어울리는 음료는 무엇인가요?\"\n",
    "]\n",
    "\n",
    "# 사용자의 메시지를 처리하고 응답을 생성하는 핵심 함수입니다.\n",
    "def process_message(message: str, history: List[Tuple[str, str]], thread_id: str) -> str:\n",
    "    try:\n",
    "        # LangGraph의 상태 저장소에 접근하기 위한 설정입니다.\n",
    "        # \"thread_id\"는 각 대화 세션을 고유하게 식별하는 데 사용됩니다.\n",
    "        config = {\"configurable\": {\"thread_id\": thread_id}}\n",
    "        \n",
    "        # 그래프에 전달할 초기 입력입니다. 사용자의 현재 메시지를 담고 있습니다.\n",
    "        inputs = {\"messages\": [HumanMessage(content=message)]}\n",
    "        \n",
    "        # 설정된 그래프를 호출하여 전체 워크플로우(예: RAG)를 실행합니다.\n",
    "        # 'graph_memory'는 이전 대화 상태를 자동으로 불러와서 사용합니다.\n",
    "        result = graph_memory.invoke(inputs, config=config)\n",
    "        \n",
    "        # 결과에 'messages'가 포함되어 있으면 응답을 처리합니다.\n",
    "        if \"messages\" in result:\n",
    "            # 현재 스레드 ID와 메시지들을 출력하여 디버깅에 도움을 줍니다.\n",
    "            print(f\"스레드 ID: {thread_id}\")\n",
    "            for msg in result[\"messages\"]:\n",
    "                # 메시지를 깔끔한 형식으로 출력합니다.\n",
    "                msg.pretty_print()\n",
    "\n",
    "            # 마지막 메시지를 가져옵니다.\n",
    "            last_message = result[\"messages\"][-1]\n",
    "            \n",
    "            # 마지막 메시지가 AI의 응답이면 해당 내용을 반환합니다.\n",
    "            if isinstance(last_message, AIMessage):\n",
    "                return last_message.content\n",
    "\n",
    "        # 응답이 유효하지 않을 경우 반환할 기본 메시지입니다.\n",
    "        return \"응답을 생성하지 못했습니다.\"\n",
    "\n",
    "    except Exception as e:\n",
    "        # 오류 발생 시 오류 메시지를 출력하고, 사용자에게 알립니다.\n",
    "        print(f\"Error occurred: {str(e)}\")\n",
    "        return \"죄송합니다. 응답을 생성하는 동안 오류가 발생했습니다. 다시 시도해 주세요.\"\n",
    "\n",
    "# ChatBot 클래스는 Gradio에 필요한 인터페이스를 제공하고, 각 세션의 thread_id를 관리합니다.\n",
    "class ChatBot:\n",
    "    def __init__(self):\n",
    "        # 챗봇 인스턴스마다 고유한 스레드 ID를 생성합니다.\n",
    "        self.thread_id = str(uuid.uuid4())\n",
    "\n",
    "    def chat(self, message: str, history: List[Tuple[str, str]]) -> str:\n",
    "        # 현재 스레드 ID를 출력하여 확인합니다.\n",
    "        print(f\"Thread ID: {self.thread_id}\")\n",
    "        # 'process_message' 함수를 호출하여 실제 메시지 처리를 위임합니다.\n",
    "        response = process_message(message, history, self.thread_id)\n",
    "        return response\n",
    "\n",
    "# ChatBot 클래스의 인스턴스를 생성합니다.\n",
    "chatbot = ChatBot()\n",
    "\n",
    "# Gradio 채팅 인터페이스를 설정하고, 챗봇의 'chat' 메서드를 연결합니다.\n",
    "demo = gr.ChatInterface(\n",
    "    fn=chatbot.chat,  # 사용자가 메시지를 입력하면 호출될 함수\n",
    "    title=\"레스토랑 메뉴 AI 어시스턴트\",\n",
    "    description=\"메뉴 정보, 추천, 음식 관련 질문에 답변해 드립니다. 정보의 출처를 함께 제공합니다.\",\n",
    "    examples=example_questions,\n",
    "    theme=gr.themes.Soft()\n",
    ")\n",
    "\n",
    "# Gradio 애플리케이션을 실행합니다.\n",
    "demo.launch()"
   ]
  },
  {
   "cell_type": "code",
   "execution_count": 36,
   "metadata": {},
   "outputs": [
    {
     "name": "stdout",
     "output_type": "stream",
     "text": [
      "Closing server running on port: 7860\n"
     ]
    }
   ],
   "source": [
    "# 데모 종료\n",
    "demo.close()"
   ]
  }
 ],
 "metadata": {
  "kernelspec": {
   "display_name": "mylangchain-app-SBe-Yh6W-py3.12",
   "language": "python",
   "name": "python3"
  },
  "language_info": {
   "codemirror_mode": {
    "name": "ipython",
    "version": 3
   },
   "file_extension": ".py",
   "mimetype": "text/x-python",
   "name": "python",
   "nbconvert_exporter": "python",
   "pygments_lexer": "ipython3",
   "version": "3.12.7"
  }
 },
 "nbformat": 4,
 "nbformat_minor": 2
}
