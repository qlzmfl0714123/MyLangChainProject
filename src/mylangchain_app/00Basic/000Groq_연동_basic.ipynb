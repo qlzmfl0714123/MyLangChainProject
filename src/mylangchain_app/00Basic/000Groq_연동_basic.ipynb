{
 "cells": [
  {
   "cell_type": "code",
   "execution_count": 1,
   "metadata": {},
   "outputs": [
    {
     "name": "stdout",
     "output_type": "stream",
     "text": [
      "Hello LangChain!!\n"
     ]
    }
   ],
   "source": [
    "print(\"Hello LangChain!!\")"
   ]
  },
  {
   "cell_type": "code",
   "execution_count": 11,
   "metadata": {},
   "outputs": [
    {
     "name": "stdout",
     "output_type": "stream",
     "text": [
      "gsk_A\n"
     ]
    }
   ],
   "source": [
    "import os\n",
    "from dotenv import load_dotenv\n",
    "from langchain_core.prompts import ChatPromptTemplate\n",
    "from langchain_openai import ChatOpenAI \n",
    "\n",
    "#load_dotenv(dotenv_path='.env')\n",
    "load_dotenv()\n",
    "OPENAI_API_KEY = os.getenv(\"OPENAI_API_KEY\")\n",
    "print(OPENAI_API_KEY[:5])\n"
   ]
  },
  {
   "cell_type": "code",
   "execution_count": 3,
   "metadata": {},
   "outputs": [
    {
     "name": "stdout",
     "output_type": "stream",
     "text": [
      "<class 'langchain_core.prompts.chat.ChatPromptTemplate'>\n",
      "input_variables=['input'] input_types={} partial_variables={} messages=[SystemMessagePromptTemplate(prompt=PromptTemplate(input_variables=[], input_types={}, partial_variables={}, template='당신은 개발자입니다.'), additional_kwargs={}), HumanMessagePromptTemplate(prompt=PromptTemplate(input_variables=['input'], input_types={}, partial_variables={}, template='{input}'), additional_kwargs={})]\n"
     ]
    }
   ],
   "source": [
    "# prompt + llm + output \n",
    "\n",
    "# prompt\n",
    "prompt = ChatPromptTemplate.from_messages(\n",
    "    [ (\"system\", \"당신은 개발자입니다.\") , \n",
    "     (\"user\", \"{input}\") ]\n",
    ")\n",
    "print(type(prompt))\n",
    "print(prompt)"
   ]
  },
  {
   "cell_type": "code",
   "execution_count": 4,
   "metadata": {},
   "outputs": [
    {
     "name": "stdout",
     "output_type": "stream",
     "text": [
      "<class 'str'>\n",
      "System: 당신은 개발자입니다.\n",
      "Human: 파이썬은 무엇인가요? 자세하게 설명해주세요\n"
     ]
    }
   ],
   "source": [
    "prompt_text = prompt.format(input=\"파이썬은 무엇인가요? 자세하게 설명해주세요\")\n",
    "print(type(prompt_text))\n",
    "print(prompt_text)"
   ]
  },
  {
   "cell_type": "code",
   "execution_count": 5,
   "metadata": {},
   "outputs": [
    {
     "name": "stdout",
     "output_type": "stream",
     "text": [
      "<class 'langchain_openai.chat_models.base.ChatOpenAI'>\n",
      "client=<openai.resources.chat.completions.completions.Completions object at 0x0000025B459840E0> async_client=<openai.resources.chat.completions.completions.AsyncCompletions object at 0x0000025B45B71190> root_client=<openai.OpenAI object at 0x0000025B42AAA330> root_async_client=<openai.AsyncOpenAI object at 0x0000025B45690800> model_name='openai/gpt-oss-120b' temperature=0.7 model_kwargs={} openai_api_key=SecretStr('**********') openai_api_base='https://api.groq.com/openai/v1'\n"
     ]
    }
   ],
   "source": [
    "#llm = ChatOpenAI(api_key=OPENAI_API_KEY, model_name=\"gpt-3.5-turbo-0125\")\n",
    "\n",
    "# Groq API를 사용하는 ChatOpenAI 인스턴스 생성\n",
    "llm = ChatOpenAI(\n",
    "    #api_key=OPENAI_API_KEY,\n",
    "    base_url=\"https://api.groq.com/openai/v1\",  # Groq API 엔드포인트\n",
    "    #model=\"meta-llama/llama-4-scout-17b-16e-instruct\",\n",
    "    #model=\"moonshotai/kimi-k2-instruct-0905\",\n",
    "    model=\"openai/gpt-oss-120b\",\n",
    "    temperature=0.7\n",
    ")\n",
    "print(type(llm))\n",
    "print(llm)"
   ]
  },
  {
   "cell_type": "code",
   "execution_count": 6,
   "metadata": {},
   "outputs": [
    {
     "name": "stdout",
     "output_type": "stream",
     "text": [
      "<class 'langchain_core.messages.ai.AIMessage'>\n",
      "응답: ## 파이썬(Python)이란?\n",
      "\n",
      "파이썬은 **고수준(high‑level), 인터프리터형(interpreted), 동적 타이핑(dynamic typing)** 언어이며, **읽기 쉬운 문법**과 **광범위한 표준·서드파티 라이브러리**를 갖춘 범용 프로그래밍 언어입니다. 1991년 네덜란드의 Guido van Rossum이 발표했으며, 현재는 **오픈소스**로 전 세계 수많은 개발자와 기업이 활발히 사용하고 있습니다.\n",
      "\n",
      "---\n",
      "\n",
      "## 1. 역사와 배경\n",
      "\n",
      "| 연도 | 주요 사건 |\n",
      "|------|-----------|\n",
      "| **1980년대 말** | Guido van Rossum이 ABC 언어의 단점을 보완하려는 목적으로 파이썬 설계 시작 |\n",
      "| **1991년** | 파이썬 0.9.0 공개 (예외 처리, 모듈, 기본 데이터 타입) |\n",
      "| **2000년** | 파이썬 2.0 릴리즈 – 리스트 컴프리헨션, 가비지 컬렉션 등 추가 |\n",
      "| **2008년** | 파이썬 3.0 릴리즈 – 호환성을 깨뜨리는 대대적 개선 (문자열/바이트 구분, `print` 함수화 등) |\n",
      "| **2020년** | 파이썬 3.9, 3.10, 3.11 등 최신 버전 출시 – 성능 향상, 패턴 매칭, 타입 힌트 강화 |\n",
      "| **2023년** | 파이썬 3.12 베타 공개 – 파서 최적화, 메모리 사용량 감소 등 |\n",
      "\n",
      "> **핵심 철학** – “**가독성**이 가장 중요하다”. 파이썬은 **PEP 20 – The Zen of Python**(코드에 `import this` 입력 시 확인 가능)으로 설계 원칙을 명시합니다.\n",
      "\n",
      "---\n",
      "\n",
      "## 2. 주요 특징\n",
      "\n",
      "| 특징 | 설명 | 예시 |\n",
      "|------|------|------|\n",
      "| **읽기 쉬운 문법** | 들여쓰기로 블록을 구분, 불필요한 기호(세미콜론, 중괄호) 최소화 | ```python\\nif x > 0:\\n    print(\"양수\")\\n``` |\n",
      "| **동적 타이핑** | 변수 선언 시 타입을 명시하지 않음. 런타임에 타입이 결정 | `a = 10   # int`<br>`a = \"hello\"   # str` |\n",
      "| **인터프리터 실행** | 코드를 컴파일 없이 바로 실행 (REPL, 스크립트) | `python myscript.py` |\n",
      "| **풍부한 표준 라이브러리** | 파일·네트워크·압축·멀티스레딩·테스트 등 300+ 모듈 제공 | `json`, `datetime`, `threading` |\n",
      "| **멀티패러다임** | 절차형, 객체지향, 함수형 프로그래밍 지원 | 클래스, 람다, 제네레이터 등 |\n",
      "| **플랫폼 독립성** | Windows, macOS, Linux, 모바일, 임베디드 등에서 동작 | 동일한 `.py` 파일을 여러 OS에서 실행 가능 |\n",
      "| **확장성** | C/C++ 로 작성된 모듈을 손쉽게 연결 (`ctypes`, `cffi`, `cython`) | 성능이 중요한 부분을 C로 구현 가능 |\n",
      "| **대규모 커뮤니티** | PyPI(파이썬 패키지 인덱스) > 350,000개 패키지, 활발한 포럼·컨퍼런스 | `pip install numpy` 등 |\n",
      "\n",
      "---\n",
      "\n",
      "## 3. 파이썬의 기본 구조\n",
      "\n",
      "### 3.1 데이터 타입\n",
      "\n",
      "| 타입 | 설명 | 예시 |\n",
      "|------|------|------|\n",
      "| `int` | 정수 | `42` |\n",
      "| `float` | 부동소수점 | `3.14` |\n",
      "| `bool` | 논리값 | `True`, `False` |\n",
      "| `str` | 문자열 (유니코드) | `\"안녕하세요\"` |\n",
      "| `list` | 가변 순서 컬렉션 | `[1, 2, 3]` |\n",
      "| `tuple` | 불변 순서 컬렉션 | `(1, 2, 3)` |\n",
      "| `set` | 중복 없는 집합 | `{1, 2, 3}` |\n",
      "| `dict` | 키‑값 매핑 | `{'name': 'Alice', 'age': 30}` |\n",
      "| `bytes` | 바이너리 데이터 | `b'\\x00\\xFF'` |\n",
      "\n",
      "### 3.2 제어 흐름\n",
      "\n",
      "```python\n",
      "# 조건문\n",
      "if score >= 90:\n",
      "    grade = \"A\"\n",
      "elif score >= 80:\n",
      "    grade = \"B\"\n",
      "else:\n",
      "    grade = \"C\"\n",
      "\n",
      "# 반복문\n",
      "for i in range(5):\n",
      "    print(i)          # 0~4 출력\n",
      "\n",
      "while True:\n",
      "    line = input(\"> \")\n",
      "    if line == \"quit\":\n",
      "        break\n",
      "```\n",
      "\n",
      "### 3.3 함수와 람다\n",
      "\n",
      "```python\n",
      "def factorial(n: int) -> int:   # 타입 힌트(선택적)\n",
      "    \"\"\"재귀적으로 팩토리얼을 계산\"\"\"\n",
      "    return 1 if n == 0 else n * factorial(n-1)\n",
      "\n",
      "# 람다(익명 함수)\n",
      "square = lambda x: x * x\n",
      "print(square(5))   # 25\n",
      "```\n",
      "\n",
      "### 3.4 클래스와 객체지향\n",
      "\n",
      "```python\n",
      "class Animal:\n",
      "    def __init__(self, name: str):\n",
      "        self.name = name\n",
      "\n",
      "    def speak(self):\n",
      "        raise NotImplementedError\n",
      "\n",
      "class Dog(Animal):\n",
      "    def speak(self):\n",
      "        return f\"{self.name} says Woof!\"\n",
      "\n",
      "class Cat(Animal):\n",
      "    def speak(self):\n",
      "        return f\"{self.name} says Meow!\"\n",
      "\n",
      "dog = Dog(\"Bobby\")\n",
      "cat = Cat(\"Mimi\")\n",
      "print(dog.speak())   # Bobby says Woof!\n",
      "print(cat.speak())   # Mimi says Meow!\n",
      "```\n",
      "\n",
      "### 3.5 모듈과 패키지\n",
      "\n",
      "```python\n",
      "# mymodule.py\n",
      "def hello():\n",
      "    print(\"Hello from mymodule!\")\n",
      "\n",
      "# main.py\n",
      "import mymodule\n",
      "from mymodule import hello\n",
      "\n",
      "mymodule.hello()   # Hello from mymodule!\n",
      "hello()            # Hello from mymodule!\n",
      "```\n",
      "\n",
      "패키지는 디렉터리 구조와 `__init__.py` 파일을 이용해 계층화된 모듈 집합을 만든다.\n",
      "\n",
      "---\n",
      "\n",
      "## 4. 파이썬 실행 환경\n",
      "\n",
      "| 환경 | 특징 | 사용 예시 |\n",
      "|------|------|----------|\n",
      "| **CPython** | 가장 널리 쓰이는 공식 구현 (C로 구현) | 일반적인 개발·배포 |\n",
      "| **PyPy** | JIT(Just‑In‑Time) 컴파일러 탑재, 실행 속도 빠름 | 성능이 중요한 스크립트 |\n",
      "| **Jython** | Java 가상머신 위에서 동작, Java와 통합 용이 | Java 프로젝트 내 스크립팅 |\n",
      "| **IronPython** | .NET 환경 전용 | C#·.NET과 연동 |\n",
      "| **MicroPython** | 마이크로컨트롤러(ESP32, STM32 등)용 경량 구현 | IoT·임베디드 |\n",
      "\n",
      "> **가상 환경**: `venv`, `virtualenv`, `conda` 등을 이용해 프로젝트마다 독립된 패키지 집합을 관리한다. 이는 의존성 충돌 방지에 필수적이다.\n",
      "\n",
      "---\n",
      "\n",
      "## 5. 주요 활용 분야\n",
      "\n",
      "| 분야 | 구체적인 예시 |\n",
      "|------|--------------|\n",
      "| **웹 개발** | Django, Flask, FastAPI 로 REST API·웹사이트 구축 |\n",
      "| **데이터 과학·머신러닝** | NumPy, pandas, scikit‑learn, TensorFlow, PyTorch |\n",
      "| **자동화·스크립팅** | 파일·시스템 자동화, 웹 스크래핑(`requests`, `BeautifulSoup`, `Selenium`) |\n",
      "| **시스템 관리** | Ansible, SaltStack 같은 인프라 자동화 도구 |\n",
      "| **게임 개발** | Pygame, Godot 엔진 파이썬 스크립팅 |\n",
      "| **데스크톱 GUI** | Tkinter, PyQt, Kivy |\n",
      "| **교육·학습** | 초·중·고등 교육, 코딩 입문에 최적화된 언어 |\n",
      "| **과학·공학** | 시뮬레이션, 수치 해석(SciPy), 이미지 처리(OpenCV) |\n",
      "| **클라우드·서버리스** | AWS Lambda, Google Cloud Functions에 파이썬 함수 배포 |\n",
      "| **보안·해킹** | 침투 테스트 도구, 악성코드 분석 스크립트 |\n",
      "\n",
      "---\n",
      "\n",
      "## 6. 파이썬 패키지 관리\n",
      "\n",
      "```bash\n",
      "# 기본 패키지 매니저\n",
      "pip install <패키지명>\n",
      "\n",
      "# 최신 pip 업그레이드\n",
      "python -m pip install --upgrade pip\n",
      "\n",
      "# requirements.txt 로 의존성 관리\n",
      "pip freeze > requirements.txt\n",
      "pip install -r requirements.txt\n",
      "```\n",
      "\n",
      "**conda**(Anaconda/Miniconda)도 과학·데이터 분야에서 많이 쓰이며, 바이너리 의존성(예: MKL, CUDA) 설치가 간편하다.\n",
      "\n",
      "---\n",
      "\n",
      "## 7. 성능 최적화 팁\n",
      "\n",
      "1. **프로파일링**: `cProfile`, `line_profiler` 로 병목 파악.\n",
      "2. **내장 함수·표현식 활용**: 리스트 컴프리헨션, `map`, `sum` 등은 C 레벨 구현이라 빠름.\n",
      "3. **외부 라이브러리**: 수치 연산은 `NumPy`(C/Fortran 기반) 사용.\n",
      "4. **JIT 컴파일러**: `PyPy` 혹은 `Numba`(데코레이터 기반 JIT) 적용.\n",
      "5. **멀티스레드/멀티프로세스**: GIL을 피하려면 `multiprocessing` 혹은 `concurrent.futures` 사용.\n",
      "6. **C 확장**: `Cython`, `cffi`, `ctypes` 로 핵심 로직을 C로 변환.\n",
      "\n",
      "---\n",
      "\n",
      "## 8. 파이썬 학습 로드맵 (추천 순서)\n",
      "\n",
      "| 단계 | 목표 | 학습 내용 | 참고 자료 |\n",
      "|------|------|-----------|-----------|\n",
      "| **1. 기본 문법** | 변수, 연산자, 제어문, 함수 | 변수 선언, `if/for/while`, 기본 내장 함수 | 《점프 투 파이썬》, Python 공식 튜토리얼 |\n",
      "| **2. 자료구조** | 리스트·딕셔너리·집합·튜플 활용 | 리스트 컴프리헨션, 슬라이싱, 딕셔너리 메서드 | 《파이썬 코딩 도장》 |\n",
      "| **3. 객체지향** | 클래스·상속·다형성 | `__init__`, `@property`, MRO | Real Python – OOP in Python |\n",
      "| **4. 모듈·패키지** | 코드 재사용·가상 환경 | `import`, `__init__.py`, `venv` | 공식 문서 – Packaging |\n",
      "| **5. 파일·예외 처리** | 파일 입출력·에러 관리 | `with open`, `try/except/else/finally` | 《파이썬 입문》 |\n",
      "| **6. 표준 라이브러리** | `datetime`, `json`, `os`, `subprocess` 등 | 실전 예제 구현 | Python Docs – Library Reference |\n",
      "| **7. 외부 라이브러리** | `requests`, `pandas`, `flask` 등 | API 호출, 데이터 분석, 웹 서버 | PyPI, Awesome‑Python 리스트 |\n",
      "| **8. 프로젝트** | 실제 서비스/앱 만들기 | Git, CI/CD, Docker와 연동 | 쿠버네티스·Docker 공식 튜토리얼 |\n",
      "| **9. 고급 주제** | 비동기(`asyncio`), 타입 힌트, 메타프로그래밍 | `async/await`, `typing` 모듈, 데코레이터 | 《Fluent Python》, PEP 문서 |\n",
      "\n",
      "---\n",
      "\n",
      "## 9. 파이썬 생태계 핵심 리소스\n",
      "\n",
      "| 구분 | URL | 설명 |\n",
      "|------|-----|------|\n",
      "| **공식 문서** | https://docs.python.org/3/ | 언어 사양, 표준 라이브러리, 튜토리얼 |\n",
      "| **패키지 인덱스** | https://pypi.org/ | 전 세계 파이썬 패키지 저장소 |\n",
      "| **커뮤니티** | Stack Overflow, Reddit r/learnpython, 한국의 파이썬 개발자 모임(파이콘) | Q&A와 토론 |\n",
      "| **교육 플랫폼** | Coursera, Udemy, Inflearn, Fast Campus | 입문·심화 강의 |\n",
      "| **버전 관리** | https://github.com/python/cpython | CPython 소스코드와 이슈 트래킹 |\n",
      "| **컨벤션** | PEP 8 (코드 스타일), PEP 20 (Zen) | 일관된 코드 작성 가이드 |\n",
      "\n",
      "---\n",
      "\n",
      "## 10. 결론\n",
      "\n",
      "- **가독성**과 **생산성**을 최우선으로 설계된 파이썬은 **초보자**와 **전문가** 모두에게 매력적인 언어입니다.\n",
      "- **풍부한 라이브러리**와 **활발한 커뮤니티** 덕분에 웹, 데이터 과학, 자동화, 임베디드 등 거의 모든 분야에서 **핵심 도구**로 자리 잡고 있습니다.\n",
      "- 최신 버전(3.12+)은 **성능 개선**과 **문법 간결성**을 지속적으로 추구하고 있어, 앞으로도 성장 가능성이 매우 높습니다.\n",
      "\n",
      "> **시작이 반이다!**  \n",
      "> 간단한 `print(\"Hello, Python!\")` 로 인터프리터를 실행해보고, 차근차근 위 로드맵을 따라가면 어느새 실제 프로젝트를 만들 수 있는 수준에 도달할 것입니다. 궁금한 점이 있으면 언제든 질문해 주세요! 🚀\n"
     ]
    }
   ],
   "source": [
    "try:\n",
    "    response = llm.invoke(prompt_text)\n",
    "    print(type(response))\n",
    "    print(\"응답:\", response.content)\n",
    "except Exception as e:\n",
    "    print(f\"오류 발생: {e}\")"
   ]
  },
  {
   "cell_type": "markdown",
   "metadata": {},
   "source": [
    "# LCEL"
   ]
  },
  {
   "cell_type": "code",
   "execution_count": 7,
   "metadata": {},
   "outputs": [],
   "source": [
    "from langchain_core.output_parsers import StrOutputParser\n",
    "\n",
    "output_parser = StrOutputParser()"
   ]
  },
  {
   "cell_type": "code",
   "execution_count": 8,
   "metadata": {},
   "outputs": [
    {
     "name": "stdout",
     "output_type": "stream",
     "text": [
      "<class 'langchain_core.runnables.base.RunnableSequence'>\n",
      "first=ChatPromptTemplate(input_variables=['input'], input_types={}, partial_variables={}, messages=[SystemMessagePromptTemplate(prompt=PromptTemplate(input_variables=[], input_types={}, partial_variables={}, template='당신은 개발자입니다.'), additional_kwargs={}), HumanMessagePromptTemplate(prompt=PromptTemplate(input_variables=['input'], input_types={}, partial_variables={}, template='{input}'), additional_kwargs={})]) middle=[ChatOpenAI(client=<openai.resources.chat.completions.completions.Completions object at 0x0000025B459840E0>, async_client=<openai.resources.chat.completions.completions.AsyncCompletions object at 0x0000025B45B71190>, root_client=<openai.OpenAI object at 0x0000025B42AAA330>, root_async_client=<openai.AsyncOpenAI object at 0x0000025B45690800>, model_name='openai/gpt-oss-120b', temperature=0.7, model_kwargs={}, openai_api_key=SecretStr('**********'), openai_api_base='https://api.groq.com/openai/v1')] last=StrOutputParser()\n"
     ]
    }
   ],
   "source": [
    "chain = prompt | llm | output_parser\n",
    "print(type(chain))\n",
    "print(chain)"
   ]
  },
  {
   "cell_type": "code",
   "execution_count": 9,
   "metadata": {},
   "outputs": [],
   "source": [
    "response = chain.invoke({\"input\":\"지구의 자전주기는 얼마인가요?\"})"
   ]
  },
  {
   "cell_type": "code",
   "execution_count": 10,
   "metadata": {},
   "outputs": [
    {
     "name": "stdout",
     "output_type": "stream",
     "text": [
      "<class 'str'>\n",
      "지구의 자전주기는 두 가지 기준에 따라 다르게 표현됩니다.\n",
      "\n",
      "| 기준 | 자전주기 | 설명 |\n",
      "|------|----------|------|\n",
      "| **항성일 (Sidereal Day)** | **약 23시간 56분 4초** (≈ 86 400 초) | 별을 기준으로 같은 위치에 다시 오기까지 걸리는 시간. 실제 지구가 한 바퀴를 완전히 회전한 시간입니다. |\n",
      "| **태양일 (Solar Day)** | **약 24시간** (≈ 86 400 초) | 태양이 하늘에서 같은 위치(예: 정오)로 돌아오기까지 걸리는 시간. 일상 생활에서 사용하는 “하루”가 바로 이 태양일입니다. |\n",
      "\n",
      "즉, **지구는 약 23시간 56분 정도**에 한 바퀴를 회전하지만, 태양에 대한 상대적인 위치가 다시 맞춰지는 데는 **24시간**이 필요합니다. 이것이 우리가 일상에서 “하루”라고 부르는 시간입니다.\n"
     ]
    }
   ],
   "source": [
    "print(type(response))\n",
    "print(response)"
   ]
  }
 ],
 "metadata": {
  "kernelspec": {
   "display_name": "mylangchain-app-SBe-Yh6W-py3.12",
   "language": "python",
   "name": "python3"
  },
  "language_info": {
   "codemirror_mode": {
    "name": "ipython",
    "version": 3
   },
   "file_extension": ".py",
   "mimetype": "text/x-python",
   "name": "python",
   "nbconvert_exporter": "python",
   "pygments_lexer": "ipython3",
   "version": "3.12.7"
  }
 },
 "nbformat": 4,
 "nbformat_minor": 2
}
