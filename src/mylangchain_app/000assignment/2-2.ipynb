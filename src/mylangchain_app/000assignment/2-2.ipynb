{
 "cells": [
  {
   "cell_type": "code",
   "execution_count": 1,
   "id": "9c4983e0",
   "metadata": {},
   "outputs": [],
   "source": [
    "# %pip install -q langchain langchain-openai langchain-community \"pydantic>=2\""
   ]
  },
  {
   "cell_type": "code",
   "execution_count": null,
   "id": "4f25b050",
   "metadata": {},
   "outputs": [],
   "source": [
    "from enum import Enum\n",
    "from typing import List, Tuple\n",
    "\n",
    "from langchain_core.prompts import PromptTemplate\n",
    "from langchain_openai import ChatOpenAI\n",
    "\n",
    "try:\n",
    "    \n",
    "    from langchain.output_parsers import EnumOutputParser\n",
    "except ImportError:\n",
    "    \n",
    "    from langchain.output_parsers.enum import EnumOutputParser  \n",
    "\n",
    "\n",
    "try:\n",
    "    from langchain.output_parsers.fix import OutputFixingParser  \n",
    "except Exception:\n",
    "    OutputFixingParser = None\n",
    "\n",
    "\n",
    "class Sentiment(Enum):\n",
    "    긍정 = \"긍정\"\n",
    "    부정 = \"부정\"\n",
    "    보통 = \"보통\"\n",
    "\n",
    "\n",
    "def build_llm(model_name: str = \"gpt-4o-mini\", temperature: float = 0.0):\n",
    "    return ChatOpenAI(model=model_name, temperature=temperature)\n",
    "\n",
    "\n",
    "def build_sentiment_parser(llm=None):\n",
    "    base = EnumOutputParser(enum=Sentiment)\n",
    "    if OutputFixingParser and llm is not None:\n",
    "        \n",
    "        return OutputFixingParser.from_llm(parser=base, llm=llm)\n",
    "    return base\n",
    "\n"
   ]
  },
  {
   "cell_type": "code",
   "execution_count": 4,
   "id": "f0330431",
   "metadata": {},
   "outputs": [],
   "source": [
    "def classify_review(review: str, llm=None) -> Sentiment:\n",
    "    \"\"\"\n",
    "    한국어 영화 리뷰 텍스트를 받아 '긍정/부정/보통' 중 하나로 분류.\n",
    "    \"\"\"\n",
    "    llm = llm or build_llm()\n",
    "    parser = build_sentiment_parser(llm)\n",
    "    fmt = parser.get_format_instructions()\n",
    "\n",
    "    prompt = PromptTemplate(\n",
    "        template=(\n",
    "            \"\"\"\n",
    "            너는 한국어 영화 리뷰의 감정을 분류한다.\n",
    "            가능한 레이블: 긍정, 부정, 보통 (정확히 이 셋 중 하나)\n",
    "            - 부정적 표현이 강하면 '부정'\n",
    "            - 칭찬/감탄/추천 뉘앙스면 '긍정'\n",
    "            - 호불호가 뚜렷하지 않거나 무난하면 '보통'\n",
    "            {format_instructions}\n",
    "\n",
    "            리뷰: {review}\n",
    "            \"\"\"\n",
    "        ),\n",
    "        input_variables=[\"review\"],\n",
    "        partial_variables={\"format_instructions\": fmt},\n",
    "    )\n",
    "\n",
    "    chain = prompt | llm | parser\n",
    "    return chain.invoke({\"review\": review})\n",
    "\n",
    "def classify_many(reviews: List[str]) -> List[Tuple[str, Sentiment]]:\n",
    "    llm = build_llm()\n",
    "    results = []\n",
    "    for r in reviews:\n",
    "        try:\n",
    "            lab = classify_review(r, llm=llm)\n",
    "        except Exception as e:\n",
    "            # 파싱/통신 예외 시 안전하게 '보통'으로 폴백 (원하면 로직 변경 가능)\n",
    "            lab = Sentiment.보통\n",
    "        results.append((r, lab))\n",
    "    return results\n",
    "\n",
    "def print_table(pairs: List[Tuple[str, Sentiment]]):\n",
    "    print(\"=\"*12, \"감정 분석 결과\", \"=\"*12)\n",
    "    for text, label in pairs:\n",
    "        print(f\"[{label.value}] {text}\")\n"
   ]
  },
  {
   "cell_type": "code",
   "execution_count": 5,
   "id": "74a053c9",
   "metadata": {},
   "outputs": [
    {
     "name": "stdout",
     "output_type": "stream",
     "text": [
      "============ 감정 분석 결과 ============\n",
      "[부정] 이 영화 정말 재미없어요. 시간 낭비였습니다.\n",
      "[긍정] 배우들의 연기가 훌륭하고 스토리도 감동적이었어요!\n",
      "[보통] 그냥 무난한 영화였습니다. 나쁘지도 좋지도 않아요.\n"
     ]
    }
   ],
   "source": [
    "test_reviews = [\n",
    "    \"이 영화 정말 재미없어요. 시간 낭비였습니다.\",\n",
    "    \"배우들의 연기가 훌륭하고 스토리도 감동적이었어요!\",\n",
    "    \"그냥 무난한 영화였습니다. 나쁘지도 좋지도 않아요.\",\n",
    "]\n",
    "\n",
    "results = classify_many(test_reviews)\n",
    "print_table(results)\n"
   ]
  }
 ],
 "metadata": {
  "kernelspec": {
   "display_name": "mylangchain-app-SBe-Yh6W-py3.12",
   "language": "python",
   "name": "python3"
  },
  "language_info": {
   "codemirror_mode": {
    "name": "ipython",
    "version": 3
   },
   "file_extension": ".py",
   "mimetype": "text/x-python",
   "name": "python",
   "nbconvert_exporter": "python",
   "pygments_lexer": "ipython3",
   "version": "3.12.7"
  }
 },
 "nbformat": 4,
 "nbformat_minor": 5
}
