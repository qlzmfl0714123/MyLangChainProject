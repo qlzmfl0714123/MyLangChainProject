{
 "cells": [
  {
   "cell_type": "code",
   "execution_count": 1,
   "id": "deeb0c60",
   "metadata": {},
   "outputs": [],
   "source": [
    "#!pip install -q langchain langchain-openai python-dotenv"
   ]
  },
  {
   "cell_type": "code",
   "execution_count": 2,
   "id": "361392f3",
   "metadata": {},
   "outputs": [
    {
     "name": "stdout",
     "output_type": "stream",
     "text": [
      "KEY HEAD: gsk_blU\n",
      "MODEL   : llama-3.1-8b-instant\n"
     ]
    }
   ],
   "source": [
    "from dotenv import load_dotenv\n",
    "import os\n",
    "\n",
    "load_dotenv(\".env\")\n",
    "OPENAI_API_KEY = os.getenv(\"OPENAI_API_KEY\", \"\")\n",
    "\n",
    "if OPENAI_API_KEY.startswith(\"gsk_\"):\n",
    "    os.environ[\"OPENAI_BASE_URL\"] = \"https://api.groq.com/openai/v1\"\n",
    "    MODEL_NAME = \"llama-3.1-8b-instant\"   \n",
    "\n",
    "print(\"KEY HEAD:\", OPENAI_API_KEY[:7])\n",
    "print(\"MODEL   :\", MODEL_NAME)"
   ]
  },
  {
   "cell_type": "code",
   "execution_count": 3,
   "id": "08d790fc",
   "metadata": {},
   "outputs": [],
   "source": [
    "from langchain_core.prompts import (\n",
    "    FewShotChatMessagePromptTemplate,\n",
    "    ChatPromptTemplate,\n",
    ")\n",
    "\n",
    "example_prompt = ChatPromptTemplate.from_messages([\n",
    "    (\"human\", \"{news}\"),\n",
    "    (\"ai\",   \"키워드: {keywords}\")\n",
    "])\n",
    "\n",
    "examples = [\n",
    "    {\n",
    "        \"news\": \"삼성전자가 내년 초 자체 개발한 인공지능(AI) 가속기를 출시할 예정이다. 엔비디아 독점에 도전한다는 평가가 나온다.\",\n",
    "        \"keywords\": \"삼성전자, 인공지능, 엔비디아\"\n",
    "    },\n",
    "    {\n",
    "        \"news\": \"세계보건기구(WHO)는 새로운 건강 위기에 대응하기 위해 국제 협력 강화를 강조했다. 글로벌 보건 시스템 개선이 필요하다고 밝혔다.\",\n",
    "        \"keywords\": \"세계보건기구, 건강위기, 국제협력\"\n",
    "    },\n",
    "    {\n",
    "        \"news\": \"테슬라가 자율주행 소프트웨어 업데이트를 발표하며 안전 기능을 대폭 개선했다고 전했다.\",\n",
    "        \"keywords\": \"테슬라, 자율주행, 소프트웨어업데이트\"\n",
    "    },\n",
    "]\n",
    "\n",
    "few_shot_prompt = FewShotChatMessagePromptTemplate(\n",
    "    example_prompt=example_prompt,\n",
    "    examples=examples,\n",
    ")\n"
   ]
  },
  {
   "cell_type": "code",
   "execution_count": 5,
   "id": "0b4bf824",
   "metadata": {},
   "outputs": [],
   "source": [
    "from langchain_openai import ChatOpenAI\n",
    "from langchain_core.output_parsers import StrOutputParser\n",
    "\n",
    "\n",
    "llm = ChatOpenAI(\n",
    "    model=MODEL_NAME,\n",
    "    temperature=0.2,            \n",
    "    api_key=OPENAI_API_KEY,\n",
    ")\n",
    "\n",
    "final_prompt = ChatPromptTemplate.from_messages([\n",
    "    (\"system\",\n",
    "     \"너는 뉴스 키워드 추출 전문가다. 다음 규칙을 반드시 지켜라.\\n\"\n",
    "     \"1) 핵심 키워드 정확히 3개만 추출\\n\"\n",
    "     \"2) '키워드: ' 다음에 쉼표(,)로 구분된 3개만 출력\\n\"\n",
    "     \"3) 불필요한 설명 금지, 요약문 금지, 해시태그 금지\\n\"\n",
    "     \"4) 가능한 한 고유명사/핵심개념 위주로 선택\"),\n",
    "    few_shot_prompt,\n",
    "    (\"human\", \"{input}\")\n",
    "])\n",
    "\n",
    "parser = StrOutputParser()\n",
    "chain = final_prompt | llm | parser\n"
   ]
  },
  {
   "cell_type": "code",
   "execution_count": 6,
   "id": "a37740c2",
   "metadata": {},
   "outputs": [
    {
     "name": "stdout",
     "output_type": "stream",
     "text": [
      "키워드: 제미나이, 구글 AI 스튜디오, 멀티모달\n"
     ]
    }
   ],
   "source": [
    "test_news = (\n",
    "    \"제미나이 2.0 플래시는 현재 구글 AI 스튜디오(Google AI Studio) 및 \"\n",
    "    \"버텍스 AI(Vertex AI)에서 제미나이 API를 통해 개발자에게 실험 모델로 제공됩니다. \"\n",
    "    \"모든 개발자는 멀티모달 입력 및 텍스트 출력을 사용할 수 있으며, 텍스트 음성 변환(text-to-speech) \"\n",
    "    \"및 네이티브 이미지 생성은 일부 파트너들을 대상으로 제공됩니다. \"\n",
    "    \"내년 1월에는 더 많은 모델 사이즈와 함께 일반에 공개될 예정입니다.\"\n",
    ")\n",
    "\n",
    "print(chain.invoke({\"input\": test_news}))\n"
   ]
  },
  {
   "cell_type": "code",
   "execution_count": 7,
   "id": "4842ddeb",
   "metadata": {},
   "outputs": [
    {
     "name": "stdout",
     "output_type": "stream",
     "text": [
      "\n",
      "[1] 국내 기준금리가 동결되면서 부동산 시장과 주식시장의 향방에 관심이 모이고...\n",
      "키워드: 기준금리, 부동산시장, 주식시장\n",
      "\n",
      "[2] 맨체스터 시티가 프리미어리그 개막전에서 승리하며 연승 행진을 이어갔다....\n",
      "키워드: 맨체스터시티, 프리미어리그, 연승\n",
      "\n",
      "[3] 기후변화 대응을 위해 재생에너지 투자와 탄소중립 정책이 가속화되고 있다....\n",
      "키워드: 기후변화, 재생에너지, 탄소중립\n"
     ]
    }
   ],
   "source": [
    "samples = [\n",
    "    \"국내 기준금리가 동결되면서 부동산 시장과 주식시장의 향방에 관심이 모이고 있다.\",\n",
    "    \"맨체스터 시티가 프리미어리그 개막전에서 승리하며 연승 행진을 이어갔다.\",\n",
    "    \"기후변화 대응을 위해 재생에너지 투자와 탄소중립 정책이 가속화되고 있다.\",\n",
    "]\n",
    "\n",
    "for i, s in enumerate(samples, 1):\n",
    "    print(f\"\\n[{i}] {s[:40]}...\")\n",
    "    print(chain.invoke({\"input\": s}))"
   ]
  }
 ],
 "metadata": {
  "kernelspec": {
   "display_name": "mylangchain-app-SBe-Yh6W-py3.12",
   "language": "python",
   "name": "python3"
  },
  "language_info": {
   "codemirror_mode": {
    "name": "ipython",
    "version": 3
   },
   "file_extension": ".py",
   "mimetype": "text/x-python",
   "name": "python",
   "nbconvert_exporter": "python",
   "pygments_lexer": "ipython3",
   "version": "3.12.7"
  }
 },
 "nbformat": 4,
 "nbformat_minor": 5
}
