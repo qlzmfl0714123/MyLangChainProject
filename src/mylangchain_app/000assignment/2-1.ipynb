{
 "cells": [
  {
   "cell_type": "code",
   "execution_count": 1,
   "id": "25c25181",
   "metadata": {},
   "outputs": [],
   "source": [
    "# %pip install -q langchain langchain-openai langchain-community \"pydantic>=2\""
   ]
  },
  {
   "cell_type": "code",
   "execution_count": 2,
   "id": "cefc66b9",
   "metadata": {},
   "outputs": [],
   "source": [
    "from typing import List\n",
    "from langchain_core.prompts import PromptTemplate\n",
    "from langchain_openai import ChatOpenAI\n",
    "from langchain_core.output_parsers import CommaSeparatedListOutputParser\n",
    "\n",
    "def build_llm(model_name: str = \"gpt-4o-mini\", temperature: float = 0.2):\n",
    "    return ChatOpenAI(model=model_name, temperature=temperature)\n",
    "\n",
    "def recommend_korea_items(topic: str, llm=None) -> List[str]:\n",
    "    \"\"\"\n",
    "    사용자 관심 분야(topic)를 받아,\n",
    "    한국의 유명한 장소/활동 5개를 콤마 구분 리스트로 파싱해서 반환.\n",
    "    \"\"\"\n",
    "    llm = llm or build_llm()\n",
    "    parser = CommaSeparatedListOutputParser()\n",
    "    fmt = parser.get_format_instructions()\n",
    "\n",
    "    prompt = PromptTemplate(\n",
    "        template=(\n",
    "            \"\"\"\n",
    "            너의 임무는 사용자가 입력한 관심 분야와 관련된 **한국의 유명한 장소 또는 활동** 5가지를 제안하는 것이다.\n",
    "            - 반드시 한국과 연관된 항목만 제시할 것\n",
    "            - 중복 없이 5개 정확히\n",
    "            - {format_instructions}\n",
    "\n",
    "            관심 분야: {topic}\n",
    "            \"\"\"\n",
    "        ),\n",
    "        input_variables=[\"topic\"],\n",
    "        partial_variables={\"format_instructions\": fmt},\n",
    "    )\n",
    "\n",
    "    chain = prompt | llm | parser\n",
    "    result = chain.invoke({\"topic\": topic})\n",
    "\n",
    "    if isinstance(result, list):\n",
    "        return result[:5]\n",
    "    return result\n"
   ]
  },
  {
   "cell_type": "code",
   "execution_count": 3,
   "id": "4eba9473",
   "metadata": {},
   "outputs": [
    {
     "name": "stdout",
     "output_type": "stream",
     "text": [
      "['김치전', '비빔밥', '떡볶이', '한정식', '삼겹살']\n"
     ]
    }
   ],
   "source": [
    "user_topic = input('관심 분야를 입력하세요 (예: 음식, 스포츠, 영화 등): ').strip()\n",
    "if not user_topic:\n",
    "    user_topic = \"음식\" \n",
    "\n",
    "items = recommend_korea_items(user_topic)\n",
    "print(items) "
   ]
  },
  {
   "cell_type": "code",
   "execution_count": null,
   "id": "c360ff48",
   "metadata": {},
   "outputs": [],
   "source": []
  }
 ],
 "metadata": {
  "kernelspec": {
   "display_name": "mylangchain-app-SBe-Yh6W-py3.12",
   "language": "python",
   "name": "python3"
  },
  "language_info": {
   "codemirror_mode": {
    "name": "ipython",
    "version": 3
   },
   "file_extension": ".py",
   "mimetype": "text/x-python",
   "name": "python",
   "nbconvert_exporter": "python",
   "pygments_lexer": "ipython3",
   "version": "3.12.7"
  }
 },
 "nbformat": 4,
 "nbformat_minor": 5
}
