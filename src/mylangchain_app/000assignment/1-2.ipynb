{
 "cells": [
  {
   "cell_type": "code",
   "execution_count": 1,
   "id": "356b1596",
   "metadata": {},
   "outputs": [],
   "source": [
    "#!pip install -q langchain langchain-openai python-dotenv"
   ]
  },
  {
   "cell_type": "code",
   "execution_count": 4,
   "id": "8f262a8b",
   "metadata": {},
   "outputs": [
    {
     "name": "stdout",
     "output_type": "stream",
     "text": [
      "KEY HEAD: gsk_\n",
      "MODEL  : llama-3.1-8b-instant\n"
     ]
    }
   ],
   "source": [
    "from dotenv import load_dotenv\n",
    "import os\n",
    "\n",
    "load_dotenv(\".env\")\n",
    "OPENAI_API_KEY = os.getenv(\"OPENAI_API_KEY\", \"\")\n",
    "\n",
    "\n",
    "if OPENAI_API_KEY.startswith(\"gsk_\"):\n",
    "    os.environ[\"OPENAI_BASE_URL\"] = \"https://api.groq.com/openai/v1\"\n",
    "    MODEL_NAME = \"llama-3.1-8b-instant\"     \n",
    "\n",
    "\n",
    "print(\"KEY HEAD:\", OPENAI_API_KEY[:4])\n",
    "print(\"MODEL  :\", MODEL_NAME)\n"
   ]
  },
  {
   "cell_type": "code",
   "execution_count": 5,
   "id": "edb3cec9",
   "metadata": {},
   "outputs": [],
   "source": [
    "from langchain_openai import ChatOpenAI\n",
    "from langchain_core.prompts import ChatPromptTemplate\n",
    "from langchain_core.output_parsers import StrOutputParser\n",
    "\n",
    "llm = ChatOpenAI(\n",
    "    model=MODEL_NAME,\n",
    "    temperature=0.3,           # 추천 일관성 ↑\n",
    "    api_key=OPENAI_API_KEY,\n",
    ")\n",
    "\n",
    "stage1_prompt = ChatPromptTemplate.from_messages([\n",
    "    (\"system\",\n",
    "     \"너는 세계 여행 도우미야. 사용자가 말한 여행지(도시/국가)를 보고, \"\n",
    "     \"그곳에서 꼭 가볼 만한 대표 **관광 명소 하나**만 골라.\"),\n",
    "    (\"user\",\n",
    "     \"여행지: {place}\\n\\n규칙: 추가 설명 없이 **명소 이름만** 한 줄로 출력해.\")\n",
    "])\n",
    "\n",
    "stage1_chain = stage1_prompt | llm | StrOutputParser()\n"
   ]
  },
  {
   "cell_type": "code",
   "execution_count": 6,
   "id": "e96dfae0",
   "metadata": {},
   "outputs": [],
   "source": [
    "from langchain_openai import ChatOpenAI\n",
    "from langchain_core.prompts import ChatPromptTemplate\n",
    "from langchain_core.output_parsers import StrOutputParser\n",
    "\n",
    "llm = ChatOpenAI(\n",
    "    model=MODEL_NAME,\n",
    "    temperature=0.3,          \n",
    "    api_key=OPENAI_API_KEY,\n",
    ")\n",
    "\n",
    "stage1_prompt = ChatPromptTemplate.from_messages([\n",
    "    (\"system\",\n",
    "     \"너는 세계 여행 도우미야. 사용자가 말한 여행지(도시/국가)를 보고, \"\n",
    "     \"그곳에서 꼭 가볼 만한 대표 **관광 명소 하나**만 골라.\"),\n",
    "    (\"user\",\n",
    "     \"여행지: {place}\\n\\n규칙: 추가 설명 없이 **명소 이름만** 한 줄로 출력해.\")\n",
    "])\n",
    "\n",
    "stage1_chain = stage1_prompt | llm | StrOutputParser()"
   ]
  },
  {
   "cell_type": "code",
   "execution_count": 7,
   "id": "bec0cb92",
   "metadata": {},
   "outputs": [],
   "source": [
    "stage2_prompt = ChatPromptTemplate.from_messages([\n",
    "    (\"system\",\n",
    "     \"너는 여행 가이드야. 주어진 명소에 대해 정확하고 간결하게 설명해.\"),\n",
    "    (\"user\",\n",
    "     \"여행지: {place}\\n\"\n",
    "     \"명소: {landmark}\\n\\n\"\n",
    "     \"아래 형식 그대로 한국어로 작성해줘.\\n\\n\"\n",
    "     \"명소: {landmark}\\n\"\n",
    "     \"역사:\\n\"\n",
    "     \"1. ...\\n2. ...\\n3. ...\\n\"\n",
    "     \"특징:\\n\"\n",
    "     \"1. ...\\n2. ...\\n3. ...\\n\"\n",
    "     \"방문 팁:\\n\"\n",
    "     \"1. ...\\n2. ...\\n3. ...\\n\")\n",
    "])\n",
    "\n",
    "stage2_chain = stage2_prompt | llm | StrOutputParser()\n"
   ]
  },
  {
   "cell_type": "code",
   "execution_count": 8,
   "id": "2fdfaa94",
   "metadata": {},
   "outputs": [
    {
     "name": "stdout",
     "output_type": "stream",
     "text": [
      "[1단계 결과] 추천 명소: 콜로세움\n",
      "\n",
      "[2단계 결과]\n",
      "명소: 콜로세움\n",
      "\n",
      "역사:\n",
      "1. 콜로세움은 로마 제국의 황제 베스파시아누스와 그의 아들 티투스에 의해 72년부터 80년 사이에 지어졌습니다. 이 건물은 로마의 황제들이 개최하던 경기와 공연을 위해 지어졌으며, 로마 제국의 가장 대표적인 건축물 중 하나입니다.\n",
      "2. 콜로세움은 로마의 황제들이 개최하던 경기와 공연을 위해 지어졌으며, 로마 제국의 가장 대표적인 건축물 중 하나입니다. 이 건물은 로마의 황제들이 개최하던 경기와 공연을 위해 지어졌으며, 로마 제국의 가장 대표적인 건축물 중 하나입니다.\n",
      "3. 콜로세움은 로마의 황제들이 개최하던 경기와 공연을 위해 지어졌으며, 로마 제국의 가장 대표적인 건축물 중 하나입니다.\n",
      "\n",
      "특징:\n",
      "1. 콜로세움은 로마 제국의 가장 대표적인 건축물 중 하나로, 50,000명 이상의 관중을 수용할 수 있는 대형 경기장입니다.\n",
      "2. 콜로세움은 로마 제국의 가장 대표적인 건축물 중 하나로, 50,000명 이상의 관중을 수용할 수 있는 대형 경기장입니다.\n",
      "3. 콜로세움은 로마 제국의 가장 대표적인 건축물 중 하나로, 50,000명 이상의 관중을 수용할 수 있는 대형 경기장입니다.\n",
      "\n",
      "방문 팁:\n",
      "1. 콜로세움은 로마의 가장 대표적인 명소 중 하나로, 방문객이 많습니다. 따라서 방문하기 전에 시간을 예약하고, 관광객이 많은 시간을 피하는 것이 좋습니다.\n",
      "2. 콜로세움은 로마의 가장 대표적인 명소 중 하나로, 방문객이 많습니다. 따라서 방문하기 전에 시간을 예약하고, 관광객이 많은 시간을 피하는 것이 좋습니다.\n",
      "3. 콜로세움은 로마의 가장 대표적인 명소 중 하나로, 방문객이 많습니다. 따라서 방문하기 전에 시간을 예약하고, 관광객이 많은 시간을 피하는 것이 좋습니다.\n"
     ]
    }
   ],
   "source": [
    "from langchain_core.runnables import RunnableLambda, RunnablePassthrough\n",
    "\n",
    "\n",
    "linked_chain = (\n",
    "    {\"place\": RunnablePassthrough()}           \n",
    "    | {\n",
    "        \"landmark\": stage1_chain,\n",
    "        \"place\": RunnablePassthrough(),         \n",
    "      }\n",
    "    | stage2_chain\n",
    ")\n",
    "\n",
    "def run_travel_info(place: str):\n",
    "    \n",
    "    landmark = stage1_chain.invoke({\"place\": place}).strip()\n",
    "    print(f\"[1단계 결과] 추천 명소: {landmark}\\n\")\n",
    "\n",
    "    details = stage2_chain.invoke({\"place\": place, \"landmark\": landmark})\n",
    "    print(\"[2단계 결과]\")\n",
    "    print(details)\n",
    "\n",
    "run_travel_info(\"로마\")\n"
   ]
  },
  {
   "cell_type": "code",
   "execution_count": 9,
   "id": "b1b66522",
   "metadata": {},
   "outputs": [
    {
     "name": "stdout",
     "output_type": "stream",
     "text": [
      "\n",
      "============================================================\n",
      "[1단계 결과] 추천 명소: 타임스 스퀘어\n",
      "\n",
      "[2단계 결과]\n",
      "명소: 타임스 스퀘어\n",
      "\n",
      "역사:\n",
      "1. 1904년 뉴욕 타임즈가 본사를 두고 있는 곳으로 처음 이름이 붙여졌습니다.\n",
      "2. 1920년대에 현재의 모습으로 재건되었습니다.\n",
      "3. 1970년대부터 1980년대까지는 뉴욕의 중심부로 급성장하여 세계적인 명소로 자리잡았습니다.\n",
      "\n",
      "특징:\n",
      "1. 뉴욕 타임즈의 본사 건물이 위치하고 있습니다.\n",
      "2. 타임스 스퀘어는 뉴욕의 중심부에 위치하여 다양한 관광 명소와 상점이 밀집되어 있습니다.\n",
      "3. 타임스 스퀘어는 뉴욕의 대표적인 랜드마크 중 하나로 세계적인 명소로 유명합니다.\n",
      "\n",
      "방문 팁:\n",
      "1. 타임스 스퀘어는 뉴욕의 중심부에 위치하여 지하철역이 가까이 있습니다. 따라서 쉽게 접근할 수 있습니다.\n",
      "2. 타임스 스퀘어는 다양한 관광 명소와 상점이 밀집되어 있습니다. 따라서 많은 시간을 투자하여 관광 명소와 상점을 둘러보는 것을 추천합니다.\n",
      "3. 타임스 스퀘어는 뉴욕의 대표적인 랜드마크 중 하나로 사진을 찍기 좋은 장소입니다. 따라서 카메라를 준비하여 사진을 찍는 것을 추천합니다.\n",
      "\n",
      "============================================================\n",
      "[1단계 결과] 추천 명소: 센토시지\n",
      "\n",
      "[2단계 결과]\n",
      "명소: 센토시지\n",
      "\n",
      "역사:\n",
      "1. 센토시지는 1964년 도쿄 올림픽을 위해 지어졌으며, 그 이후로 일본의 대표적인 공원으로 자리 잡고 있습니다.\n",
      "2. 이 공원은 1969년 센토시지로 개명되었습니다.\n",
      "3. 센토시지는 도쿄의 대표적인 관광 명소 중 하나로, 매년 수백만 명의 방문객이 찾고 있습니다.\n",
      "\n",
      "특징:\n",
      "1. 센토시지는 도쿄의 중심부에 위치해 있으며, 도쿄 타워와 센토시지의 아름다운 경관을 감상할 수 있습니다.\n",
      "2. 센토시지는 다양한 식당과 상점이 있는 쇼핑 거리인 센토시지 구역을 가지고 있습니다.\n",
      "3. 센토시지는 다양한 문화 행사와 이벤트를 개최하는 곳으로, 방문객들은 다양한 프로그램을 즐길 수 있습니다.\n",
      "\n",
      "방문 팁:\n",
      "1. 센토시지는 도쿄의 중심부에 위치해 있기 때문에, 지하철역이 많습니다. 따라서, 지하철을 이용하여 센토시지에 방문하는 것이 편리합니다.\n",
      "2. 센토시지는 매년 다양한 문화 행사와 이벤트를 개최하므로, 방문 전 센토시지의 공식 홈페이지를 확인하여 프로그램을 확인하는 것이 좋습니다.\n",
      "3. 센토시지는 밤에 더욱 아름답습니다. 방문객들은 밤에 센토시지를 방문하여 아름다운 경관을 감상할 수 있습니다.\n",
      "\n",
      "============================================================\n",
      "[1단계 결과] 추천 명소: 경복궁\n",
      "\n",
      "[2단계 결과]\n",
      "명소: 경복궁\n",
      "\n",
      "역사:\n",
      "1. 경복궁은 조선 시대에 왕실의 공식 궁전으로 사용된 곳입니다. 1395년 조선 왕조가 시작되면서 처음 지어졌으며, 1910년까지 왕실의 공식 궁전으로 사용되었습니다.\n",
      "2. 경복궁은 조선 왕조의 역사와 문화를 대표하는 대표적인 궁전입니다. 왕실의 공식 행사와 의식이 진행되었으며, 왕실의 생활과 문화를 보여주는 중요한 역할을 했습니다.\n",
      "3. 경복궁은 한국의 역사와 문화를 공부하고 싶은 사람들에게 중요한 교육적 가치가 있습니다.\n",
      "\n",
      "특징:\n",
      "1. 경복궁은 조선 왕조의 궁전으로 건축된 대표적인 건축물입니다. 왕실의 공식 궁전으로 사용되었기 때문에 건축양식과 장식이 매우 화려하고 세련되었습니다.\n",
      "2. 경복궁은 조선 왕조의 역사와 문화를 대표하는 대표적인 궁전입니다. 왕실의 공식 행사와 의식이 진행되었으며, 왕실의 생활과 문화를 보여주는 중요한 역할을 했습니다.\n",
      "3. 경복궁은 한국의 역사와 문화를 공부하고 싶은 사람들에게 중요한 교육적 가치가 있습니다.\n",
      "\n",
      "방문 팁:\n",
      "1. 경복궁은 서울의 중심부에 위치하고 있기 때문에 교통이 편리합니다. 지하철 3호선의 경복궁역에서 내리면 쉽게 갈 수 있습니다.\n",
      "2. 경복궁은 아침 9시부터 저녁 6시까지 방문할 수 있습니다. 방문하려는 경우 시간을 조절해 주세요.\n",
      "3. 경복궁은 조선 왕조의 역사와 문화를 공부하고 싶은 사람들에게 중요한 교육적 가치가 있습니다. 방문할 때는 역사와 문화에 대한 정보를 얻으세요.\n"
     ]
    }
   ],
   "source": [
    "for p in [\"뉴욕\", \"도쿄\", \"서울\"]:\n",
    "    print(\"\\n\" + \"=\"*60)\n",
    "    run_travel_info(p)\n"
   ]
  }
 ],
 "metadata": {
  "kernelspec": {
   "display_name": "mylangchain-app-SBe-Yh6W-py3.12",
   "language": "python",
   "name": "python3"
  },
  "language_info": {
   "codemirror_mode": {
    "name": "ipython",
    "version": 3
   },
   "file_extension": ".py",
   "mimetype": "text/x-python",
   "name": "python",
   "nbconvert_exporter": "python",
   "pygments_lexer": "ipython3",
   "version": "3.12.7"
  }
 },
 "nbformat": 4,
 "nbformat_minor": 5
}
