{
 "cells": [
  {
   "cell_type": "code",
   "execution_count": 1,
   "id": "98fe8159",
   "metadata": {},
   "outputs": [],
   "source": [
    "from typing import List, Dict, Any\n",
    "\n",
    "from langchain_core.prompts import PromptTemplate\n",
    "from langchain_openai import ChatOpenAI\n",
    "\n",
    "try:\n",
    "    \n",
    "    from langchain_core.output_parsers import StructuredOutputParser, ResponseSchema\n",
    "except ImportError:\n",
    "    \n",
    "    from langchain.output_parsers import StructuredOutputParser, ResponseSchema\n",
    "\n",
    "def build_llm(model_name: str = \"gpt-4o-mini\", temperature: float = 0.0):\n",
    "    \"\"\"필요시 모델명 변경 가능 (예: gpt-4o).\"\"\"\n",
    "    return ChatOpenAI(model=model_name, temperature=temperature)\n"
   ]
  },
  {
   "cell_type": "code",
   "execution_count": 2,
   "id": "0b8fa75d",
   "metadata": {},
   "outputs": [],
   "source": [
    "def normalize_trip_result(d: Dict[str, Any]) -> Dict[str, Any]:\n",
    "    \"\"\"후처리:\n",
    "    - 활동이 문자열이면 리스트로 바꾸기\n",
    "    - rating이 '4점', '4/5' 같은 표현이면 숫자/문자 '4'로 정규화\n",
    "    - 필드 공백 제거\n",
    "    \"\"\"\n",
    "    if not isinstance(d, dict):\n",
    "        return d\n",
    "\n",
    "    out = dict(d)\n",
    "\n",
    "   \n",
    "    for k in [\"destination\", \"duration\", \"budget\", \"rating\"]:\n",
    "        if k in out and isinstance(out[k], str):\n",
    "            out[k] = out[k].strip()\n",
    "\n",
    "    \n",
    "    acts = out.get(\"activities\")\n",
    "    if isinstance(acts, str):\n",
    "       \n",
    "        parts = [p.strip() for p in acts.replace(\"·\", \",\").replace(\"|\", \",\").split(\",\") if p.strip()]\n",
    "        out[\"activities\"] = parts\n",
    "    elif acts is None:\n",
    "        out[\"activities\"] = []\n",
    "    elif isinstance(acts, list):\n",
    "        out[\"activities\"] = [str(x).strip() for x in acts]\n",
    "\n",
    "    \n",
    "    r = out.get(\"rating\")\n",
    "    if isinstance(r, str):\n",
    "        import re\n",
    "        m = re.search(r\"([1-5])\", r)\n",
    "        if m:\n",
    "            out[\"rating\"] = m.group(1)\n",
    "\n",
    "    return out\n",
    "\n",
    "\n",
    "def parse_trip_text(text: str, llm=None) -> Dict[str, Any]:\n",
    "    \"\"\"\n",
    "    여행 후기/계획 텍스트에서 다음 필드를 구조화:\n",
    "    - destination (여행지)\n",
    "    - duration (기간)\n",
    "    - budget (예산)\n",
    "    - rating (추천도 1~5)\n",
    "    - activities (주요 활동 리스트)\n",
    "    \"\"\"\n",
    "    llm = llm or build_llm()\n",
    "\n",
    "    schemas = [\n",
    "        ResponseSchema(name=\"destination\", description=\"여행지 이름(도시/지역)\"),\n",
    "        ResponseSchema(name=\"duration\", description=\"기간(예: 2박 3일, 3일, 주말 등)\"),\n",
    "        ResponseSchema(name=\"budget\", description=\"예산(예: 30만원, 50만 원 등)\"),\n",
    "        ResponseSchema(name=\"rating\", description=\"추천도(1~5) 문자열 또는 숫자 허용\"),\n",
    "        ResponseSchema(name=\"activities\", description=\"주요 활동 리스트 (문장이라면 항목으로 분해)\"),\n",
    "    ]\n",
    "    parser = StructuredOutputParser.from_response_schemas(schemas)\n",
    "    fmt = parser.get_format_instructions()\n",
    "\n",
    "    prompt = PromptTemplate(\n",
    "        template=(\n",
    "            \"\"\"\n",
    "            다음 여행 후기/계획 텍스트에서 핵심 정보를 추출하라.\n",
    "            필수 필드: destination, duration, budget, rating, activities(list)\n",
    "            - activities는 가능한 한 자연스러운 항목 리스트로 분리\n",
    "            {format_instructions}\n",
    "\n",
    "            텍스트: {text}\n",
    "            \"\"\"\n",
    "        ),\n",
    "        input_variables=[\"text\"],\n",
    "        partial_variables={\"format_instructions\": fmt},\n",
    "    )\n",
    "\n",
    "    chain = prompt | llm | parser\n",
    "    raw = chain.invoke({\"text\": text})\n",
    "    return normalize_trip_result(raw)\n"
   ]
  },
  {
   "cell_type": "code",
   "execution_count": 3,
   "id": "487c56a1",
   "metadata": {},
   "outputs": [
    {
     "data": {
      "text/plain": [
       "{'destination': '부산',\n",
       " 'duration': '2박 3일',\n",
       " 'budget': '30만원',\n",
       " 'rating': '4',\n",
       " 'activities': ['해운대에서 바다구경', '자갈치시장에서 회 먹기', '감천문화마을 구경']}"
      ]
     },
     "execution_count": 3,
     "metadata": {},
     "output_type": "execute_result"
    }
   ],
   "source": [
    "trip_sample = (\n",
    "    \"지난 주에 부산으로 2박 3일 여행을 다녀왔어요. 총 30만원 정도 썼는데 \"\n",
    "    \"해운대에서 바다구경하고, 자갈치시장에서 회 먹고, 감천문화마을도 구경했어요. \"\n",
    "    \"정말 만족스러운 여행이었습니다. 5점 만점에 4점 정도 줄 수 있을 것 같아요.\"\n",
    ")\n",
    "\n",
    "parsed = parse_trip_text(trip_sample)\n",
    "parsed\n"
   ]
  },
  {
   "cell_type": "code",
   "execution_count": null,
   "id": "6df344c0",
   "metadata": {},
   "outputs": [],
   "source": []
  }
 ],
 "metadata": {
  "kernelspec": {
   "display_name": "mylangchain-app-SBe-Yh6W-py3.12",
   "language": "python",
   "name": "python3"
  },
  "language_info": {
   "codemirror_mode": {
    "name": "ipython",
    "version": 3
   },
   "file_extension": ".py",
   "mimetype": "text/x-python",
   "name": "python",
   "nbconvert_exporter": "python",
   "pygments_lexer": "ipython3",
   "version": "3.12.7"
  }
 },
 "nbformat": 4,
 "nbformat_minor": 5
}
