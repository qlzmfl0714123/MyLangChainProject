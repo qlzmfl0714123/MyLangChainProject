{
 "cells": [
  {
   "cell_type": "code",
   "execution_count": null,
   "id": "d99414f4",
   "metadata": {},
   "outputs": [],
   "source": [
    "# %pip install -q \"pydantic>=2\" langchain langchain-openai langchain-community"
   ]
  },
  {
   "cell_type": "code",
   "execution_count": 2,
   "id": "2a420df5",
   "metadata": {},
   "outputs": [],
   "source": [
    "from typing import List\n",
    "from pydantic import BaseModel, Field\n",
    "\n",
    "from langchain_core.prompts import PromptTemplate\n",
    "from langchain_openai import ChatOpenAI\n",
    "\n",
    "\n",
    "try:\n",
    "    from langchain_core.output_parsers import PydanticOutputParser\n",
    "except ImportError:\n",
    "    \n",
    "    from langchain.output_parsers import PydanticOutputParser  # fallback\n",
    "\n",
    "\n",
    "class StudentInfo(BaseModel):\n",
    "    name: str = Field(description=\"학생 이름\")\n",
    "    age: int = Field(description=\"나이(정수)\")\n",
    "    major: str = Field(description=\"전공\")\n",
    "    hobbies: List[str] = Field(description=\"취미 리스트\")\n",
    "    goal: str = Field(description=\"장래 목표 또는 계획\")\n",
    "\n",
    "\n",
    "def build_llm(model_name: str = \"gpt-4o-mini\", temperature: float = 0.0):\n",
    "    return ChatOpenAI(model=model_name, temperature=temperature)\n"
   ]
  },
  {
   "cell_type": "code",
   "execution_count": 3,
   "id": "a585a6a6",
   "metadata": {},
   "outputs": [],
   "source": [
    "def parse_student_bio(bio: str, llm=None) -> StudentInfo:\n",
    "    \"\"\"\n",
    "    자유 형식 자기소개(bio)에서\n",
    "    name(str), age(int), major(str), hobbies(list[str]), goal(str)을 추출해 StudentInfo로 반환.\n",
    "    \"\"\"\n",
    "    llm = llm or build_llm()\n",
    "\n",
    "    \n",
    "    parser = PydanticOutputParser(pydantic_object=StudentInfo)\n",
    "    fmt = parser.get_format_instructions()  \n",
    "    \n",
    "    prompt = PromptTemplate(\n",
    "        template=(\n",
    "            \"\"\"\n",
    "            아래 자유 형식 자기소개에서 학생 정보를 구조화해라.\n",
    "            필드: name(str), age(int), major(str), hobbies(list[str]), goal(str)\n",
    "            {format_instructions}\n",
    "\n",
    "            자기소개: {bio}\n",
    "            \"\"\"\n",
    "        ),\n",
    "        input_variables=[\"bio\"],\n",
    "        partial_variables={\"format_instructions\": fmt},\n",
    "    )\n",
    "\n",
    "    chain = prompt | llm | parser\n",
    "    return chain.invoke({\"bio\": bio})\n"
   ]
  },
  {
   "cell_type": "code",
   "execution_count": 4,
   "id": "0b19c73f",
   "metadata": {},
   "outputs": [
    {
     "name": "stdout",
     "output_type": "stream",
     "text": [
      "{'name': '김민수', 'age': 22, 'major': '컴퓨터공학', 'hobbies': ['게임하기', '영화보기', '코딩'], 'goal': '훌륭한 개발자가 되는 것'}\n"
     ]
    }
   ],
   "source": [
    "sample = (\n",
    "    \"안녕하세요! 저는 김민수이고 22살입니다. 컴퓨터공학을 전공하고 있어요. \"\n",
    "    \"취미로는 게임하기, 영화보기, 코딩을 좋아합니다. 앞으로 훌륭한 개발자가 되는 것이 목표입니다.\"\n",
    ")\n",
    "\n",
    "result = parse_student_bio(sample)\n",
    "print(result.model_dump())  \n"
   ]
  }
 ],
 "metadata": {
  "kernelspec": {
   "display_name": "mylangchain-app-SBe-Yh6W-py3.12",
   "language": "python",
   "name": "python3"
  },
  "language_info": {
   "codemirror_mode": {
    "name": "ipython",
    "version": 3
   },
   "file_extension": ".py",
   "mimetype": "text/x-python",
   "name": "python",
   "nbconvert_exporter": "python",
   "pygments_lexer": "ipython3",
   "version": "3.12.7"
  }
 },
 "nbformat": 4,
 "nbformat_minor": 5
}
