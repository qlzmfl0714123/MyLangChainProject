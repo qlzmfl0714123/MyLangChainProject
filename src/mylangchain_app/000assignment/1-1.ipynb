{
 "cells": [
  {
   "cell_type": "code",
   "execution_count": 1,
   "id": "95604afb",
   "metadata": {},
   "outputs": [],
   "source": [
    "#!pip install -q langchain langchain-openai python-dotenv"
   ]
  },
  {
   "cell_type": "code",
   "execution_count": 2,
   "id": "40a7ba77",
   "metadata": {},
   "outputs": [
    {
     "name": "stdout",
     "output_type": "stream",
     "text": [
      "KEY HEAD: gsk_blU\n"
     ]
    }
   ],
   "source": [
    "import os\n",
    "from dotenv import load_dotenv\n",
    "\n",
    "load_dotenv(dotenv_path=\".env\")\n",
    "\n",
    "OPENAI_API_KEY = os.getenv(\"OPENAI_API_KEY\", \"\")\n",
    "print(\"KEY HEAD:\", OPENAI_API_KEY[:7]) \n",
    "\n",
    "if OPENAI_API_KEY.startswith(\"gsk_\"):\n",
    "    os.environ[\"OPENAI_BASE_URL\"] = \"https://api.groq.com/openai/v1\""
   ]
  },
  {
   "cell_type": "code",
   "execution_count": 5,
   "id": "04b63129",
   "metadata": {},
   "outputs": [],
   "source": [
    "from langchain_openai import ChatOpenAI\n",
    "from langchain_core.prompts import ChatPromptTemplate\n",
    "from langchain_core.output_parsers import StrOutputParser\n",
    "\n",
    "# ✅ ChatOpenAI 그대로 사용 (Groq 키면 위에서 base URL을 Groq로 설정했으니 호환됨)\n",
    "llm = ChatOpenAI(\n",
    "    model=\"llama-3.3-70b-versatile\" if OPENAI_API_KEY.startswith(\"gsk_\") else \"gpt-4o-mini\",\n",
    "    temperature=0.7,\n",
    "    api_key=OPENAI_API_KEY,\n",
    "    # base_url=os.getenv(\"OPENAI_BASE_URL\")  # 필요 시 인자로도 가능 (환경변수 이미 설정함)\n",
    ")\n",
    "\n",
    "prompt = ChatPromptTemplate.from_template(\n",
    "    \"\"\"\n",
    "당신은 친절한 요리사입니다.\n",
    "사용자가 준 재료만 활용해서 만들 수 있는 한 가지 요리를 한국어로 추천하고,\n",
    "간단한 레시피를 단계별로 써 주세요.\n",
    "\n",
    "형식:\n",
    "추천 요리: <요리명>\n",
    "재료: <사용한 재료, 콤마로>\n",
    "조리법:\n",
    "1. ...\n",
    "2. ...\n",
    "3. ...\n",
    "\n",
    "[재료] {ingredients}\n",
    "\"\"\"\n",
    ")\n",
    "\n",
    "parser = StrOutputParser()\n",
    "\n",
    "# LCEL 파이프라인\n",
    "chain = prompt | llm | parser\n"
   ]
  },
  {
   "cell_type": "code",
   "execution_count": 6,
   "id": "6cc09e7f",
   "metadata": {},
   "outputs": [
    {
     "name": "stdout",
     "output_type": "stream",
     "text": [
      "추천 요리: 김치 계란밥\n",
      "재료: 계란, 밥, 김치\n",
      "조리법:\n",
      "1. 김치를 잘게 다져서 준비합니다.\n",
      "2. 계란을 풀어주세요. 소금과 후추로 간을 맞춥니다.\n",
      "3. 밥에 다져놓은 김치를 넣고 계란을 넣어 잘 섞습니다.\n",
      "4. 프라이팬에 기름을 두르고 열을 올려 계란이 조금 익으면 밥과 김치를 넣어 잘 볶아줍니다.\n",
      "5. 완성된 김치 계란밥을 접시에 담고 시원한 국이나 다른 반찬과 함께 즐기세요!\n"
     ]
    }
   ],
   "source": [
    "user_ingredients = \"계란, 밥, 김치\"\n",
    "result = chain.invoke({\"ingredients\": user_ingredients})\n",
    "print(result)"
   ]
  }
 ],
 "metadata": {
  "kernelspec": {
   "display_name": "mylangchain-app-SBe-Yh6W-py3.12",
   "language": "python",
   "name": "python3"
  },
  "language_info": {
   "codemirror_mode": {
    "name": "ipython",
    "version": 3
   },
   "file_extension": ".py",
   "mimetype": "text/x-python",
   "name": "python",
   "nbconvert_exporter": "python",
   "pygments_lexer": "ipython3",
   "version": "3.12.7"
  }
 },
 "nbformat": 4,
 "nbformat_minor": 5
}
